{
 "cells": [
  {
   "cell_type": "markdown",
   "id": "e2ee0d9e",
   "metadata": {},
   "source": [
    "# DATASET 1 WITH PCA"
   ]
  },
  {
   "cell_type": "code",
   "execution_count": null,
   "id": "47fecdb4",
   "metadata": {},
   "outputs": [],
   "source": [
    "# Random forest: 0.9807692307692307\n",
    "# Decision tree: 0.9615384615384616\n",
    "# Naive bayes:\n",
    "# KNN: 0.9519230769230769\n",
    "# Logistic regression: 0.9230769230769231\n",
    "# Gradient boosting: 0.9903846153846154\n",
    "# SVM: 0.9519230769230769"
   ]
  },
  {
   "cell_type": "code",
   "execution_count": 19,
   "id": "4ec7680a",
   "metadata": {},
   "outputs": [],
   "source": [
    "import pandas as pd"
   ]
  },
  {
   "cell_type": "code",
   "execution_count": 20,
   "id": "1b2c2e88",
   "metadata": {},
   "outputs": [
    {
     "data": {
      "text/html": [
       "<div>\n",
       "<style scoped>\n",
       "    .dataframe tbody tr th:only-of-type {\n",
       "        vertical-align: middle;\n",
       "    }\n",
       "\n",
       "    .dataframe tbody tr th {\n",
       "        vertical-align: top;\n",
       "    }\n",
       "\n",
       "    .dataframe thead th {\n",
       "        text-align: right;\n",
       "    }\n",
       "</style>\n",
       "<table border=\"1\" class=\"dataframe\">\n",
       "  <thead>\n",
       "    <tr style=\"text-align: right;\">\n",
       "      <th></th>\n",
       "      <th>Age</th>\n",
       "      <th>Gender</th>\n",
       "      <th>Polyuria</th>\n",
       "      <th>Polydipsia</th>\n",
       "      <th>sudden weight loss</th>\n",
       "      <th>weakness</th>\n",
       "      <th>Polyphagia</th>\n",
       "      <th>Genital thrush</th>\n",
       "      <th>visual blurring</th>\n",
       "      <th>Itching</th>\n",
       "      <th>Irritability</th>\n",
       "      <th>delayed healing</th>\n",
       "      <th>partial paresis</th>\n",
       "      <th>muscle stiffness</th>\n",
       "      <th>Alopecia</th>\n",
       "      <th>Obesity</th>\n",
       "      <th>class</th>\n",
       "    </tr>\n",
       "  </thead>\n",
       "  <tbody>\n",
       "    <tr>\n",
       "      <th>0</th>\n",
       "      <td>40</td>\n",
       "      <td>Male</td>\n",
       "      <td>No</td>\n",
       "      <td>Yes</td>\n",
       "      <td>No</td>\n",
       "      <td>Yes</td>\n",
       "      <td>No</td>\n",
       "      <td>No</td>\n",
       "      <td>No</td>\n",
       "      <td>Yes</td>\n",
       "      <td>No</td>\n",
       "      <td>Yes</td>\n",
       "      <td>No</td>\n",
       "      <td>Yes</td>\n",
       "      <td>Yes</td>\n",
       "      <td>Yes</td>\n",
       "      <td>Positive</td>\n",
       "    </tr>\n",
       "    <tr>\n",
       "      <th>1</th>\n",
       "      <td>58</td>\n",
       "      <td>Male</td>\n",
       "      <td>No</td>\n",
       "      <td>No</td>\n",
       "      <td>No</td>\n",
       "      <td>Yes</td>\n",
       "      <td>No</td>\n",
       "      <td>No</td>\n",
       "      <td>Yes</td>\n",
       "      <td>No</td>\n",
       "      <td>No</td>\n",
       "      <td>No</td>\n",
       "      <td>Yes</td>\n",
       "      <td>No</td>\n",
       "      <td>Yes</td>\n",
       "      <td>No</td>\n",
       "      <td>Positive</td>\n",
       "    </tr>\n",
       "    <tr>\n",
       "      <th>2</th>\n",
       "      <td>41</td>\n",
       "      <td>Male</td>\n",
       "      <td>Yes</td>\n",
       "      <td>No</td>\n",
       "      <td>No</td>\n",
       "      <td>Yes</td>\n",
       "      <td>Yes</td>\n",
       "      <td>No</td>\n",
       "      <td>No</td>\n",
       "      <td>Yes</td>\n",
       "      <td>No</td>\n",
       "      <td>Yes</td>\n",
       "      <td>No</td>\n",
       "      <td>Yes</td>\n",
       "      <td>Yes</td>\n",
       "      <td>No</td>\n",
       "      <td>Positive</td>\n",
       "    </tr>\n",
       "    <tr>\n",
       "      <th>3</th>\n",
       "      <td>45</td>\n",
       "      <td>Male</td>\n",
       "      <td>No</td>\n",
       "      <td>No</td>\n",
       "      <td>Yes</td>\n",
       "      <td>Yes</td>\n",
       "      <td>Yes</td>\n",
       "      <td>Yes</td>\n",
       "      <td>No</td>\n",
       "      <td>Yes</td>\n",
       "      <td>No</td>\n",
       "      <td>Yes</td>\n",
       "      <td>No</td>\n",
       "      <td>No</td>\n",
       "      <td>No</td>\n",
       "      <td>No</td>\n",
       "      <td>Positive</td>\n",
       "    </tr>\n",
       "    <tr>\n",
       "      <th>4</th>\n",
       "      <td>60</td>\n",
       "      <td>Male</td>\n",
       "      <td>Yes</td>\n",
       "      <td>Yes</td>\n",
       "      <td>Yes</td>\n",
       "      <td>Yes</td>\n",
       "      <td>Yes</td>\n",
       "      <td>No</td>\n",
       "      <td>Yes</td>\n",
       "      <td>Yes</td>\n",
       "      <td>Yes</td>\n",
       "      <td>Yes</td>\n",
       "      <td>Yes</td>\n",
       "      <td>Yes</td>\n",
       "      <td>Yes</td>\n",
       "      <td>Yes</td>\n",
       "      <td>Positive</td>\n",
       "    </tr>\n",
       "  </tbody>\n",
       "</table>\n",
       "</div>"
      ],
      "text/plain": [
       "   Age Gender Polyuria Polydipsia sudden weight loss weakness Polyphagia  \\\n",
       "0   40   Male       No        Yes                 No      Yes         No   \n",
       "1   58   Male       No         No                 No      Yes         No   \n",
       "2   41   Male      Yes         No                 No      Yes        Yes   \n",
       "3   45   Male       No         No                Yes      Yes        Yes   \n",
       "4   60   Male      Yes        Yes                Yes      Yes        Yes   \n",
       "\n",
       "  Genital thrush visual blurring Itching Irritability delayed healing  \\\n",
       "0             No              No     Yes           No             Yes   \n",
       "1             No             Yes      No           No              No   \n",
       "2             No              No     Yes           No             Yes   \n",
       "3            Yes              No     Yes           No             Yes   \n",
       "4             No             Yes     Yes          Yes             Yes   \n",
       "\n",
       "  partial paresis muscle stiffness Alopecia Obesity     class  \n",
       "0              No              Yes      Yes     Yes  Positive  \n",
       "1             Yes               No      Yes      No  Positive  \n",
       "2              No              Yes      Yes      No  Positive  \n",
       "3              No               No       No      No  Positive  \n",
       "4             Yes              Yes      Yes     Yes  Positive  "
      ]
     },
     "execution_count": 20,
     "metadata": {},
     "output_type": "execute_result"
    }
   ],
   "source": [
    "# reading first dataset\n",
    "dataset_1_path = r'C:\\Users\\dell\\Desktop\\Priya_ML\\diabetes_data_upload.csv'\n",
    "dataset_1 = pd.read_csv(dataset_1_path)\n",
    "dataset_1.head()"
   ]
  },
  {
   "cell_type": "code",
   "execution_count": 21,
   "id": "f9e7ac00",
   "metadata": {},
   "outputs": [
    {
     "data": {
      "text/plain": [
       "(520, 17)"
      ]
     },
     "execution_count": 21,
     "metadata": {},
     "output_type": "execute_result"
    }
   ],
   "source": [
    "dataset_1.shape # dataset has 520 rows and 17 columns"
   ]
  },
  {
   "cell_type": "code",
   "execution_count": 22,
   "id": "35c0c6bc",
   "metadata": {},
   "outputs": [
    {
     "data": {
      "text/plain": [
       "Age                   0\n",
       "Gender                0\n",
       "Polyuria              0\n",
       "Polydipsia            0\n",
       "sudden weight loss    0\n",
       "weakness              0\n",
       "Polyphagia            0\n",
       "Genital thrush        0\n",
       "visual blurring       0\n",
       "Itching               0\n",
       "Irritability          0\n",
       "delayed healing       0\n",
       "partial paresis       0\n",
       "muscle stiffness      0\n",
       "Alopecia              0\n",
       "Obesity               0\n",
       "class                 0\n",
       "dtype: int64"
      ]
     },
     "execution_count": 22,
     "metadata": {},
     "output_type": "execute_result"
    }
   ],
   "source": [
    "# finding missing values\n",
    "dataset_1.isna().sum()\n",
    "# none of the attributes have missing values"
   ]
  },
  {
   "cell_type": "code",
   "execution_count": 23,
   "id": "1fae3d0b",
   "metadata": {},
   "outputs": [],
   "source": [
    "# exracting only categorical variables from our dataset\n",
    "categorical_variables = dataset_1.columns[dataset_1.dtypes == 'object']"
   ]
  },
  {
   "cell_type": "code",
   "execution_count": 24,
   "id": "dba0154f",
   "metadata": {},
   "outputs": [],
   "source": [
    "# label encoding all the categorical variables to numerical\n",
    "from sklearn import preprocessing\n",
    "for cat_var in categorical_variables:\n",
    "    label_encoder = preprocessing.LabelEncoder()\n",
    "    #dataste_1[cat_var]= dataset_1['Gender'].apply(lambda x: 1 if x == 'Male' else 0)\n",
    "    dataset_1[cat_var]= label_encoder.fit_transform(dataset_1[cat_var])"
   ]
  },
  {
   "cell_type": "code",
   "execution_count": 25,
   "id": "df7bd62f",
   "metadata": {},
   "outputs": [
    {
     "data": {
      "text/html": [
       "<div>\n",
       "<style scoped>\n",
       "    .dataframe tbody tr th:only-of-type {\n",
       "        vertical-align: middle;\n",
       "    }\n",
       "\n",
       "    .dataframe tbody tr th {\n",
       "        vertical-align: top;\n",
       "    }\n",
       "\n",
       "    .dataframe thead th {\n",
       "        text-align: right;\n",
       "    }\n",
       "</style>\n",
       "<table border=\"1\" class=\"dataframe\">\n",
       "  <thead>\n",
       "    <tr style=\"text-align: right;\">\n",
       "      <th></th>\n",
       "      <th>Age</th>\n",
       "      <th>Gender</th>\n",
       "      <th>Polyuria</th>\n",
       "      <th>Polydipsia</th>\n",
       "      <th>sudden weight loss</th>\n",
       "      <th>weakness</th>\n",
       "      <th>Polyphagia</th>\n",
       "      <th>Genital thrush</th>\n",
       "      <th>visual blurring</th>\n",
       "      <th>Itching</th>\n",
       "      <th>Irritability</th>\n",
       "      <th>delayed healing</th>\n",
       "      <th>partial paresis</th>\n",
       "      <th>muscle stiffness</th>\n",
       "      <th>Alopecia</th>\n",
       "      <th>Obesity</th>\n",
       "      <th>class</th>\n",
       "    </tr>\n",
       "  </thead>\n",
       "  <tbody>\n",
       "    <tr>\n",
       "      <th>0</th>\n",
       "      <td>40</td>\n",
       "      <td>1</td>\n",
       "      <td>0</td>\n",
       "      <td>1</td>\n",
       "      <td>0</td>\n",
       "      <td>1</td>\n",
       "      <td>0</td>\n",
       "      <td>0</td>\n",
       "      <td>0</td>\n",
       "      <td>1</td>\n",
       "      <td>0</td>\n",
       "      <td>1</td>\n",
       "      <td>0</td>\n",
       "      <td>1</td>\n",
       "      <td>1</td>\n",
       "      <td>1</td>\n",
       "      <td>1</td>\n",
       "    </tr>\n",
       "    <tr>\n",
       "      <th>1</th>\n",
       "      <td>58</td>\n",
       "      <td>1</td>\n",
       "      <td>0</td>\n",
       "      <td>0</td>\n",
       "      <td>0</td>\n",
       "      <td>1</td>\n",
       "      <td>0</td>\n",
       "      <td>0</td>\n",
       "      <td>1</td>\n",
       "      <td>0</td>\n",
       "      <td>0</td>\n",
       "      <td>0</td>\n",
       "      <td>1</td>\n",
       "      <td>0</td>\n",
       "      <td>1</td>\n",
       "      <td>0</td>\n",
       "      <td>1</td>\n",
       "    </tr>\n",
       "    <tr>\n",
       "      <th>2</th>\n",
       "      <td>41</td>\n",
       "      <td>1</td>\n",
       "      <td>1</td>\n",
       "      <td>0</td>\n",
       "      <td>0</td>\n",
       "      <td>1</td>\n",
       "      <td>1</td>\n",
       "      <td>0</td>\n",
       "      <td>0</td>\n",
       "      <td>1</td>\n",
       "      <td>0</td>\n",
       "      <td>1</td>\n",
       "      <td>0</td>\n",
       "      <td>1</td>\n",
       "      <td>1</td>\n",
       "      <td>0</td>\n",
       "      <td>1</td>\n",
       "    </tr>\n",
       "    <tr>\n",
       "      <th>3</th>\n",
       "      <td>45</td>\n",
       "      <td>1</td>\n",
       "      <td>0</td>\n",
       "      <td>0</td>\n",
       "      <td>1</td>\n",
       "      <td>1</td>\n",
       "      <td>1</td>\n",
       "      <td>1</td>\n",
       "      <td>0</td>\n",
       "      <td>1</td>\n",
       "      <td>0</td>\n",
       "      <td>1</td>\n",
       "      <td>0</td>\n",
       "      <td>0</td>\n",
       "      <td>0</td>\n",
       "      <td>0</td>\n",
       "      <td>1</td>\n",
       "    </tr>\n",
       "    <tr>\n",
       "      <th>4</th>\n",
       "      <td>60</td>\n",
       "      <td>1</td>\n",
       "      <td>1</td>\n",
       "      <td>1</td>\n",
       "      <td>1</td>\n",
       "      <td>1</td>\n",
       "      <td>1</td>\n",
       "      <td>0</td>\n",
       "      <td>1</td>\n",
       "      <td>1</td>\n",
       "      <td>1</td>\n",
       "      <td>1</td>\n",
       "      <td>1</td>\n",
       "      <td>1</td>\n",
       "      <td>1</td>\n",
       "      <td>1</td>\n",
       "      <td>1</td>\n",
       "    </tr>\n",
       "  </tbody>\n",
       "</table>\n",
       "</div>"
      ],
      "text/plain": [
       "   Age  Gender  Polyuria  Polydipsia  sudden weight loss  weakness  \\\n",
       "0   40       1         0           1                   0         1   \n",
       "1   58       1         0           0                   0         1   \n",
       "2   41       1         1           0                   0         1   \n",
       "3   45       1         0           0                   1         1   \n",
       "4   60       1         1           1                   1         1   \n",
       "\n",
       "   Polyphagia  Genital thrush  visual blurring  Itching  Irritability  \\\n",
       "0           0               0                0        1             0   \n",
       "1           0               0                1        0             0   \n",
       "2           1               0                0        1             0   \n",
       "3           1               1                0        1             0   \n",
       "4           1               0                1        1             1   \n",
       "\n",
       "   delayed healing  partial paresis  muscle stiffness  Alopecia  Obesity  \\\n",
       "0                1                0                 1         1        1   \n",
       "1                0                1                 0         1        0   \n",
       "2                1                0                 1         1        0   \n",
       "3                1                0                 0         0        0   \n",
       "4                1                1                 1         1        1   \n",
       "\n",
       "   class  \n",
       "0      1  \n",
       "1      1  \n",
       "2      1  \n",
       "3      1  \n",
       "4      1  "
      ]
     },
     "execution_count": 25,
     "metadata": {},
     "output_type": "execute_result"
    }
   ],
   "source": [
    "dataset_1.head()"
   ]
  },
  {
   "cell_type": "code",
   "execution_count": 26,
   "id": "2201d701",
   "metadata": {},
   "outputs": [],
   "source": [
    "# finding correaltion among variables\n",
    "correaltion_matrix = dataset_1.corr()"
   ]
  },
  {
   "cell_type": "code",
   "execution_count": 27,
   "id": "a56f337c",
   "metadata": {},
   "outputs": [
    {
     "data": {
      "text/html": [
       "<div>\n",
       "<style scoped>\n",
       "    .dataframe tbody tr th:only-of-type {\n",
       "        vertical-align: middle;\n",
       "    }\n",
       "\n",
       "    .dataframe tbody tr th {\n",
       "        vertical-align: top;\n",
       "    }\n",
       "\n",
       "    .dataframe thead th {\n",
       "        text-align: right;\n",
       "    }\n",
       "</style>\n",
       "<table border=\"1\" class=\"dataframe\">\n",
       "  <thead>\n",
       "    <tr style=\"text-align: right;\">\n",
       "      <th></th>\n",
       "      <th>Age</th>\n",
       "      <th>Gender</th>\n",
       "      <th>Polyuria</th>\n",
       "      <th>Polydipsia</th>\n",
       "      <th>sudden weight loss</th>\n",
       "      <th>weakness</th>\n",
       "      <th>Polyphagia</th>\n",
       "      <th>Genital thrush</th>\n",
       "      <th>visual blurring</th>\n",
       "      <th>Itching</th>\n",
       "      <th>Irritability</th>\n",
       "      <th>delayed healing</th>\n",
       "      <th>partial paresis</th>\n",
       "      <th>muscle stiffness</th>\n",
       "      <th>Alopecia</th>\n",
       "      <th>Obesity</th>\n",
       "      <th>class</th>\n",
       "    </tr>\n",
       "  </thead>\n",
       "  <tbody>\n",
       "    <tr>\n",
       "      <th>Age</th>\n",
       "      <td>1.000000</td>\n",
       "      <td>0.062872</td>\n",
       "      <td>0.199781</td>\n",
       "      <td>0.137382</td>\n",
       "      <td>0.064808</td>\n",
       "      <td>0.224596</td>\n",
       "      <td>0.315577</td>\n",
       "      <td>0.096519</td>\n",
       "      <td>0.402729</td>\n",
       "      <td>0.296559</td>\n",
       "      <td>0.201625</td>\n",
       "      <td>0.257501</td>\n",
       "      <td>0.232742</td>\n",
       "      <td>0.307703</td>\n",
       "      <td>0.321691</td>\n",
       "      <td>0.140458</td>\n",
       "      <td>0.108679</td>\n",
       "    </tr>\n",
       "    <tr>\n",
       "      <th>Gender</th>\n",
       "      <td>0.062872</td>\n",
       "      <td>1.000000</td>\n",
       "      <td>-0.268894</td>\n",
       "      <td>-0.312262</td>\n",
       "      <td>-0.281840</td>\n",
       "      <td>-0.124490</td>\n",
       "      <td>-0.219968</td>\n",
       "      <td>0.208961</td>\n",
       "      <td>-0.208092</td>\n",
       "      <td>-0.052496</td>\n",
       "      <td>-0.013735</td>\n",
       "      <td>-0.101978</td>\n",
       "      <td>-0.332288</td>\n",
       "      <td>-0.090542</td>\n",
       "      <td>0.327871</td>\n",
       "      <td>-0.005396</td>\n",
       "      <td>-0.449233</td>\n",
       "    </tr>\n",
       "    <tr>\n",
       "      <th>Polyuria</th>\n",
       "      <td>0.199781</td>\n",
       "      <td>-0.268894</td>\n",
       "      <td>1.000000</td>\n",
       "      <td>0.598609</td>\n",
       "      <td>0.447207</td>\n",
       "      <td>0.263000</td>\n",
       "      <td>0.373873</td>\n",
       "      <td>0.087273</td>\n",
       "      <td>0.235095</td>\n",
       "      <td>0.088289</td>\n",
       "      <td>0.237740</td>\n",
       "      <td>0.149873</td>\n",
       "      <td>0.441664</td>\n",
       "      <td>0.152938</td>\n",
       "      <td>-0.144192</td>\n",
       "      <td>0.126567</td>\n",
       "      <td>0.665922</td>\n",
       "    </tr>\n",
       "    <tr>\n",
       "      <th>Polydipsia</th>\n",
       "      <td>0.137382</td>\n",
       "      <td>-0.312262</td>\n",
       "      <td>0.598609</td>\n",
       "      <td>1.000000</td>\n",
       "      <td>0.405965</td>\n",
       "      <td>0.332453</td>\n",
       "      <td>0.316839</td>\n",
       "      <td>0.028081</td>\n",
       "      <td>0.331250</td>\n",
       "      <td>0.128716</td>\n",
       "      <td>0.203446</td>\n",
       "      <td>0.115691</td>\n",
       "      <td>0.442249</td>\n",
       "      <td>0.180723</td>\n",
       "      <td>-0.310964</td>\n",
       "      <td>0.098691</td>\n",
       "      <td>0.648734</td>\n",
       "    </tr>\n",
       "    <tr>\n",
       "      <th>sudden weight loss</th>\n",
       "      <td>0.064808</td>\n",
       "      <td>-0.281840</td>\n",
       "      <td>0.447207</td>\n",
       "      <td>0.405965</td>\n",
       "      <td>1.000000</td>\n",
       "      <td>0.282884</td>\n",
       "      <td>0.243511</td>\n",
       "      <td>0.089858</td>\n",
       "      <td>0.068754</td>\n",
       "      <td>-0.004516</td>\n",
       "      <td>0.140340</td>\n",
       "      <td>0.088140</td>\n",
       "      <td>0.264014</td>\n",
       "      <td>0.109756</td>\n",
       "      <td>-0.202727</td>\n",
       "      <td>0.169294</td>\n",
       "      <td>0.436568</td>\n",
       "    </tr>\n",
       "    <tr>\n",
       "      <th>weakness</th>\n",
       "      <td>0.224596</td>\n",
       "      <td>-0.124490</td>\n",
       "      <td>0.263000</td>\n",
       "      <td>0.332453</td>\n",
       "      <td>0.282884</td>\n",
       "      <td>1.000000</td>\n",
       "      <td>0.180266</td>\n",
       "      <td>0.027780</td>\n",
       "      <td>0.301043</td>\n",
       "      <td>0.309440</td>\n",
       "      <td>0.146698</td>\n",
       "      <td>0.335507</td>\n",
       "      <td>0.272982</td>\n",
       "      <td>0.263164</td>\n",
       "      <td>0.090490</td>\n",
       "      <td>0.045665</td>\n",
       "      <td>0.243275</td>\n",
       "    </tr>\n",
       "    <tr>\n",
       "      <th>Polyphagia</th>\n",
       "      <td>0.315577</td>\n",
       "      <td>-0.219968</td>\n",
       "      <td>0.373873</td>\n",
       "      <td>0.316839</td>\n",
       "      <td>0.243511</td>\n",
       "      <td>0.180266</td>\n",
       "      <td>1.000000</td>\n",
       "      <td>-0.063712</td>\n",
       "      <td>0.293545</td>\n",
       "      <td>0.144390</td>\n",
       "      <td>0.239466</td>\n",
       "      <td>0.263980</td>\n",
       "      <td>0.373569</td>\n",
       "      <td>0.320031</td>\n",
       "      <td>-0.053498</td>\n",
       "      <td>0.029785</td>\n",
       "      <td>0.342504</td>\n",
       "    </tr>\n",
       "    <tr>\n",
       "      <th>Genital thrush</th>\n",
       "      <td>0.096519</td>\n",
       "      <td>0.208961</td>\n",
       "      <td>0.087273</td>\n",
       "      <td>0.028081</td>\n",
       "      <td>0.089858</td>\n",
       "      <td>0.027780</td>\n",
       "      <td>-0.063712</td>\n",
       "      <td>1.000000</td>\n",
       "      <td>-0.148408</td>\n",
       "      <td>0.125336</td>\n",
       "      <td>0.160551</td>\n",
       "      <td>0.136111</td>\n",
       "      <td>-0.195612</td>\n",
       "      <td>-0.100188</td>\n",
       "      <td>0.204847</td>\n",
       "      <td>0.053828</td>\n",
       "      <td>0.110288</td>\n",
       "    </tr>\n",
       "    <tr>\n",
       "      <th>visual blurring</th>\n",
       "      <td>0.402729</td>\n",
       "      <td>-0.208092</td>\n",
       "      <td>0.235095</td>\n",
       "      <td>0.331250</td>\n",
       "      <td>0.068754</td>\n",
       "      <td>0.301043</td>\n",
       "      <td>0.293545</td>\n",
       "      <td>-0.148408</td>\n",
       "      <td>1.000000</td>\n",
       "      <td>0.291191</td>\n",
       "      <td>0.077095</td>\n",
       "      <td>0.177767</td>\n",
       "      <td>0.364156</td>\n",
       "      <td>0.412369</td>\n",
       "      <td>0.014604</td>\n",
       "      <td>0.109005</td>\n",
       "      <td>0.251300</td>\n",
       "    </tr>\n",
       "    <tr>\n",
       "      <th>Itching</th>\n",
       "      <td>0.296559</td>\n",
       "      <td>-0.052496</td>\n",
       "      <td>0.088289</td>\n",
       "      <td>0.128716</td>\n",
       "      <td>-0.004516</td>\n",
       "      <td>0.309440</td>\n",
       "      <td>0.144390</td>\n",
       "      <td>0.125336</td>\n",
       "      <td>0.291191</td>\n",
       "      <td>1.000000</td>\n",
       "      <td>0.114006</td>\n",
       "      <td>0.453316</td>\n",
       "      <td>0.116669</td>\n",
       "      <td>0.215575</td>\n",
       "      <td>0.266506</td>\n",
       "      <td>0.001894</td>\n",
       "      <td>-0.013384</td>\n",
       "    </tr>\n",
       "    <tr>\n",
       "      <th>Irritability</th>\n",
       "      <td>0.201625</td>\n",
       "      <td>-0.013735</td>\n",
       "      <td>0.237740</td>\n",
       "      <td>0.203446</td>\n",
       "      <td>0.140340</td>\n",
       "      <td>0.146698</td>\n",
       "      <td>0.239466</td>\n",
       "      <td>0.160551</td>\n",
       "      <td>0.077095</td>\n",
       "      <td>0.114006</td>\n",
       "      <td>1.000000</td>\n",
       "      <td>0.126877</td>\n",
       "      <td>0.151571</td>\n",
       "      <td>0.201637</td>\n",
       "      <td>0.043708</td>\n",
       "      <td>0.127801</td>\n",
       "      <td>0.299467</td>\n",
       "    </tr>\n",
       "    <tr>\n",
       "      <th>delayed healing</th>\n",
       "      <td>0.257501</td>\n",
       "      <td>-0.101978</td>\n",
       "      <td>0.149873</td>\n",
       "      <td>0.115691</td>\n",
       "      <td>0.088140</td>\n",
       "      <td>0.335507</td>\n",
       "      <td>0.263980</td>\n",
       "      <td>0.136111</td>\n",
       "      <td>0.177767</td>\n",
       "      <td>0.453316</td>\n",
       "      <td>0.126877</td>\n",
       "      <td>1.000000</td>\n",
       "      <td>0.187382</td>\n",
       "      <td>0.250078</td>\n",
       "      <td>0.290179</td>\n",
       "      <td>-0.066339</td>\n",
       "      <td>0.046980</td>\n",
       "    </tr>\n",
       "    <tr>\n",
       "      <th>partial paresis</th>\n",
       "      <td>0.232742</td>\n",
       "      <td>-0.332288</td>\n",
       "      <td>0.441664</td>\n",
       "      <td>0.442249</td>\n",
       "      <td>0.264014</td>\n",
       "      <td>0.272982</td>\n",
       "      <td>0.373569</td>\n",
       "      <td>-0.195612</td>\n",
       "      <td>0.364156</td>\n",
       "      <td>0.116669</td>\n",
       "      <td>0.151571</td>\n",
       "      <td>0.187382</td>\n",
       "      <td>1.000000</td>\n",
       "      <td>0.232634</td>\n",
       "      <td>-0.221576</td>\n",
       "      <td>-0.009401</td>\n",
       "      <td>0.432288</td>\n",
       "    </tr>\n",
       "    <tr>\n",
       "      <th>muscle stiffness</th>\n",
       "      <td>0.307703</td>\n",
       "      <td>-0.090542</td>\n",
       "      <td>0.152938</td>\n",
       "      <td>0.180723</td>\n",
       "      <td>0.109756</td>\n",
       "      <td>0.263164</td>\n",
       "      <td>0.320031</td>\n",
       "      <td>-0.100188</td>\n",
       "      <td>0.412369</td>\n",
       "      <td>0.215575</td>\n",
       "      <td>0.201637</td>\n",
       "      <td>0.250078</td>\n",
       "      <td>0.232634</td>\n",
       "      <td>1.000000</td>\n",
       "      <td>0.040758</td>\n",
       "      <td>0.158910</td>\n",
       "      <td>0.122474</td>\n",
       "    </tr>\n",
       "    <tr>\n",
       "      <th>Alopecia</th>\n",
       "      <td>0.321691</td>\n",
       "      <td>0.327871</td>\n",
       "      <td>-0.144192</td>\n",
       "      <td>-0.310964</td>\n",
       "      <td>-0.202727</td>\n",
       "      <td>0.090490</td>\n",
       "      <td>-0.053498</td>\n",
       "      <td>0.204847</td>\n",
       "      <td>0.014604</td>\n",
       "      <td>0.266506</td>\n",
       "      <td>0.043708</td>\n",
       "      <td>0.290179</td>\n",
       "      <td>-0.221576</td>\n",
       "      <td>0.040758</td>\n",
       "      <td>1.000000</td>\n",
       "      <td>0.029229</td>\n",
       "      <td>-0.267512</td>\n",
       "    </tr>\n",
       "    <tr>\n",
       "      <th>Obesity</th>\n",
       "      <td>0.140458</td>\n",
       "      <td>-0.005396</td>\n",
       "      <td>0.126567</td>\n",
       "      <td>0.098691</td>\n",
       "      <td>0.169294</td>\n",
       "      <td>0.045665</td>\n",
       "      <td>0.029785</td>\n",
       "      <td>0.053828</td>\n",
       "      <td>0.109005</td>\n",
       "      <td>0.001894</td>\n",
       "      <td>0.127801</td>\n",
       "      <td>-0.066339</td>\n",
       "      <td>-0.009401</td>\n",
       "      <td>0.158910</td>\n",
       "      <td>0.029229</td>\n",
       "      <td>1.000000</td>\n",
       "      <td>0.072173</td>\n",
       "    </tr>\n",
       "    <tr>\n",
       "      <th>class</th>\n",
       "      <td>0.108679</td>\n",
       "      <td>-0.449233</td>\n",
       "      <td>0.665922</td>\n",
       "      <td>0.648734</td>\n",
       "      <td>0.436568</td>\n",
       "      <td>0.243275</td>\n",
       "      <td>0.342504</td>\n",
       "      <td>0.110288</td>\n",
       "      <td>0.251300</td>\n",
       "      <td>-0.013384</td>\n",
       "      <td>0.299467</td>\n",
       "      <td>0.046980</td>\n",
       "      <td>0.432288</td>\n",
       "      <td>0.122474</td>\n",
       "      <td>-0.267512</td>\n",
       "      <td>0.072173</td>\n",
       "      <td>1.000000</td>\n",
       "    </tr>\n",
       "  </tbody>\n",
       "</table>\n",
       "</div>"
      ],
      "text/plain": [
       "                         Age    Gender  Polyuria  Polydipsia  \\\n",
       "Age                 1.000000  0.062872  0.199781    0.137382   \n",
       "Gender              0.062872  1.000000 -0.268894   -0.312262   \n",
       "Polyuria            0.199781 -0.268894  1.000000    0.598609   \n",
       "Polydipsia          0.137382 -0.312262  0.598609    1.000000   \n",
       "sudden weight loss  0.064808 -0.281840  0.447207    0.405965   \n",
       "weakness            0.224596 -0.124490  0.263000    0.332453   \n",
       "Polyphagia          0.315577 -0.219968  0.373873    0.316839   \n",
       "Genital thrush      0.096519  0.208961  0.087273    0.028081   \n",
       "visual blurring     0.402729 -0.208092  0.235095    0.331250   \n",
       "Itching             0.296559 -0.052496  0.088289    0.128716   \n",
       "Irritability        0.201625 -0.013735  0.237740    0.203446   \n",
       "delayed healing     0.257501 -0.101978  0.149873    0.115691   \n",
       "partial paresis     0.232742 -0.332288  0.441664    0.442249   \n",
       "muscle stiffness    0.307703 -0.090542  0.152938    0.180723   \n",
       "Alopecia            0.321691  0.327871 -0.144192   -0.310964   \n",
       "Obesity             0.140458 -0.005396  0.126567    0.098691   \n",
       "class               0.108679 -0.449233  0.665922    0.648734   \n",
       "\n",
       "                    sudden weight loss  weakness  Polyphagia  Genital thrush  \\\n",
       "Age                           0.064808  0.224596    0.315577        0.096519   \n",
       "Gender                       -0.281840 -0.124490   -0.219968        0.208961   \n",
       "Polyuria                      0.447207  0.263000    0.373873        0.087273   \n",
       "Polydipsia                    0.405965  0.332453    0.316839        0.028081   \n",
       "sudden weight loss            1.000000  0.282884    0.243511        0.089858   \n",
       "weakness                      0.282884  1.000000    0.180266        0.027780   \n",
       "Polyphagia                    0.243511  0.180266    1.000000       -0.063712   \n",
       "Genital thrush                0.089858  0.027780   -0.063712        1.000000   \n",
       "visual blurring               0.068754  0.301043    0.293545       -0.148408   \n",
       "Itching                      -0.004516  0.309440    0.144390        0.125336   \n",
       "Irritability                  0.140340  0.146698    0.239466        0.160551   \n",
       "delayed healing               0.088140  0.335507    0.263980        0.136111   \n",
       "partial paresis               0.264014  0.272982    0.373569       -0.195612   \n",
       "muscle stiffness              0.109756  0.263164    0.320031       -0.100188   \n",
       "Alopecia                     -0.202727  0.090490   -0.053498        0.204847   \n",
       "Obesity                       0.169294  0.045665    0.029785        0.053828   \n",
       "class                         0.436568  0.243275    0.342504        0.110288   \n",
       "\n",
       "                    visual blurring   Itching  Irritability  delayed healing  \\\n",
       "Age                        0.402729  0.296559      0.201625         0.257501   \n",
       "Gender                    -0.208092 -0.052496     -0.013735        -0.101978   \n",
       "Polyuria                   0.235095  0.088289      0.237740         0.149873   \n",
       "Polydipsia                 0.331250  0.128716      0.203446         0.115691   \n",
       "sudden weight loss         0.068754 -0.004516      0.140340         0.088140   \n",
       "weakness                   0.301043  0.309440      0.146698         0.335507   \n",
       "Polyphagia                 0.293545  0.144390      0.239466         0.263980   \n",
       "Genital thrush            -0.148408  0.125336      0.160551         0.136111   \n",
       "visual blurring            1.000000  0.291191      0.077095         0.177767   \n",
       "Itching                    0.291191  1.000000      0.114006         0.453316   \n",
       "Irritability               0.077095  0.114006      1.000000         0.126877   \n",
       "delayed healing            0.177767  0.453316      0.126877         1.000000   \n",
       "partial paresis            0.364156  0.116669      0.151571         0.187382   \n",
       "muscle stiffness           0.412369  0.215575      0.201637         0.250078   \n",
       "Alopecia                   0.014604  0.266506      0.043708         0.290179   \n",
       "Obesity                    0.109005  0.001894      0.127801        -0.066339   \n",
       "class                      0.251300 -0.013384      0.299467         0.046980   \n",
       "\n",
       "                    partial paresis  muscle stiffness  Alopecia   Obesity  \\\n",
       "Age                        0.232742          0.307703  0.321691  0.140458   \n",
       "Gender                    -0.332288         -0.090542  0.327871 -0.005396   \n",
       "Polyuria                   0.441664          0.152938 -0.144192  0.126567   \n",
       "Polydipsia                 0.442249          0.180723 -0.310964  0.098691   \n",
       "sudden weight loss         0.264014          0.109756 -0.202727  0.169294   \n",
       "weakness                   0.272982          0.263164  0.090490  0.045665   \n",
       "Polyphagia                 0.373569          0.320031 -0.053498  0.029785   \n",
       "Genital thrush            -0.195612         -0.100188  0.204847  0.053828   \n",
       "visual blurring            0.364156          0.412369  0.014604  0.109005   \n",
       "Itching                    0.116669          0.215575  0.266506  0.001894   \n",
       "Irritability               0.151571          0.201637  0.043708  0.127801   \n",
       "delayed healing            0.187382          0.250078  0.290179 -0.066339   \n",
       "partial paresis            1.000000          0.232634 -0.221576 -0.009401   \n",
       "muscle stiffness           0.232634          1.000000  0.040758  0.158910   \n",
       "Alopecia                  -0.221576          0.040758  1.000000  0.029229   \n",
       "Obesity                   -0.009401          0.158910  0.029229  1.000000   \n",
       "class                      0.432288          0.122474 -0.267512  0.072173   \n",
       "\n",
       "                       class  \n",
       "Age                 0.108679  \n",
       "Gender             -0.449233  \n",
       "Polyuria            0.665922  \n",
       "Polydipsia          0.648734  \n",
       "sudden weight loss  0.436568  \n",
       "weakness            0.243275  \n",
       "Polyphagia          0.342504  \n",
       "Genital thrush      0.110288  \n",
       "visual blurring     0.251300  \n",
       "Itching            -0.013384  \n",
       "Irritability        0.299467  \n",
       "delayed healing     0.046980  \n",
       "partial paresis     0.432288  \n",
       "muscle stiffness    0.122474  \n",
       "Alopecia           -0.267512  \n",
       "Obesity             0.072173  \n",
       "class               1.000000  "
      ]
     },
     "execution_count": 27,
     "metadata": {},
     "output_type": "execute_result"
    }
   ],
   "source": [
    "correaltion_matrix"
   ]
  },
  {
   "cell_type": "code",
   "execution_count": 28,
   "id": "88b0a480",
   "metadata": {},
   "outputs": [
    {
     "data": {
      "text/plain": [
       "<AxesSubplot:>"
      ]
     },
     "execution_count": 28,
     "metadata": {},
     "output_type": "execute_result"
    },
    {
     "data": {
      "image/png": "[encoded data removed]",
      "text/plain": [
       "<Figure size 1152x720 with 2 Axes>"
      ]
     },
     "metadata": {
      "needs_background": "light"
     },
     "output_type": "display_data"
    }
   ],
   "source": [
    "# plotting the correlation matrix as a heatmap\n",
    "import matplotlib.pyplot as plt\n",
    "import seaborn as sns\n",
    "plt.figure(figsize = (16,10))\n",
    "sns.heatmap(correaltion_matrix, cmap=\"RdYlGn\", annot=True)"
   ]
  },
  {
   "cell_type": "code",
   "execution_count": 33,
   "id": "b75bc11d",
   "metadata": {},
   "outputs": [],
   "source": [
    "# separating the target class from the dataset\n",
    "x = dataset_1.drop('class', axis = 1)\n",
    "y = dataset_1['class']"
   ]
  },
  {
   "cell_type": "code",
   "execution_count": 34,
   "id": "1f562012",
   "metadata": {},
   "outputs": [],
   "source": [
    "# splitting data into training and testing se\n",
    "from sklearn.model_selection import train_test_split\n",
    "x_train, x_test, y_train, y_test = train_test_split(x,y,test_size = 0.2, random_state=0)"
   ]
  },
  {
   "cell_type": "code",
   "execution_count": 35,
   "id": "e79013fe",
   "metadata": {},
   "outputs": [],
   "source": [
    "# scaling x_train and x_test\n",
    "from sklearn.preprocessing import StandardScaler\n",
    "std_scaler = StandardScaler()\n",
    " \n",
    "x_train = std_scaler.fit_transform(x_train)\n",
    "x_test = std_scaler.transform(x_test)"
   ]
  },
  {
   "cell_type": "code",
   "execution_count": 36,
   "id": "84e5deff",
   "metadata": {},
   "outputs": [],
   "source": [
    "# applying PCA\n",
    "from sklearn.decomposition import PCA\n",
    " \n",
    "pca = PCA(n_components = 7)\n",
    " \n",
    "x_train = pca.fit_transform(x_train)\n",
    "x_test = pca.transform(x_test)"
   ]
  },
  {
   "cell_type": "code",
   "execution_count": 37,
   "id": "77b90935",
   "metadata": {},
   "outputs": [
    {
     "data": {
      "text/plain": [
       "(416, 7)"
      ]
     },
     "execution_count": 37,
     "metadata": {},
     "output_type": "execute_result"
    }
   ],
   "source": [
    "x_train.shape"
   ]
  },
  {
   "cell_type": "code",
   "execution_count": 38,
   "id": "06b05f83",
   "metadata": {},
   "outputs": [
    {
     "data": {
      "text/plain": [
       "0.7127486315486002"
      ]
     },
     "execution_count": 38,
     "metadata": {},
     "output_type": "execute_result"
    }
   ],
   "source": [
    "explained_variance = pca.explained_variance_ratio_\n",
    "sum(explained_variance)"
   ]
  },
  {
   "cell_type": "markdown",
   "id": "b06d509c",
   "metadata": {},
   "source": [
    "# Random Forest With PCA"
   ]
  },
  {
   "cell_type": "code",
   "execution_count": 39,
   "id": "5c49b5b3",
   "metadata": {},
   "outputs": [
    {
     "data": {
      "text/plain": [
       "RandomForestClassifier(max_depth=9, min_samples_split=5, n_estimators=15)"
      ]
     },
     "execution_count": 39,
     "metadata": {},
     "output_type": "execute_result"
    }
   ],
   "source": [
    "from sklearn.model_selection import cross_val_score\n",
    "from sklearn.ensemble import RandomForestClassifier\n",
    "rf = RandomForestClassifier(n_estimators = 15, max_depth = 9, min_samples_split = 5) \n",
    "rf.fit(x_train, y_train)"
   ]
  },
  {
   "cell_type": "code",
   "execution_count": 40,
   "id": "bd359118",
   "metadata": {},
   "outputs": [
    {
     "data": {
      "text/plain": [
       "0.9807692307692307"
      ]
     },
     "execution_count": 40,
     "metadata": {},
     "output_type": "execute_result"
    }
   ],
   "source": [
    "# accuracy for random forest \n",
    "accuracy_rf = rf.score(x_test, y_test)\n",
    "accuracy_rf"
   ]
  },
  {
   "cell_type": "code",
   "execution_count": 41,
   "id": "44604e1a",
   "metadata": {},
   "outputs": [],
   "source": [
    "# makking predictions using random forest\n",
    "y_pred_rf = rf.predict(x_test)"
   ]
  },
  {
   "cell_type": "code",
   "execution_count": 42,
   "id": "5038cfe2",
   "metadata": {},
   "outputs": [
    {
     "data": {
      "text/plain": [
       "([<matplotlib.axis.YTick at 0x950f3efd0>,\n",
       "  <matplotlib.axis.YTick at 0x950f3ef98>],\n",
       " [Text(0, 0.5, 'Negative'), Text(0, 1.5, 'Positive')])"
      ]
     },
     "execution_count": 42,
     "metadata": {},
     "output_type": "execute_result"
    },
    {
     "data": {
      "image/png": "[encoded data removed]",
      "text/plain": [
       "<Figure size 432x288 with 2 Axes>"
      ]
     },
     "metadata": {
      "needs_background": "light"
     },
     "output_type": "display_data"
    }
   ],
   "source": [
    "# generating confusion matrix\n",
    "from sklearn.metrics import confusion_matrix\n",
    "conf_matrix = confusion_matrix(y_test, y_pred_rf)\n",
    "sns.heatmap(conf_matrix, annot = True)\n",
    "plt.xlabel(\"Predicted\", fontsize=18)\n",
    "plt.ylabel(\"Actual\", fontsize=18)\n",
    "plt.xticks([0.5,1.5], ['Negative', 'Positive'], fontsize = 14)\n",
    "plt.yticks([0.5,1.5], ['Negative', 'Positive'], fontsize = 14)"
   ]
  },
  {
   "cell_type": "code",
   "execution_count": 43,
   "id": "b862cb0e",
   "metadata": {},
   "outputs": [],
   "source": [
    "# calculating other performance evaluation parameters\n",
    "from sklearn.metrics import precision_score, recall_score, f1_score, roc_curve, auc\n",
    "precision_rf = precision_score(y_test, y_pred_rf)\n",
    "y_pred_prob_rf = rf.predict_proba(x_test)[:,1]\n",
    "fpr_rf, tpr_rf, thresholds_rf = roc_curve(y_test, y_pred_prob_rf)\n",
    "auc_rf = auc(fpr_rf, tpr_rf)\n",
    "recall_rf = recall_score(y_test, y_pred_rf)\n",
    "f1_score_rf = f1_score(y_test, y_pred_rf)"
   ]
  },
  {
   "cell_type": "code",
   "execution_count": 44,
   "id": "22748387",
   "metadata": {},
   "outputs": [
    {
     "name": "stdout",
     "output_type": "stream",
     "text": [
      "Random Forest performance evalation measures: \n",
      "Accuracy:  0.9808\n",
      "F1 score:  0.9846\n",
      "Precision:  0.9697\n",
      "Recall:  1.0\n",
      "AUC:  1.0\n"
     ]
    }
   ],
   "source": [
    "print('Random Forest performance evalation measures: ')\n",
    "print('Accuracy: ', round(accuracy_rf, 4))\n",
    "print('F1 score: ', round(f1_score_rf, 4))\n",
    "print('Precision: ', round(precision_rf, 4))\n",
    "print('Recall: ', round(recall_rf, 4))\n",
    "print('AUC: ', round(auc_rf, 4))"
   ]
  },
  {
   "cell_type": "code",
   "execution_count": 45,
   "id": "dd3a1ede",
   "metadata": {},
   "outputs": [],
   "source": [
    "true_positive_rf = conf_matrix[1,1]\n",
    "true_negative_rf = conf_matrix[0,0]\n",
    "false_positive_rf = conf_matrix[0,1]\n",
    "false_negative_rf = conf_matrix[1,0]\n",
    "#print(true_positive_rf)\n",
    "#print(true_negative_rf)\n",
    "#print(false_positive_rf)\n",
    "#print(false_negative_rf)"
   ]
  },
  {
   "cell_type": "code",
   "execution_count": 46,
   "id": "d24c06e7",
   "metadata": {},
   "outputs": [
    {
     "data": {
      "image/png": "[encoded data removed]",
      "text/plain": [
       "<Figure size 576x576 with 1 Axes>"
      ]
     },
     "metadata": {
      "needs_background": "light"
     },
     "output_type": "display_data"
    }
   ],
   "source": [
    "plot_groups = [[false_negative_rf, true_positive_rf], [true_negative_rf, false_positive_rf]]\n",
    "plot_group_labels = [\"Positive\", \"Negative\"]\n",
    "plot_df = pd.DataFrame(plot_groups, index = plot_group_labels)\n",
    "ax = plot_df.plot(kind='bar', legend=False, width=0.5, figsize=(8,8))\n",
    "ax.legend(['Negative', 'Positive'], fontsize = 14)\n",
    "ax.set_ylabel('Frequency', fontsize = 14)\n",
    "ax.set_xlabel('Random Forest', fontsize = 14)\n",
    "ax.set_xticklabels(['Positive', 'Negative'], rotation = 0, fontsize = 14)\n",
    "for bars in ax.containers:\n",
    "    ax.bar_label(bars)\n",
    "plt.show()"
   ]
  },
  {
   "cell_type": "markdown",
   "id": "e7c1fc16",
   "metadata": {},
   "source": [
    "# Decision Tree with PCA"
   ]
  },
  {
   "cell_type": "code",
   "execution_count": 47,
   "id": "090caea0",
   "metadata": {},
   "outputs": [
    {
     "data": {
      "text/plain": [
       "DecisionTreeClassifier()"
      ]
     },
     "execution_count": 47,
     "metadata": {},
     "output_type": "execute_result"
    }
   ],
   "source": [
    "from sklearn.tree import DecisionTreeClassifier\n",
    "dt = DecisionTreeClassifier() \n",
    "dt.fit(x_train, y_train)"
   ]
  },
  {
   "cell_type": "code",
   "execution_count": 48,
   "id": "ca6c728d",
   "metadata": {},
   "outputs": [
    {
     "data": {
      "text/plain": [
       "0.9807692307692307"
      ]
     },
     "execution_count": 48,
     "metadata": {},
     "output_type": "execute_result"
    }
   ],
   "source": [
    "# accuracy for decision tree \n",
    "accuracy_dt = dt.score(x_test, y_test)\n",
    "accuracy_dt"
   ]
  },
  {
   "cell_type": "code",
   "execution_count": 49,
   "id": "1ad17efe",
   "metadata": {},
   "outputs": [],
   "source": [
    "# making predictions using decision tree\n",
    "y_pred_dt = dt.predict(x_test)"
   ]
  },
  {
   "cell_type": "code",
   "execution_count": 50,
   "id": "53c575fe",
   "metadata": {},
   "outputs": [
    {
     "data": {
      "text/plain": [
       "([<matplotlib.axis.YTick at 0x951662f28>,\n",
       "  <matplotlib.axis.YTick at 0x9516628d0>],\n",
       " [Text(0, 0.5, 'Negative'), Text(0, 1.5, 'Positive')])"
      ]
     },
     "execution_count": 50,
     "metadata": {},
     "output_type": "execute_result"
    },
    {
     "data": {
      "image/png": "[encoded data removed]",
      "text/plain": [
       "<Figure size 432x288 with 2 Axes>"
      ]
     },
     "metadata": {
      "needs_background": "light"
     },
     "output_type": "display_data"
    }
   ],
   "source": [
    "# generating confusion matrix\n",
    "from sklearn.metrics import confusion_matrix\n",
    "conf_matrix = confusion_matrix(y_test, y_pred_dt)\n",
    "sns.heatmap(conf_matrix, annot = True)\n",
    "plt.xlabel(\"Predicted\", fontsize=18)\n",
    "plt.ylabel(\"Actual\", fontsize=18)\n",
    "plt.xticks([0.5,1.5], ['Negative', 'Positive'], fontsize = 14)\n",
    "plt.yticks([0.5,1.5], ['Negative', 'Positive'], fontsize = 14)"
   ]
  },
  {
   "cell_type": "code",
   "execution_count": 51,
   "id": "b6bd4acb",
   "metadata": {},
   "outputs": [],
   "source": [
    "# calculating other performance evaluation parameters\n",
    "from sklearn.metrics import precision_score, recall_score, f1_score, roc_curve, auc\n",
    "precision_dt = precision_score(y_test, y_pred_dt)\n",
    "y_pred_prob_dt = rf.predict_proba(x_test)[:,1]\n",
    "fpr_dt, tpr_dt, thresholds_dt = roc_curve(y_test, y_pred_prob_dt)\n",
    "auc_dt = auc(fpr_dt, tpr_dt)\n",
    "recall_dt = recall_score(y_test, y_pred_dt)\n",
    "f1_score_dt = f1_score(y_test, y_pred_dt)"
   ]
  },
  {
   "cell_type": "code",
   "execution_count": 52,
   "id": "3217f29d",
   "metadata": {},
   "outputs": [
    {
     "name": "stdout",
     "output_type": "stream",
     "text": [
      "Decision Tree performance evalation measures: \n",
      "Accuracy:  0.9808\n",
      "F1 score:  0.9844\n",
      "Precision:  0.9844\n",
      "Recall:  0.9844\n",
      "AUC:  1.0\n"
     ]
    }
   ],
   "source": [
    "print('Decision Tree performance evalation measures: ')\n",
    "print('Accuracy: ', round(accuracy_dt, 4))\n",
    "print('F1 score: ', round(f1_score_dt, 4))\n",
    "print('Precision: ', round(precision_dt, 4))\n",
    "print('Recall: ', round(recall_dt, 4))\n",
    "print('AUC: ', round(auc_dt, 4))"
   ]
  },
  {
   "cell_type": "code",
   "execution_count": 53,
   "id": "217ceaa5",
   "metadata": {},
   "outputs": [],
   "source": [
    "true_positive_dt = conf_matrix[1,1]\n",
    "true_negative_dt = conf_matrix[0,0]\n",
    "false_positive_dt = conf_matrix[0,1]\n",
    "false_negative_dt = conf_matrix[1,0]"
   ]
  },
  {
   "cell_type": "code",
   "execution_count": 54,
   "id": "4ed4e129",
   "metadata": {},
   "outputs": [
    {
     "data": {
      "image/png": "[encoded data removed]",
      "text/plain": [
       "<Figure size 576x576 with 1 Axes>"
      ]
     },
     "metadata": {
      "needs_background": "light"
     },
     "output_type": "display_data"
    }
   ],
   "source": [
    "plot_groups = [[false_negative_dt, true_positive_dt], [true_negative_dt, false_positive_dt]]\n",
    "plot_group_labels = [\"Positive\", \"Negative\"]\n",
    "plot_df = pd.DataFrame(plot_groups, index = plot_group_labels)\n",
    "ax = plot_df.plot(kind='bar', legend=False, width=0.5, figsize=(8,8))\n",
    "ax.legend(['Negative', 'Positive'], fontsize = 14)\n",
    "ax.set_ylabel('Frequency', fontsize = 14)\n",
    "ax.set_xlabel('Decision Tree', fontsize = 14)\n",
    "ax.set_xticklabels(['Positive', 'Negative'], rotation = 0, fontsize = 14)\n",
    "for bars in ax.containers:\n",
    "    ax.bar_label(bars)\n",
    "plt.show()"
   ]
  },
  {
   "cell_type": "markdown",
   "id": "6c6f901e",
   "metadata": {},
   "source": [
    "# Naive Bayes with PCA"
   ]
  },
  {
   "cell_type": "code",
   "execution_count": 62,
   "id": "3db79cd1",
   "metadata": {},
   "outputs": [
    {
     "ename": "ValueError",
     "evalue": "Negative values in data passed to MultinomialNB (input X)",
     "output_type": "error",
     "traceback": [
      "\u001b[1;31m---------------------------------------------------------------------------\u001b[0m",
      "\u001b[1;31mValueError\u001b[0m                                Traceback (most recent call last)",
      "\u001b[1;32m~\\AppData\\Local\\Temp\\ipykernel_4016\\974132554.py\u001b[0m in \u001b[0;36m<module>\u001b[1;34m\u001b[0m\n\u001b[0;32m      1\u001b[0m \u001b[1;32mfrom\u001b[0m \u001b[0msklearn\u001b[0m\u001b[1;33m.\u001b[0m\u001b[0mnaive_bayes\u001b[0m \u001b[1;32mimport\u001b[0m \u001b[0mMultinomialNB\u001b[0m\u001b[1;33m\u001b[0m\u001b[0m\n\u001b[0;32m      2\u001b[0m \u001b[0mnb\u001b[0m \u001b[1;33m=\u001b[0m \u001b[0mMultinomialNB\u001b[0m\u001b[1;33m(\u001b[0m\u001b[1;33m)\u001b[0m\u001b[1;33m\u001b[0m\u001b[0m\n\u001b[1;32m----> 3\u001b[1;33m \u001b[0mnb\u001b[0m\u001b[1;33m.\u001b[0m\u001b[0mfit\u001b[0m\u001b[1;33m(\u001b[0m\u001b[0mx_train\u001b[0m\u001b[1;33m,\u001b[0m \u001b[0my_train\u001b[0m\u001b[1;33m)\u001b[0m\u001b[1;33m\u001b[0m\u001b[0m\n\u001b[0m",
      "\u001b[1;32m~\\AppData\\Local\\Programs\\Python\\Python37\\lib\\site-packages\\sklearn\\naive_bayes.py\u001b[0m in \u001b[0;36mfit\u001b[1;34m(self, X, y, sample_weight)\u001b[0m\n\u001b[0;32m    688\u001b[0m         \u001b[0mn_classes\u001b[0m \u001b[1;33m=\u001b[0m \u001b[0mY\u001b[0m\u001b[1;33m.\u001b[0m\u001b[0mshape\u001b[0m\u001b[1;33m[\u001b[0m\u001b[1;36m1\u001b[0m\u001b[1;33m]\u001b[0m\u001b[1;33m\u001b[0m\u001b[0m\n\u001b[0;32m    689\u001b[0m         \u001b[0mself\u001b[0m\u001b[1;33m.\u001b[0m\u001b[0m_init_counters\u001b[0m\u001b[1;33m(\u001b[0m\u001b[0mn_classes\u001b[0m\u001b[1;33m,\u001b[0m \u001b[0mn_features\u001b[0m\u001b[1;33m)\u001b[0m\u001b[1;33m\u001b[0m\u001b[0m\n\u001b[1;32m--> 690\u001b[1;33m         \u001b[0mself\u001b[0m\u001b[1;33m.\u001b[0m\u001b[0m_count\u001b[0m\u001b[1;33m(\u001b[0m\u001b[0mX\u001b[0m\u001b[1;33m,\u001b[0m \u001b[0mY\u001b[0m\u001b[1;33m)\u001b[0m\u001b[1;33m\u001b[0m\u001b[0m\n\u001b[0m\u001b[0;32m    691\u001b[0m         \u001b[0malpha\u001b[0m \u001b[1;33m=\u001b[0m \u001b[0mself\u001b[0m\u001b[1;33m.\u001b[0m\u001b[0m_check_alpha\u001b[0m\u001b[1;33m(\u001b[0m\u001b[1;33m)\u001b[0m\u001b[1;33m\u001b[0m\u001b[0m\n\u001b[0;32m    692\u001b[0m         \u001b[0mself\u001b[0m\u001b[1;33m.\u001b[0m\u001b[0m_update_feature_log_prob\u001b[0m\u001b[1;33m(\u001b[0m\u001b[0malpha\u001b[0m\u001b[1;33m)\u001b[0m\u001b[1;33m\u001b[0m\u001b[0m\n",
      "\u001b[1;32m~\\AppData\\Local\\Programs\\Python\\Python37\\lib\\site-packages\\sklearn\\naive_bayes.py\u001b[0m in \u001b[0;36m_count\u001b[1;34m(self, X, Y)\u001b[0m\n\u001b[0;32m    861\u001b[0m     \u001b[1;32mdef\u001b[0m \u001b[0m_count\u001b[0m\u001b[1;33m(\u001b[0m\u001b[0mself\u001b[0m\u001b[1;33m,\u001b[0m \u001b[0mX\u001b[0m\u001b[1;33m,\u001b[0m \u001b[0mY\u001b[0m\u001b[1;33m)\u001b[0m\u001b[1;33m:\u001b[0m\u001b[1;33m\u001b[0m\u001b[0m\n\u001b[0;32m    862\u001b[0m         \u001b[1;34m\"\"\"Count and smooth feature occurrences.\"\"\"\u001b[0m\u001b[1;33m\u001b[0m\u001b[0m\n\u001b[1;32m--> 863\u001b[1;33m         \u001b[0mcheck_non_negative\u001b[0m\u001b[1;33m(\u001b[0m\u001b[0mX\u001b[0m\u001b[1;33m,\u001b[0m \u001b[1;34m\"MultinomialNB (input X)\"\u001b[0m\u001b[1;33m)\u001b[0m\u001b[1;33m\u001b[0m\u001b[0m\n\u001b[0m\u001b[0;32m    864\u001b[0m         \u001b[0mself\u001b[0m\u001b[1;33m.\u001b[0m\u001b[0mfeature_count_\u001b[0m \u001b[1;33m+=\u001b[0m \u001b[0msafe_sparse_dot\u001b[0m\u001b[1;33m(\u001b[0m\u001b[0mY\u001b[0m\u001b[1;33m.\u001b[0m\u001b[0mT\u001b[0m\u001b[1;33m,\u001b[0m \u001b[0mX\u001b[0m\u001b[1;33m)\u001b[0m\u001b[1;33m\u001b[0m\u001b[0m\n\u001b[0;32m    865\u001b[0m         \u001b[0mself\u001b[0m\u001b[1;33m.\u001b[0m\u001b[0mclass_count_\u001b[0m \u001b[1;33m+=\u001b[0m \u001b[0mY\u001b[0m\u001b[1;33m.\u001b[0m\u001b[0msum\u001b[0m\u001b[1;33m(\u001b[0m\u001b[0maxis\u001b[0m\u001b[1;33m=\u001b[0m\u001b[1;36m0\u001b[0m\u001b[1;33m)\u001b[0m\u001b[1;33m\u001b[0m\u001b[0m\n",
      "\u001b[1;32m~\\AppData\\Local\\Programs\\Python\\Python37\\lib\\site-packages\\sklearn\\utils\\validation.py\u001b[0m in \u001b[0;36mcheck_non_negative\u001b[1;34m(X, whom)\u001b[0m\n\u001b[0;32m   1247\u001b[0m \u001b[1;33m\u001b[0m\u001b[0m\n\u001b[0;32m   1248\u001b[0m     \u001b[1;32mif\u001b[0m \u001b[0mX_min\u001b[0m \u001b[1;33m<\u001b[0m \u001b[1;36m0\u001b[0m\u001b[1;33m:\u001b[0m\u001b[1;33m\u001b[0m\u001b[0m\n\u001b[1;32m-> 1249\u001b[1;33m         \u001b[1;32mraise\u001b[0m \u001b[0mValueError\u001b[0m\u001b[1;33m(\u001b[0m\u001b[1;34m\"Negative values in data passed to %s\"\u001b[0m \u001b[1;33m%\u001b[0m \u001b[0mwhom\u001b[0m\u001b[1;33m)\u001b[0m\u001b[1;33m\u001b[0m\u001b[0m\n\u001b[0m\u001b[0;32m   1250\u001b[0m \u001b[1;33m\u001b[0m\u001b[0m\n\u001b[0;32m   1251\u001b[0m \u001b[1;33m\u001b[0m\u001b[0m\n",
      "\u001b[1;31mValueError\u001b[0m: Negative values in data passed to MultinomialNB (input X)"
     ]
    }
   ],
   "source": [
    "from sklearn.naive_bayes import MultinomialNB\n",
    "nb = MultinomialNB()\n",
    "nb.fit(x_train, y_train)"
   ]
  },
  {
   "cell_type": "code",
   "execution_count": 63,
   "id": "5f34fe15",
   "metadata": {},
   "outputs": [
    {
     "ename": "AttributeError",
     "evalue": "'MultinomialNB' object has no attribute 'feature_log_prob_'",
     "output_type": "error",
     "traceback": [
      "\u001b[1;31m---------------------------------------------------------------------------\u001b[0m",
      "\u001b[1;31mAttributeError\u001b[0m                            Traceback (most recent call last)",
      "\u001b[1;32m~\\AppData\\Local\\Temp\\ipykernel_4016\\3895552225.py\u001b[0m in \u001b[0;36m<module>\u001b[1;34m\u001b[0m\n\u001b[1;32m----> 1\u001b[1;33m \u001b[0maccuracy_nb\u001b[0m \u001b[1;33m=\u001b[0m \u001b[0mnb\u001b[0m\u001b[1;33m.\u001b[0m\u001b[0mscore\u001b[0m\u001b[1;33m(\u001b[0m\u001b[0mx_test\u001b[0m\u001b[1;33m,\u001b[0m \u001b[0my_test\u001b[0m\u001b[1;33m)\u001b[0m\u001b[1;33m\u001b[0m\u001b[0m\n\u001b[0m\u001b[0;32m      2\u001b[0m \u001b[0maccuracy_nb\u001b[0m\u001b[1;33m\u001b[0m\u001b[0m\n",
      "\u001b[1;32m~\\AppData\\Local\\Programs\\Python\\Python37\\lib\\site-packages\\sklearn\\base.py\u001b[0m in \u001b[0;36mscore\u001b[1;34m(self, X, y, sample_weight)\u001b[0m\n\u001b[0;32m    649\u001b[0m         \u001b[1;32mfrom\u001b[0m \u001b[1;33m.\u001b[0m\u001b[0mmetrics\u001b[0m \u001b[1;32mimport\u001b[0m \u001b[0maccuracy_score\u001b[0m\u001b[1;33m\u001b[0m\u001b[0m\n\u001b[0;32m    650\u001b[0m \u001b[1;33m\u001b[0m\u001b[0m\n\u001b[1;32m--> 651\u001b[1;33m         \u001b[1;32mreturn\u001b[0m \u001b[0maccuracy_score\u001b[0m\u001b[1;33m(\u001b[0m\u001b[0my\u001b[0m\u001b[1;33m,\u001b[0m \u001b[0mself\u001b[0m\u001b[1;33m.\u001b[0m\u001b[0mpredict\u001b[0m\u001b[1;33m(\u001b[0m\u001b[0mX\u001b[0m\u001b[1;33m)\u001b[0m\u001b[1;33m,\u001b[0m \u001b[0msample_weight\u001b[0m\u001b[1;33m=\u001b[0m\u001b[0msample_weight\u001b[0m\u001b[1;33m)\u001b[0m\u001b[1;33m\u001b[0m\u001b[0m\n\u001b[0m\u001b[0;32m    652\u001b[0m \u001b[1;33m\u001b[0m\u001b[0m\n\u001b[0;32m    653\u001b[0m     \u001b[1;32mdef\u001b[0m \u001b[0m_more_tags\u001b[0m\u001b[1;33m(\u001b[0m\u001b[0mself\u001b[0m\u001b[1;33m)\u001b[0m\u001b[1;33m:\u001b[0m\u001b[1;33m\u001b[0m\u001b[0m\n",
      "\u001b[1;32m~\\AppData\\Local\\Programs\\Python\\Python37\\lib\\site-packages\\sklearn\\naive_bayes.py\u001b[0m in \u001b[0;36mpredict\u001b[1;34m(self, X)\u001b[0m\n\u001b[0;32m     81\u001b[0m         \u001b[0mcheck_is_fitted\u001b[0m\u001b[1;33m(\u001b[0m\u001b[0mself\u001b[0m\u001b[1;33m)\u001b[0m\u001b[1;33m\u001b[0m\u001b[0m\n\u001b[0;32m     82\u001b[0m         \u001b[0mX\u001b[0m \u001b[1;33m=\u001b[0m \u001b[0mself\u001b[0m\u001b[1;33m.\u001b[0m\u001b[0m_check_X\u001b[0m\u001b[1;33m(\u001b[0m\u001b[0mX\u001b[0m\u001b[1;33m)\u001b[0m\u001b[1;33m\u001b[0m\u001b[0m\n\u001b[1;32m---> 83\u001b[1;33m         \u001b[0mjll\u001b[0m \u001b[1;33m=\u001b[0m \u001b[0mself\u001b[0m\u001b[1;33m.\u001b[0m\u001b[0m_joint_log_likelihood\u001b[0m\u001b[1;33m(\u001b[0m\u001b[0mX\u001b[0m\u001b[1;33m)\u001b[0m\u001b[1;33m\u001b[0m\u001b[0m\n\u001b[0m\u001b[0;32m     84\u001b[0m         \u001b[1;32mreturn\u001b[0m \u001b[0mself\u001b[0m\u001b[1;33m.\u001b[0m\u001b[0mclasses_\u001b[0m\u001b[1;33m[\u001b[0m\u001b[0mnp\u001b[0m\u001b[1;33m.\u001b[0m\u001b[0margmax\u001b[0m\u001b[1;33m(\u001b[0m\u001b[0mjll\u001b[0m\u001b[1;33m,\u001b[0m \u001b[0maxis\u001b[0m\u001b[1;33m=\u001b[0m\u001b[1;36m1\u001b[0m\u001b[1;33m)\u001b[0m\u001b[1;33m]\u001b[0m\u001b[1;33m\u001b[0m\u001b[0m\n\u001b[0;32m     85\u001b[0m \u001b[1;33m\u001b[0m\u001b[0m\n",
      "\u001b[1;32m~\\AppData\\Local\\Programs\\Python\\Python37\\lib\\site-packages\\sklearn\\naive_bayes.py\u001b[0m in \u001b[0;36m_joint_log_likelihood\u001b[1;34m(self, X)\u001b[0m\n\u001b[0;32m    876\u001b[0m     \u001b[1;32mdef\u001b[0m \u001b[0m_joint_log_likelihood\u001b[0m\u001b[1;33m(\u001b[0m\u001b[0mself\u001b[0m\u001b[1;33m,\u001b[0m \u001b[0mX\u001b[0m\u001b[1;33m)\u001b[0m\u001b[1;33m:\u001b[0m\u001b[1;33m\u001b[0m\u001b[0m\n\u001b[0;32m    877\u001b[0m         \u001b[1;34m\"\"\"Calculate the posterior log probability of the samples X\"\"\"\u001b[0m\u001b[1;33m\u001b[0m\u001b[0m\n\u001b[1;32m--> 878\u001b[1;33m         \u001b[1;32mreturn\u001b[0m \u001b[0msafe_sparse_dot\u001b[0m\u001b[1;33m(\u001b[0m\u001b[0mX\u001b[0m\u001b[1;33m,\u001b[0m \u001b[0mself\u001b[0m\u001b[1;33m.\u001b[0m\u001b[0mfeature_log_prob_\u001b[0m\u001b[1;33m.\u001b[0m\u001b[0mT\u001b[0m\u001b[1;33m)\u001b[0m \u001b[1;33m+\u001b[0m \u001b[0mself\u001b[0m\u001b[1;33m.\u001b[0m\u001b[0mclass_log_prior_\u001b[0m\u001b[1;33m\u001b[0m\u001b[0m\n\u001b[0m\u001b[0;32m    879\u001b[0m \u001b[1;33m\u001b[0m\u001b[0m\n\u001b[0;32m    880\u001b[0m \u001b[1;33m\u001b[0m\u001b[0m\n",
      "\u001b[1;31mAttributeError\u001b[0m: 'MultinomialNB' object has no attribute 'feature_log_prob_'"
     ]
    }
   ],
   "source": [
    "accuracy_nb = nb.score(x_test, y_test)\n",
    "accuracy_nb"
   ]
  },
  {
   "cell_type": "code",
   "execution_count": 75,
   "id": "2e71a82e",
   "metadata": {},
   "outputs": [],
   "source": [
    "# making predictions using naive bayes\n",
    "y_pred_nb = nb.predict(x_test)"
   ]
  },
  {
   "cell_type": "code",
   "execution_count": 76,
   "id": "1e087d73",
   "metadata": {},
   "outputs": [
    {
     "data": {
      "text/plain": [
       "([<matplotlib.axis.YTick at 0x1a266e39e8>,\n",
       "  <matplotlib.axis.YTick at 0x1a266e3390>],\n",
       " [Text(0, 0.5, 'Negative'), Text(0, 1.5, 'Positive')])"
      ]
     },
     "execution_count": 76,
     "metadata": {},
     "output_type": "execute_result"
    },
    {
     "data": {
      "image/png": "[encoded data removed]",
      "text/plain": [
       "<Figure size 432x288 with 2 Axes>"
      ]
     },
     "metadata": {
      "needs_background": "light"
     },
     "output_type": "display_data"
    }
   ],
   "source": [
    "# generating confusion matrix\n",
    "from sklearn.metrics import confusion_matrix\n",
    "conf_matrix = confusion_matrix(y_test, y_pred_nb)\n",
    "sns.heatmap(conf_matrix, annot = True)\n",
    "plt.xlabel(\"Predicted\", fontsize=18)\n",
    "plt.ylabel(\"Actual\", fontsize=18)\n",
    "plt.xticks([0.5,1.5], ['Negative', 'Positive'], fontsize = 14)\n",
    "plt.yticks([0.5,1.5], ['Negative', 'Positive'], fontsize = 14)"
   ]
  },
  {
   "cell_type": "code",
   "execution_count": 77,
   "id": "56eab407",
   "metadata": {},
   "outputs": [],
   "source": [
    "# calculating other performance evaluation parameters\n",
    "from sklearn.metrics import precision_score, recall_score, f1_score, roc_curve, auc\n",
    "precision_nb = precision_score(y_test, y_pred_nb)\n",
    "y_pred_prob_nb = nb.predict_proba(x_test)[:,1]\n",
    "fpr_nb, tpr_nb, thresholds_nb = roc_curve(y_test, y_pred_prob_nb)\n",
    "auc_nb = auc(fpr_nb, tpr_nb)\n",
    "recall_nb = recall_score(y_test, y_pred_nb)\n",
    "f1_score_nb = f1_score(y_test, y_pred_nb)"
   ]
  },
  {
   "cell_type": "code",
   "execution_count": 78,
   "id": "e5a087ca",
   "metadata": {},
   "outputs": [
    {
     "name": "stdout",
     "output_type": "stream",
     "text": [
      "Naive Bayes performance evalation measures: \n",
      "Accuracy:  0.9231\n",
      "F1 score:  0.9385\n",
      "Precision:  0.9242\n",
      "Recall:  0.9531\n",
      "AUC:  0.9727\n"
     ]
    }
   ],
   "source": [
    "print('Naive Bayes performance evalation measures: ')\n",
    "print('Accuracy: ', round(accuracy_nb, 4))\n",
    "print('F1 score: ', round(f1_score_nb, 4))\n",
    "print('Precision: ', round(precision_nb, 4))\n",
    "print('Recall: ', round(recall_nb, 4))\n",
    "print('AUC: ', round(auc_nb, 4))"
   ]
  },
  {
   "cell_type": "code",
   "execution_count": 79,
   "id": "168f74b4",
   "metadata": {},
   "outputs": [],
   "source": [
    "true_positive_nb = conf_matrix[1,1]\n",
    "true_negative_nb = conf_matrix[0,0]\n",
    "false_positive_nb = conf_matrix[0,1]\n",
    "false_negative_nb = conf_matrix[1,0]"
   ]
  },
  {
   "cell_type": "code",
   "execution_count": 81,
   "id": "aa8d7c30",
   "metadata": {},
   "outputs": [
    {
     "data": {
      "image/png": "[encoded data removed]",
      "text/plain": [
       "<Figure size 576x576 with 1 Axes>"
      ]
     },
     "metadata": {
      "needs_background": "light"
     },
     "output_type": "display_data"
    }
   ],
   "source": [
    "plot_groups = [[false_negative_nb, true_positive_nb], [true_negative_nb, false_positive_nb]]\n",
    "plot_group_labels = [\"Positive\", \"Negative\"]\n",
    "plot_df = pd.DataFrame(plot_groups, index = plot_group_labels)\n",
    "ax = plot_df.plot(kind='bar', legend=False, width=0.5, figsize=(8,8))\n",
    "ax.legend(['Negative', 'Positive'], fontsize = 14)\n",
    "ax.set_ylabel('Frequency', fontsize = 14)\n",
    "ax.set_xlabel('Naive Bayes', fontsize = 14)\n",
    "ax.set_xticklabels(['Positive', 'Negative'], rotation = 0, fontsize = 14)\n",
    "for bars in ax.containers:\n",
    "    ax.bar_label(bars)\n",
    "plt.show()"
   ]
  },
  {
   "cell_type": "markdown",
   "id": "79fcdf53",
   "metadata": {},
   "source": [
    "# KNN with PCA"
   ]
  },
  {
   "cell_type": "code",
   "execution_count": 55,
   "id": "fd38b971",
   "metadata": {},
   "outputs": [
    {
     "data": {
      "text/plain": [
       "KNeighborsClassifier()"
      ]
     },
     "execution_count": 55,
     "metadata": {},
     "output_type": "execute_result"
    }
   ],
   "source": [
    "from sklearn.neighbors import KNeighborsClassifier\n",
    "knn = KNeighborsClassifier() # n_neighbors=4, weights='distance', metric='euclidean'\n",
    "knn.fit(x_train, y_train)"
   ]
  },
  {
   "cell_type": "code",
   "execution_count": 56,
   "id": "a0fd3de6",
   "metadata": {},
   "outputs": [
    {
     "data": {
      "text/plain": [
       "0.9519230769230769"
      ]
     },
     "execution_count": 56,
     "metadata": {},
     "output_type": "execute_result"
    }
   ],
   "source": [
    "accuracy_knn = knn.score(x_test, y_test)\n",
    "accuracy_knn"
   ]
  },
  {
   "cell_type": "code",
   "execution_count": 57,
   "id": "cbb4dd59",
   "metadata": {},
   "outputs": [],
   "source": [
    "# making predictions using knn\n",
    "y_pred_knn = knn.predict(x_test)"
   ]
  },
  {
   "cell_type": "code",
   "execution_count": 58,
   "id": "d00a746f",
   "metadata": {},
   "outputs": [
    {
     "data": {
      "text/plain": [
       "([<matplotlib.axis.YTick at 0x9517a9c18>,\n",
       "  <matplotlib.axis.YTick at 0x9517a9be0>],\n",
       " [Text(0, 0.5, 'Negative'), Text(0, 1.5, 'Positive')])"
      ]
     },
     "execution_count": 58,
     "metadata": {},
     "output_type": "execute_result"
    },
    {
     "data": {
      "image/png": "[encoded data removed]",
      "text/plain": [
       "<Figure size 432x288 with 2 Axes>"
      ]
     },
     "metadata": {
      "needs_background": "light"
     },
     "output_type": "display_data"
    }
   ],
   "source": [
    "# generating confusion matrix\n",
    "from sklearn.metrics import confusion_matrix\n",
    "conf_matrix = confusion_matrix(y_test, y_pred_knn)\n",
    "sns.heatmap(conf_matrix, annot = True)\n",
    "plt.xlabel(\"Predicted\", fontsize=18)\n",
    "plt.ylabel(\"Actual\", fontsize=18)\n",
    "plt.xticks([0.5,1.5], ['Negative', 'Positive'], fontsize = 14)\n",
    "plt.yticks([0.5,1.5], ['Negative', 'Positive'], fontsize = 14)"
   ]
  },
  {
   "cell_type": "code",
   "execution_count": 59,
   "id": "697f060a",
   "metadata": {},
   "outputs": [],
   "source": [
    "# calculating other performance evaluation parameters\n",
    "from sklearn.metrics import precision_score, recall_score, f1_score, roc_curve, auc\n",
    "precision_knn = precision_score(y_test, y_pred_knn)\n",
    "y_pred_prob_knn = knn.predict_proba(x_test)[:,1]\n",
    "fpr_knn, tpr_knn, thresholds_knn = roc_curve(y_test, y_pred_prob_knn)\n",
    "auc_knn = auc(fpr_knn, tpr_knn)\n",
    "recall_knn = recall_score(y_test, y_pred_knn)\n",
    "f1_score_knn = f1_score(y_test, y_pred_knn)"
   ]
  },
  {
   "cell_type": "code",
   "execution_count": 60,
   "id": "2a95b4e5",
   "metadata": {},
   "outputs": [
    {
     "name": "stdout",
     "output_type": "stream",
     "text": [
      "KNN performance evalation measures: \n",
      "Accuracy:  0.9519\n",
      "F1 score:  0.96\n",
      "Precision:  0.9836\n",
      "Recall:  0.9375\n",
      "AUC:  0.9967\n"
     ]
    }
   ],
   "source": [
    "print('KNN performance evalation measures: ')\n",
    "print('Accuracy: ', round(accuracy_knn, 4))\n",
    "print('F1 score: ', round(f1_score_knn, 4))\n",
    "print('Precision: ', round(precision_knn, 4))\n",
    "print('Recall: ', round(recall_knn, 4))\n",
    "print('AUC: ', round(auc_knn, 4))"
   ]
  },
  {
   "cell_type": "code",
   "execution_count": 61,
   "id": "745e0638",
   "metadata": {},
   "outputs": [],
   "source": [
    "true_positive_knn = conf_matrix[1,1]\n",
    "true_negative_knn = conf_matrix[0,0]\n",
    "false_positive_knn = conf_matrix[0,1]\n",
    "false_negative_knn = conf_matrix[1,0]"
   ]
  },
  {
   "cell_type": "code",
   "execution_count": 62,
   "id": "38ab0fc2",
   "metadata": {},
   "outputs": [
    {
     "data": {
      "image/png": "[encoded data removed]",
      "text/plain": [
       "<Figure size 576x576 with 1 Axes>"
      ]
     },
     "metadata": {
      "needs_background": "light"
     },
     "output_type": "display_data"
    }
   ],
   "source": [
    "plot_groups = [[false_negative_knn, true_positive_knn], [true_negative_knn, false_positive_knn]]\n",
    "plot_group_labels = [\"Positive\", \"Negative\"]\n",
    "plot_df = pd.DataFrame(plot_groups, index = plot_group_labels)\n",
    "ax = plot_df.plot(kind='bar', legend=False, width=0.5, figsize=(8,8))\n",
    "ax.legend(['Negative', 'Positive'], fontsize = 14)\n",
    "ax.set_ylabel('Frequency', fontsize = 14)\n",
    "ax.set_xlabel('KNN', fontsize = 14)\n",
    "ax.set_xticklabels(['Positive', 'Negative'], rotation = 0, fontsize = 14)\n",
    "for bars in ax.containers:\n",
    "    ax.bar_label(bars)\n",
    "plt.show()"
   ]
  },
  {
   "cell_type": "markdown",
   "id": "34fe777a",
   "metadata": {},
   "source": [
    "# Logistic Regression with PCA"
   ]
  },
  {
   "cell_type": "code",
   "execution_count": 55,
   "id": "4dee7ae3",
   "metadata": {},
   "outputs": [
    {
     "data": {
      "text/plain": [
       "LogisticRegression(C=0.9, max_iter=107)"
      ]
     },
     "execution_count": 55,
     "metadata": {},
     "output_type": "execute_result"
    }
   ],
   "source": [
    "from sklearn.linear_model import LogisticRegression\n",
    "log_reg = LogisticRegression(max_iter=107, C = 0.9)\n",
    "log_reg.fit(x_train, y_train)\n",
    "# max_iter"
   ]
  },
  {
   "cell_type": "code",
   "execution_count": 56,
   "id": "235d4122",
   "metadata": {},
   "outputs": [
    {
     "data": {
      "text/plain": [
       "0.9230769230769231"
      ]
     },
     "execution_count": 56,
     "metadata": {},
     "output_type": "execute_result"
    }
   ],
   "source": [
    "accuracy_log_reg = log_reg.score(x_test, y_test)\n",
    "accuracy_log_reg"
   ]
  },
  {
   "cell_type": "code",
   "execution_count": 57,
   "id": "434fb3c0",
   "metadata": {},
   "outputs": [],
   "source": [
    "# making predictions using logistic regression\n",
    "y_pred_log_reg = log_reg.predict(x_test)"
   ]
  },
  {
   "cell_type": "code",
   "execution_count": 58,
   "id": "23da79f2",
   "metadata": {},
   "outputs": [
    {
     "data": {
      "text/plain": [
       "([<matplotlib.axis.YTick at 0x412bd6898>,\n",
       "  <matplotlib.axis.YTick at 0x412bd6240>],\n",
       " [Text(0, 0.5, 'Negative'), Text(0, 1.5, 'Positive')])"
      ]
     },
     "execution_count": 58,
     "metadata": {},
     "output_type": "execute_result"
    },
    {
     "data": {
      "image/png": "[encoded data removed]",
      "text/plain": [
       "<Figure size 432x288 with 2 Axes>"
      ]
     },
     "metadata": {
      "needs_background": "light"
     },
     "output_type": "display_data"
    }
   ],
   "source": [
    "# generating confusion matrix\n",
    "from sklearn.metrics import confusion_matrix\n",
    "conf_matrix = confusion_matrix(y_test, y_pred_log_reg)\n",
    "sns.heatmap(conf_matrix, annot = True)\n",
    "plt.xlabel(\"Predicted\", fontsize=18)\n",
    "plt.ylabel(\"Actual\", fontsize=18)\n",
    "plt.xticks([0.5,1.5], ['Negative', 'Positive'], fontsize = 14)\n",
    "plt.yticks([0.5,1.5], ['Negative', 'Positive'], fontsize = 14)"
   ]
  },
  {
   "cell_type": "code",
   "execution_count": 59,
   "id": "068a72fa",
   "metadata": {},
   "outputs": [],
   "source": [
    "# calculating other performance evaluation parameters\n",
    "from sklearn.metrics import precision_score, recall_score, f1_score, roc_curve, auc\n",
    "precision_log_reg = precision_score(y_test, y_pred_log_reg)\n",
    "y_pred_prob_log_reg = log_reg.predict_proba(x_test)[:,1]\n",
    "fpr_log_reg, tpr_log_reg, thresholds_log_reg = roc_curve(y_test, y_pred_prob_log_reg)\n",
    "auc_log_reg = auc(fpr_log_reg, tpr_log_reg)\n",
    "recall_log_reg = recall_score(y_test, y_pred_log_reg)\n",
    "f1_score_log_reg = f1_score(y_test, y_pred_log_reg)"
   ]
  },
  {
   "cell_type": "code",
   "execution_count": 60,
   "id": "40b188ac",
   "metadata": {},
   "outputs": [
    {
     "name": "stdout",
     "output_type": "stream",
     "text": [
      "Logistic Regression performance evalation measures: \n",
      "Accuracy:  0.9231\n",
      "F1 score:  0.9385\n",
      "Precision:  0.9242\n",
      "Recall:  0.9531\n",
      "AUC:  0.9723\n"
     ]
    }
   ],
   "source": [
    "print('Logistic Regression performance evalation measures: ')\n",
    "print('Accuracy: ', round(accuracy_log_reg, 4))\n",
    "print('F1 score: ', round(f1_score_log_reg, 4))\n",
    "print('Precision: ', round(precision_log_reg, 4))\n",
    "print('Recall: ', round(recall_log_reg, 4))\n",
    "print('AUC: ', round(auc_log_reg, 4))"
   ]
  },
  {
   "cell_type": "code",
   "execution_count": 61,
   "id": "560041f7",
   "metadata": {},
   "outputs": [],
   "source": [
    "true_positive_log_reg = conf_matrix[1,1]\n",
    "true_negative_log_reg = conf_matrix[0,0]\n",
    "false_positive_log_reg = conf_matrix[0,1]\n",
    "false_negative_log_reg = conf_matrix[1,0]"
   ]
  },
  {
   "cell_type": "code",
   "execution_count": 62,
   "id": "e50e626c",
   "metadata": {},
   "outputs": [
    {
     "data": {
      "image/png": "[encoded data removed]",
      "text/plain": [
       "<Figure size 576x576 with 1 Axes>"
      ]
     },
     "metadata": {
      "needs_background": "light"
     },
     "output_type": "display_data"
    }
   ],
   "source": [
    "plot_groups = [[false_negative_log_reg, true_positive_log_reg], [true_negative_log_reg, false_positive_log_reg]]\n",
    "plot_group_labels = [\"Positive\", \"Negative\"]\n",
    "plot_df = pd.DataFrame(plot_groups, index = plot_group_labels)\n",
    "ax = plot_df.plot(kind='bar', legend=False, width=0.5, figsize=(8,8))\n",
    "ax.legend(['Negative', 'Positive'], fontsize = 14)\n",
    "ax.set_ylabel('Frequency', fontsize = 14)\n",
    "ax.set_xlabel('Logistic Regression', fontsize = 14)\n",
    "ax.set_xticklabels(['Positive', 'Negative'], rotation = 0, fontsize = 14)\n",
    "for bars in ax.containers:\n",
    "    ax.bar_label(bars)\n",
    "plt.show()"
   ]
  },
  {
   "cell_type": "markdown",
   "id": "27c73f43",
   "metadata": {},
   "source": [
    "# Gradient Boosting with PCA"
   ]
  },
  {
   "cell_type": "code",
   "execution_count": 63,
   "id": "90c7c6a6",
   "metadata": {},
   "outputs": [
    {
     "data": {
      "text/plain": [
       "GradientBoostingClassifier()"
      ]
     },
     "execution_count": 63,
     "metadata": {},
     "output_type": "execute_result"
    }
   ],
   "source": [
    "from sklearn.ensemble import GradientBoostingClassifier\n",
    "gbc = GradientBoostingClassifier()\n",
    "gbc.fit(x_train, y_train)"
   ]
  },
  {
   "cell_type": "code",
   "execution_count": 64,
   "id": "6fa477de",
   "metadata": {},
   "outputs": [
    {
     "data": {
      "text/plain": [
       "0.9903846153846154"
      ]
     },
     "execution_count": 64,
     "metadata": {},
     "output_type": "execute_result"
    }
   ],
   "source": [
    "accuracy_gbc = gbc.score(x_test, y_test)\n",
    "accuracy_gbc"
   ]
  },
  {
   "cell_type": "code",
   "execution_count": 65,
   "id": "a0b9448d",
   "metadata": {},
   "outputs": [],
   "source": [
    "# making predictions using gradient boosting\n",
    "y_pred_gbc = gbc.predict(x_test)"
   ]
  },
  {
   "cell_type": "code",
   "execution_count": 66,
   "id": "e201d5b0",
   "metadata": {},
   "outputs": [
    {
     "data": {
      "text/plain": [
       "([<matplotlib.axis.YTick at 0x412b0efd0>,\n",
       "  <matplotlib.axis.YTick at 0x412b0e978>],\n",
       " [Text(0, 0.5, 'Negative'), Text(0, 1.5, 'Positive')])"
      ]
     },
     "execution_count": 66,
     "metadata": {},
     "output_type": "execute_result"
    },
    {
     "data": {
      "image/png": "[encoded data removed]",
      "text/plain": [
       "<Figure size 432x288 with 2 Axes>"
      ]
     },
     "metadata": {
      "needs_background": "light"
     },
     "output_type": "display_data"
    }
   ],
   "source": [
    "# generating confusion matrix\n",
    "from sklearn.metrics import confusion_matrix\n",
    "conf_matrix = confusion_matrix(y_test, y_pred_gbc)\n",
    "sns.heatmap(conf_matrix, annot = True)\n",
    "plt.xlabel(\"Predicted\", fontsize=18)\n",
    "plt.ylabel(\"Actual\", fontsize=18)\n",
    "plt.xticks([0.5,1.5], ['Negative', 'Positive'], fontsize = 14)\n",
    "plt.yticks([0.5,1.5], ['Negative', 'Positive'], fontsize = 14)"
   ]
  },
  {
   "cell_type": "code",
   "execution_count": 67,
   "id": "c9a3c5b3",
   "metadata": {},
   "outputs": [],
   "source": [
    "# calculating other performance evaluation parameters\n",
    "from sklearn.metrics import precision_score, recall_score, f1_score, roc_curve, auc\n",
    "precision_gbc = precision_score(y_test, y_pred_gbc)\n",
    "y_pred_prob_gbc = gbc.predict_proba(x_test)[:,1]\n",
    "fpr_gbc, tpr_gbc, thresholds_gbc = roc_curve(y_test, y_pred_prob_gbc)\n",
    "auc_gbc = auc(fpr_gbc, tpr_gbc)\n",
    "recall_gbc = recall_score(y_test, y_pred_gbc)\n",
    "f1_score_gbc = f1_score(y_test, y_pred_gbc)"
   ]
  },
  {
   "cell_type": "code",
   "execution_count": 68,
   "id": "0be4eab7",
   "metadata": {},
   "outputs": [
    {
     "name": "stdout",
     "output_type": "stream",
     "text": [
      "Gradient Boosting performance evalation measures: \n",
      "Accuracy:  0.9904\n",
      "F1 score:  0.9922\n",
      "Precision:  0.9846\n",
      "Recall:  1.0\n",
      "AUC:  1.0\n"
     ]
    }
   ],
   "source": [
    "print('Gradient Boosting performance evalation measures: ')\n",
    "print('Accuracy: ', round(accuracy_gbc, 4))\n",
    "print('F1 score: ', round(f1_score_gbc, 4))\n",
    "print('Precision: ', round(precision_gbc, 4))\n",
    "print('Recall: ', round(recall_gbc, 4))\n",
    "print('AUC: ', round(auc_gbc, 4))"
   ]
  },
  {
   "cell_type": "code",
   "execution_count": 69,
   "id": "d680d294",
   "metadata": {},
   "outputs": [],
   "source": [
    "true_positive_gbc = conf_matrix[1,1]\n",
    "true_negative_gbc = conf_matrix[0,0]\n",
    "false_positive_gbc = conf_matrix[0,1]\n",
    "false_negative_gbc = conf_matrix[1,0]"
   ]
  },
  {
   "cell_type": "code",
   "execution_count": 70,
   "id": "3456cd02",
   "metadata": {},
   "outputs": [
    {
     "data": {
      "image/png": "[encoded data removed]",
      "text/plain": [
       "<Figure size 576x576 with 1 Axes>"
      ]
     },
     "metadata": {
      "needs_background": "light"
     },
     "output_type": "display_data"
    }
   ],
   "source": [
    "plot_groups = [[false_negative_gbc, true_positive_gbc], [true_negative_gbc, false_positive_gbc]]\n",
    "plot_group_labels = [\"Positive\", \"Negative\"]\n",
    "plot_df = pd.DataFrame(plot_groups, index = plot_group_labels)\n",
    "ax = plot_df.plot(kind='bar', legend=False, width=0.5, figsize=(8,8))\n",
    "ax.legend(['Negative', 'Positive'], fontsize = 14)\n",
    "ax.set_ylabel('Frequency', fontsize = 14)\n",
    "ax.set_xlabel('Gradient Boosting', fontsize = 14)\n",
    "ax.set_xticklabels(['Positive', 'Negative'], rotation = 0, fontsize = 14)\n",
    "for bars in ax.containers:\n",
    "    ax.bar_label(bars)\n",
    "plt.show()"
   ]
  },
  {
   "cell_type": "markdown",
   "id": "48fa5a8f",
   "metadata": {},
   "source": [
    "# SVM with PCA"
   ]
  },
  {
   "cell_type": "code",
   "execution_count": 71,
   "id": "9241625c",
   "metadata": {},
   "outputs": [
    {
     "data": {
      "text/plain": [
       "SVC(coef0=1.1, gamma=0.05, kernel='poly')"
      ]
     },
     "execution_count": 71,
     "metadata": {},
     "output_type": "execute_result"
    }
   ],
   "source": [
    "from sklearn.svm import SVC\n",
    "svm = SVC(kernel='poly', coef0=1.1, tol=0.001, gamma=0.05)\n",
    "svm.fit(x_train, y_train)"
   ]
  },
  {
   "cell_type": "code",
   "execution_count": 72,
   "id": "b4e5ba3d",
   "metadata": {},
   "outputs": [
    {
     "data": {
      "text/plain": [
       "0.9519230769230769"
      ]
     },
     "execution_count": 72,
     "metadata": {},
     "output_type": "execute_result"
    }
   ],
   "source": [
    "accuracy_svm = svm.score(x_test, y_test)\n",
    "accuracy_svm"
   ]
  },
  {
   "cell_type": "code",
   "execution_count": 73,
   "id": "5e1f45ff",
   "metadata": {},
   "outputs": [],
   "source": [
    "# making predictions using SVM\n",
    "y_pred_svm = svm.predict(x_test)"
   ]
  },
  {
   "cell_type": "code",
   "execution_count": 74,
   "id": "1627a07f",
   "metadata": {},
   "outputs": [
    {
     "data": {
      "text/plain": [
       "([<matplotlib.axis.YTick at 0x41106fe80>,\n",
       "  <matplotlib.axis.YTick at 0x41106fe48>],\n",
       " [Text(0, 0.5, 'Negative'), Text(0, 1.5, 'Positive')])"
      ]
     },
     "execution_count": 74,
     "metadata": {},
     "output_type": "execute_result"
    },
    {
     "data": {
      "image/png": "[encoded data removed]",
      "text/plain": [
       "<Figure size 432x288 with 2 Axes>"
      ]
     },
     "metadata": {
      "needs_background": "light"
     },
     "output_type": "display_data"
    }
   ],
   "source": [
    "# generating confusion matrix\n",
    "from sklearn.metrics import confusion_matrix\n",
    "conf_matrix = confusion_matrix(y_test, y_pred_svm)\n",
    "sns.heatmap(conf_matrix, annot = True)\n",
    "plt.xlabel(\"Predicted\", fontsize=18)\n",
    "plt.ylabel(\"Actual\", fontsize=18)\n",
    "plt.xticks([0.5,1.5], ['Negative', 'Positive'], fontsize = 14)\n",
    "plt.yticks([0.5,1.5], ['Negative', 'Positive'], fontsize = 14)"
   ]
  },
  {
   "cell_type": "code",
   "execution_count": 75,
   "id": "f0ef5a94",
   "metadata": {},
   "outputs": [],
   "source": [
    "# calculating other performance evaluation parameters\n",
    "from sklearn.metrics import precision_score, recall_score, f1_score, roc_curve, auc\n",
    "precision_svm = precision_score(y_test, y_pred_svm)\n",
    "y_pred_prob_svm = gbc.predict_proba(x_test)[:,1]\n",
    "fpr_svm, tpr_svm, thresholds_gbc = roc_curve(y_test, y_pred_prob_svm)\n",
    "auc_svm = auc(fpr_svm, tpr_svm)\n",
    "recall_svm = recall_score(y_test, y_pred_svm)\n",
    "f1_score_svm = f1_score(y_test, y_pred_svm)"
   ]
  },
  {
   "cell_type": "code",
   "execution_count": 76,
   "id": "bed12e33",
   "metadata": {},
   "outputs": [
    {
     "name": "stdout",
     "output_type": "stream",
     "text": [
      "SVM performance evalation measures: \n",
      "Accuracy:  0.9519\n",
      "F1 score:  0.9612\n",
      "Precision:  0.9538\n",
      "Recall:  0.9688\n",
      "AUC:  1.0\n"
     ]
    }
   ],
   "source": [
    "print('SVM performance evalation measures: ')\n",
    "print('Accuracy: ', round(accuracy_svm, 4))\n",
    "print('F1 score: ', round(f1_score_svm, 4))\n",
    "print('Precision: ', round(precision_svm, 4))\n",
    "print('Recall: ', round(recall_svm, 4))\n",
    "print('AUC: ', round(auc_svm, 4))"
   ]
  },
  {
   "cell_type": "code",
   "execution_count": 77,
   "id": "93d23024",
   "metadata": {},
   "outputs": [],
   "source": [
    "true_positive_svm = conf_matrix[1,1]\n",
    "true_negative_svm = conf_matrix[0,0]\n",
    "false_positive_svm = conf_matrix[0,1]\n",
    "false_negative_svm = conf_matrix[1,0]"
   ]
  },
  {
   "cell_type": "code",
   "execution_count": 78,
   "id": "1110fc26",
   "metadata": {},
   "outputs": [
    {
     "data": {
      "image/png": "[encoded data removed]",
      "text/plain": [
       "<Figure size 576x576 with 1 Axes>"
      ]
     },
     "metadata": {
      "needs_background": "light"
     },
     "output_type": "display_data"
    }
   ],
   "source": [
    "plot_groups = [[false_negative_svm, true_positive_svm], [true_negative_svm, false_positive_svm]]\n",
    "plot_group_labels = [\"Positive\", \"Negative\"]\n",
    "plot_df = pd.DataFrame(plot_groups, index = plot_group_labels)\n",
    "ax = plot_df.plot(kind='bar', legend=False, width=0.5, figsize=(8,8))\n",
    "ax.legend(['Negative', 'Positive'], fontsize = 14)\n",
    "ax.set_ylabel('Frequency', fontsize = 14)\n",
    "ax.set_xlabel('SVM', fontsize = 14)\n",
    "ax.set_xticklabels(['Positive', 'Negative'], rotation = 0, fontsize = 14)\n",
    "for bars in ax.containers:\n",
    "    ax.bar_label(bars)\n",
    "plt.show()"
   ]
  },
  {
   "cell_type": "code",
   "execution_count": 79,
   "id": "f925e078",
   "metadata": {},
   "outputs": [
    {
     "data": {
      "text/plain": [
       "<matplotlib.legend.Legend at 0x412cd6e48>"
      ]
     },
     "execution_count": 79,
     "metadata": {},
     "output_type": "execute_result"
    },
    {
     "data": {
      "image/png": "[encoded data removed]",
      "text/plain": [
       "<Figure size 864x576 with 1 Axes>"
      ]
     },
     "metadata": {
      "needs_background": "light"
     },
     "output_type": "display_data"
    }
   ],
   "source": [
    "# Plotting ROC curve\n",
    "plt.figure(figsize = (12,8))\n",
    "plt.plot(fpr_rf,tpr_rf,label=\"Random Forest\")\n",
    "plt.plot(fpr_log_reg,tpr_log_reg,label=\"Logistic Regression\")\n",
    "plt.plot(fpr_dt,tpr_dt,label=\"Decision Tree\")\n",
    "plt.plot(fpr_knn,tpr_knn,label=\"KNN\")\n",
    "plt.plot(fpr_svm,tpr_svm,label=\"SVM\")\n",
    "plt.plot(fpr_gbc,tpr_gbc,label=\"Gradient Boosting\")\n",
    "#plt.plot(fpr_nb,tpr_nb,label=\"Naive Bayes\")\n",
    "plt.xlabel('FP Rate (1-Specificity)', fontsize=16)\n",
    "plt.ylabel('TP Rate (Sensitivity)', fontsize=16)\n",
    "plt.title('ROC Curve', fontsize=16)\n",
    "plt.legend()"
   ]
  },
  {
   "cell_type": "code",
   "execution_count": 81,
   "id": "47845bb0",
   "metadata": {},
   "outputs": [
    {
     "data": {
      "text/plain": [
       "[Text(0, 0, '0.981'),\n",
       " Text(0, 0, '0.962'),\n",
       " Text(0, 0, '0.952'),\n",
       " Text(0, 0, '0.923'),\n",
       " Text(0, 0, '0.99'),\n",
       " Text(0, 0, '0.952')]"
      ]
     },
     "execution_count": 81,
     "metadata": {},
     "output_type": "execute_result"
    },
    {
     "data": {
      "image/png": "[encoded data removed]",
      "text/plain": [
       "<Figure size 432x288 with 1 Axes>"
      ]
     },
     "metadata": {
      "needs_background": "light"
     },
     "output_type": "display_data"
    }
   ],
   "source": [
    "# plotting all the accuracy of algorithm in a bar plot \n",
    "import numpy as np\n",
    "x_index = np.arange(6)\n",
    "y = [round(accuracy_rf,3), round(accuracy_dt,3), round(accuracy_knn,3), round(accuracy_log_reg,3), \n",
    "     round(accuracy_gbc,3), round(accuracy_svm,3)]\n",
    "algo = ['Random forest', 'Decision tree', 'KNN', 'Logistic regression', 'Gradient boosting', 'SVM']\n",
    "fig, ax = plt.subplots()\n",
    "ax.set_xticks(x_index, labels = algo, rotation = 90)\n",
    "bars = ax.bar(x_index, y, color=['red', 'blue', 'yellow', 'brown', 'orange', 'green'])\n",
    "ax.set_ylabel('Accuracy')\n",
    "ax.set_xlabel('ML Algorthims')\n",
    "ax.bar_label(bars)"
   ]
  }
 ],
 "metadata": {
  "kernelspec": {
   "display_name": "Python 3 (ipykernel)",
   "language": "python",
   "name": "python3"
  },
  "language_info": {
   "codemirror_mode": {
    "name": "ipython",
    "version": 3
   },
   "file_extension": ".py",
   "mimetype": "text/x-python",
   "name": "python",
   "nbconvert_exporter": "python",
   "pygments_lexer": "ipython3",
   "version": "3.7.0"
  }
 },
 "nbformat": 4,
 "nbformat_minor": 5
}
