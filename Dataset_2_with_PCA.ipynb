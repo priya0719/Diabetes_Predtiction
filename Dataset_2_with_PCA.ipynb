{
 "cells": [
  {
   "cell_type": "markdown",
   "id": "e2ee0d9e",
   "metadata": {},
   "source": [
    "# DATASET 2 WITH PCA"
   ]
  },
  {
   "cell_type": "code",
   "execution_count": null,
   "id": "a51c6a49",
   "metadata": {},
   "outputs": [],
   "source": [
    "# Random forest:0.972027972027972\n",
    "# Decision tree: 0.972027972027972\n",
    "# Naive bayes: \n",
    "# KNN: 0.965034965034965\n",
    "# Logistic regression: 0.8741258741258742\n",
    "# Gradient boosting: 0.972027972027972\n",
    "# SVM: 0.9300699300699301"
   ]
  },
  {
   "cell_type": "code",
   "execution_count": 1,
   "id": "4ec7680a",
   "metadata": {},
   "outputs": [],
   "source": [
    "import pandas as pd"
   ]
  },
  {
   "cell_type": "code",
   "execution_count": 3,
   "id": "1b2c2e88",
   "metadata": {},
   "outputs": [
    {
     "data": {
      "text/html": [
       "<div>\n",
       "<style scoped>\n",
       "    .dataframe tbody tr th:only-of-type {\n",
       "        vertical-align: middle;\n",
       "    }\n",
       "\n",
       "    .dataframe tbody tr th {\n",
       "        vertical-align: top;\n",
       "    }\n",
       "\n",
       "    .dataframe thead th {\n",
       "        text-align: right;\n",
       "    }\n",
       "</style>\n",
       "<table border=\"1\" class=\"dataframe\">\n",
       "  <thead>\n",
       "    <tr style=\"text-align: right;\">\n",
       "      <th></th>\n",
       "      <th>Age</th>\n",
       "      <th>Gender</th>\n",
       "      <th>Family_Diabetes</th>\n",
       "      <th>highBP</th>\n",
       "      <th>PhysicallyActive</th>\n",
       "      <th>BMI</th>\n",
       "      <th>Smoking</th>\n",
       "      <th>Alcohol</th>\n",
       "      <th>Sleep</th>\n",
       "      <th>SoundSleep</th>\n",
       "      <th>RegularMedicine</th>\n",
       "      <th>JunkFood</th>\n",
       "      <th>Stress</th>\n",
       "      <th>BPLevel</th>\n",
       "      <th>Pregancies</th>\n",
       "      <th>Pdiabetes</th>\n",
       "      <th>UriationFreq</th>\n",
       "      <th>Diabetic</th>\n",
       "    </tr>\n",
       "  </thead>\n",
       "  <tbody>\n",
       "    <tr>\n",
       "      <th>0</th>\n",
       "      <td>50-59</td>\n",
       "      <td>Male</td>\n",
       "      <td>no</td>\n",
       "      <td>yes</td>\n",
       "      <td>one hr or more</td>\n",
       "      <td>39.0</td>\n",
       "      <td>no</td>\n",
       "      <td>no</td>\n",
       "      <td>8</td>\n",
       "      <td>6</td>\n",
       "      <td>no</td>\n",
       "      <td>occasionally</td>\n",
       "      <td>sometimes</td>\n",
       "      <td>high</td>\n",
       "      <td>0.0</td>\n",
       "      <td>0.0</td>\n",
       "      <td>not much</td>\n",
       "      <td>no</td>\n",
       "    </tr>\n",
       "    <tr>\n",
       "      <th>1</th>\n",
       "      <td>50-59</td>\n",
       "      <td>Male</td>\n",
       "      <td>no</td>\n",
       "      <td>yes</td>\n",
       "      <td>less than half an hr</td>\n",
       "      <td>28.0</td>\n",
       "      <td>no</td>\n",
       "      <td>no</td>\n",
       "      <td>8</td>\n",
       "      <td>6</td>\n",
       "      <td>yes</td>\n",
       "      <td>very often</td>\n",
       "      <td>sometimes</td>\n",
       "      <td>normal</td>\n",
       "      <td>0.0</td>\n",
       "      <td>0.0</td>\n",
       "      <td>not much</td>\n",
       "      <td>no</td>\n",
       "    </tr>\n",
       "    <tr>\n",
       "      <th>2</th>\n",
       "      <td>40-49</td>\n",
       "      <td>Male</td>\n",
       "      <td>no</td>\n",
       "      <td>no</td>\n",
       "      <td>one hr or more</td>\n",
       "      <td>24.0</td>\n",
       "      <td>no</td>\n",
       "      <td>no</td>\n",
       "      <td>6</td>\n",
       "      <td>6</td>\n",
       "      <td>no</td>\n",
       "      <td>occasionally</td>\n",
       "      <td>sometimes</td>\n",
       "      <td>normal</td>\n",
       "      <td>0.0</td>\n",
       "      <td>0.0</td>\n",
       "      <td>not much</td>\n",
       "      <td>no</td>\n",
       "    </tr>\n",
       "    <tr>\n",
       "      <th>3</th>\n",
       "      <td>50-59</td>\n",
       "      <td>Male</td>\n",
       "      <td>no</td>\n",
       "      <td>no</td>\n",
       "      <td>one hr or more</td>\n",
       "      <td>23.0</td>\n",
       "      <td>no</td>\n",
       "      <td>no</td>\n",
       "      <td>8</td>\n",
       "      <td>6</td>\n",
       "      <td>no</td>\n",
       "      <td>occasionally</td>\n",
       "      <td>sometimes</td>\n",
       "      <td>normal</td>\n",
       "      <td>0.0</td>\n",
       "      <td>0.0</td>\n",
       "      <td>not much</td>\n",
       "      <td>no</td>\n",
       "    </tr>\n",
       "    <tr>\n",
       "      <th>4</th>\n",
       "      <td>40-49</td>\n",
       "      <td>Male</td>\n",
       "      <td>no</td>\n",
       "      <td>no</td>\n",
       "      <td>less than half an hr</td>\n",
       "      <td>27.0</td>\n",
       "      <td>no</td>\n",
       "      <td>no</td>\n",
       "      <td>8</td>\n",
       "      <td>8</td>\n",
       "      <td>no</td>\n",
       "      <td>occasionally</td>\n",
       "      <td>sometimes</td>\n",
       "      <td>normal</td>\n",
       "      <td>0.0</td>\n",
       "      <td>0.0</td>\n",
       "      <td>not much</td>\n",
       "      <td>no</td>\n",
       "    </tr>\n",
       "  </tbody>\n",
       "</table>\n",
       "</div>"
      ],
      "text/plain": [
       "     Age Gender Family_Diabetes highBP      PhysicallyActive   BMI Smoking  \\\n",
       "0  50-59   Male              no    yes        one hr or more  39.0      no   \n",
       "1  50-59   Male              no    yes  less than half an hr  28.0      no   \n",
       "2  40-49   Male              no     no        one hr or more  24.0      no   \n",
       "3  50-59   Male              no     no        one hr or more  23.0      no   \n",
       "4  40-49   Male              no     no  less than half an hr  27.0      no   \n",
       "\n",
       "  Alcohol  Sleep  SoundSleep RegularMedicine      JunkFood     Stress BPLevel  \\\n",
       "0      no      8           6              no  occasionally  sometimes    high   \n",
       "1      no      8           6             yes    very often  sometimes  normal   \n",
       "2      no      6           6              no  occasionally  sometimes  normal   \n",
       "3      no      8           6              no  occasionally  sometimes  normal   \n",
       "4      no      8           8              no  occasionally  sometimes  normal   \n",
       "\n",
       "   Pregancies  Pdiabetes UriationFreq Diabetic  \n",
       "0         0.0        0.0     not much       no  \n",
       "1         0.0        0.0     not much       no  \n",
       "2         0.0        0.0     not much       no  \n",
       "3         0.0        0.0     not much       no  \n",
       "4         0.0        0.0     not much       no  "
      ]
     },
     "execution_count": 3,
     "metadata": {},
     "output_type": "execute_result"
    }
   ],
   "source": [
    "# reading first dataset\n",
    "dataset_2_path = r'C:\\Users\\dell\\Desktop\\Priya_ML\\diabetes_dataset_2019.csv'\n",
    "dataset_2 = pd.read_csv(dataset_2_path)\n",
    "dataset_2.head()"
   ]
  },
  {
   "cell_type": "code",
   "execution_count": 4,
   "id": "f9e7ac00",
   "metadata": {},
   "outputs": [
    {
     "data": {
      "text/plain": [
       "(952, 18)"
      ]
     },
     "execution_count": 4,
     "metadata": {},
     "output_type": "execute_result"
    }
   ],
   "source": [
    "dataset_2.shape # dataset has 520 rows and 17 columns"
   ]
  },
  {
   "cell_type": "code",
   "execution_count": 5,
   "id": "35c0c6bc",
   "metadata": {},
   "outputs": [
    {
     "data": {
      "text/plain": [
       " Age                 0\n",
       "Gender               0\n",
       "Family_Diabetes      0\n",
       "highBP               0\n",
       "PhysicallyActive     0\n",
       "BMI                  4\n",
       "Smoking              0\n",
       "Alcohol              0\n",
       "Sleep                0\n",
       "SoundSleep           0\n",
       "RegularMedicine      0\n",
       "JunkFood             0\n",
       "Stress               0\n",
       "BPLevel              0\n",
       "Pregancies          42\n",
       "Pdiabetes            1\n",
       "UriationFreq         0\n",
       "Diabetic             1\n",
       "dtype: int64"
      ]
     },
     "execution_count": 5,
     "metadata": {},
     "output_type": "execute_result"
    }
   ],
   "source": [
    "# finding missing values\n",
    "dataset_2.isna().sum()\n",
    "# none of the attributes have missing values"
   ]
  },
  {
   "cell_type": "code",
   "execution_count": 6,
   "id": "6ae27b73",
   "metadata": {},
   "outputs": [],
   "source": [
    "dataset_2.rename(columns={' Age': 'Age', 'Pregancies': 'Pregnancies', 'UriationFreq': 'UrinationFreq'}, inplace=True)"
   ]
  },
  {
   "cell_type": "code",
   "execution_count": 7,
   "id": "d1a9fb3d",
   "metadata": {},
   "outputs": [
    {
     "data": {
      "text/plain": [
       "Index(['Age', 'Gender', 'Family_Diabetes', 'highBP', 'PhysicallyActive', 'BMI',\n",
       "       'Smoking', 'Alcohol', 'Sleep', 'SoundSleep', 'RegularMedicine',\n",
       "       'JunkFood', 'Stress', 'BPLevel', 'Pregnancies', 'Pdiabetes',\n",
       "       'UrinationFreq', 'Diabetic'],\n",
       "      dtype='object')"
      ]
     },
     "execution_count": 7,
     "metadata": {},
     "output_type": "execute_result"
    }
   ],
   "source": [
    "dataset_2.columns"
   ]
  },
  {
   "cell_type": "code",
   "execution_count": 8,
   "id": "44b92e4d",
   "metadata": {},
   "outputs": [
    {
     "data": {
      "text/plain": [
       "array([ 0.,  1.,  2.,  3.,  4., nan])"
      ]
     },
     "execution_count": 8,
     "metadata": {},
     "output_type": "execute_result"
    }
   ],
   "source": [
    "# checking out unique values in Pregnancies columns \n",
    "dataset_2['Pregnancies'].unique()"
   ]
  },
  {
   "cell_type": "code",
   "execution_count": 9,
   "id": "7e22b829",
   "metadata": {},
   "outputs": [],
   "source": [
    "# replacing missing values by mode for Pregnancies column\n",
    "dataset_2['Pregnancies'].fillna(dataset_2['Pregnancies'].mode()[0], inplace=True)"
   ]
  },
  {
   "cell_type": "code",
   "execution_count": 10,
   "id": "2aa0748a",
   "metadata": {},
   "outputs": [
    {
     "data": {
      "text/plain": [
       "array([39., 28., 24., 23., 27., 21., 20., 26., 22., 15., 34., 30., 29.,\n",
       "       18., 32., 31., 36., 38., 40., 35., 19., 33., 17., 25., nan, 42.,\n",
       "       45.])"
      ]
     },
     "execution_count": 10,
     "metadata": {},
     "output_type": "execute_result"
    }
   ],
   "source": [
    "# checking out unique values in BMI columns \n",
    "dataset_2['BMI'].unique()"
   ]
  },
  {
   "cell_type": "code",
   "execution_count": 11,
   "id": "7b85aae1",
   "metadata": {},
   "outputs": [],
   "source": [
    "# replacing missing values by mean for BMI column\n",
    "dataset_2['BMI'].fillna(round(dataset_2['BMI'].mean(),2), inplace=True)"
   ]
  },
  {
   "cell_type": "code",
   "execution_count": 12,
   "id": "09d8f7b8",
   "metadata": {},
   "outputs": [
    {
     "data": {
      "text/plain": [
       "array([ 0.,  1., nan])"
      ]
     },
     "execution_count": 12,
     "metadata": {},
     "output_type": "execute_result"
    }
   ],
   "source": [
    "# checking out unique values in Pdiabetes columns \n",
    "dataset_2['Pdiabetes'].unique()"
   ]
  },
  {
   "cell_type": "code",
   "execution_count": 13,
   "id": "5ec511d3",
   "metadata": {},
   "outputs": [],
   "source": [
    "# replacing missing values by mode for Pdiabetes column\n",
    "dataset_2['Pdiabetes'].fillna(dataset_2['Pdiabetes'].mode()[0], inplace=True)"
   ]
  },
  {
   "cell_type": "code",
   "execution_count": 14,
   "id": "7ce10a41",
   "metadata": {},
   "outputs": [
    {
     "data": {
      "text/plain": [
       "array(['no', 'yes', ' no', nan], dtype=object)"
      ]
     },
     "execution_count": 14,
     "metadata": {},
     "output_type": "execute_result"
    }
   ],
   "source": [
    "# checking out unique values in Diabetic columns \n",
    "dataset_2['Diabetic'].unique()\n",
    "# we have a invalid ' no' which should be replaced by 'no'"
   ]
  },
  {
   "cell_type": "code",
   "execution_count": 15,
   "id": "abd839ee",
   "metadata": {},
   "outputs": [],
   "source": [
    "# the invalid ' no' is present at 17th row\n",
    "dataset_2.loc[17, 'Diabetic'] = 'no'"
   ]
  },
  {
   "cell_type": "code",
   "execution_count": 16,
   "id": "27acb994",
   "metadata": {},
   "outputs": [
    {
     "data": {
      "text/plain": [
       "array(['no', 'yes', nan], dtype=object)"
      ]
     },
     "execution_count": 16,
     "metadata": {},
     "output_type": "execute_result"
    }
   ],
   "source": [
    "dataset_2['Diabetic'].unique()"
   ]
  },
  {
   "cell_type": "code",
   "execution_count": 17,
   "id": "164b8bd1",
   "metadata": {},
   "outputs": [],
   "source": [
    "# replacing missing values by mode for Pdiabetes column\n",
    "dataset_2['Diabetic'].fillna(dataset_2['Diabetic'].mode()[0], inplace=True)"
   ]
  },
  {
   "cell_type": "code",
   "execution_count": 18,
   "id": "75b49467",
   "metadata": {},
   "outputs": [
    {
     "data": {
      "text/plain": [
       "Age                 0\n",
       "Gender              0\n",
       "Family_Diabetes     0\n",
       "highBP              0\n",
       "PhysicallyActive    0\n",
       "BMI                 0\n",
       "Smoking             0\n",
       "Alcohol             0\n",
       "Sleep               0\n",
       "SoundSleep          0\n",
       "RegularMedicine     0\n",
       "JunkFood            0\n",
       "Stress              0\n",
       "BPLevel             0\n",
       "Pregnancies         0\n",
       "Pdiabetes           0\n",
       "UrinationFreq       0\n",
       "Diabetic            0\n",
       "dtype: int64"
      ]
     },
     "execution_count": 18,
     "metadata": {},
     "output_type": "execute_result"
    }
   ],
   "source": [
    "# all the missing values have been successfully handled\n",
    "dataset_2.isna().sum()"
   ]
  },
  {
   "cell_type": "code",
   "execution_count": 19,
   "id": "1fae3d0b",
   "metadata": {},
   "outputs": [],
   "source": [
    "# exracting only categorical variables from our dataset\n",
    "categorical_variables = dataset_2.columns[dataset_2.dtypes == 'object']"
   ]
  },
  {
   "cell_type": "code",
   "execution_count": 20,
   "id": "dba0154f",
   "metadata": {},
   "outputs": [],
   "source": [
    "# label encoding all the categorical variables to numerical\n",
    "from sklearn import preprocessing\n",
    "for cat_var in categorical_variables:\n",
    "    label_encoder = preprocessing.LabelEncoder()\n",
    "    #dataste_1[cat_var]= dataset_1['Gender'].apply(lambda x: 1 if x == 'Male' else 0)\n",
    "    dataset_2[cat_var]= label_encoder.fit_transform(dataset_2[cat_var])"
   ]
  },
  {
   "cell_type": "code",
   "execution_count": 21,
   "id": "df7bd62f",
   "metadata": {},
   "outputs": [
    {
     "data": {
      "text/html": [
       "<div>\n",
       "<style scoped>\n",
       "    .dataframe tbody tr th:only-of-type {\n",
       "        vertical-align: middle;\n",
       "    }\n",
       "\n",
       "    .dataframe tbody tr th {\n",
       "        vertical-align: top;\n",
       "    }\n",
       "\n",
       "    .dataframe thead th {\n",
       "        text-align: right;\n",
       "    }\n",
       "</style>\n",
       "<table border=\"1\" class=\"dataframe\">\n",
       "  <thead>\n",
       "    <tr style=\"text-align: right;\">\n",
       "      <th></th>\n",
       "      <th>Age</th>\n",
       "      <th>Gender</th>\n",
       "      <th>Family_Diabetes</th>\n",
       "      <th>highBP</th>\n",
       "      <th>PhysicallyActive</th>\n",
       "      <th>BMI</th>\n",
       "      <th>Smoking</th>\n",
       "      <th>Alcohol</th>\n",
       "      <th>Sleep</th>\n",
       "      <th>SoundSleep</th>\n",
       "      <th>RegularMedicine</th>\n",
       "      <th>JunkFood</th>\n",
       "      <th>Stress</th>\n",
       "      <th>BPLevel</th>\n",
       "      <th>Pregnancies</th>\n",
       "      <th>Pdiabetes</th>\n",
       "      <th>UrinationFreq</th>\n",
       "      <th>Diabetic</th>\n",
       "    </tr>\n",
       "  </thead>\n",
       "  <tbody>\n",
       "    <tr>\n",
       "      <th>0</th>\n",
       "      <td>2</td>\n",
       "      <td>1</td>\n",
       "      <td>0</td>\n",
       "      <td>1</td>\n",
       "      <td>3</td>\n",
       "      <td>39.0</td>\n",
       "      <td>0</td>\n",
       "      <td>0</td>\n",
       "      <td>8</td>\n",
       "      <td>6</td>\n",
       "      <td>0</td>\n",
       "      <td>1</td>\n",
       "      <td>2</td>\n",
       "      <td>2</td>\n",
       "      <td>0.0</td>\n",
       "      <td>0.0</td>\n",
       "      <td>0</td>\n",
       "      <td>0</td>\n",
       "    </tr>\n",
       "    <tr>\n",
       "      <th>1</th>\n",
       "      <td>2</td>\n",
       "      <td>1</td>\n",
       "      <td>0</td>\n",
       "      <td>1</td>\n",
       "      <td>0</td>\n",
       "      <td>28.0</td>\n",
       "      <td>0</td>\n",
       "      <td>0</td>\n",
       "      <td>8</td>\n",
       "      <td>6</td>\n",
       "      <td>2</td>\n",
       "      <td>3</td>\n",
       "      <td>2</td>\n",
       "      <td>4</td>\n",
       "      <td>0.0</td>\n",
       "      <td>0.0</td>\n",
       "      <td>0</td>\n",
       "      <td>0</td>\n",
       "    </tr>\n",
       "    <tr>\n",
       "      <th>2</th>\n",
       "      <td>1</td>\n",
       "      <td>1</td>\n",
       "      <td>0</td>\n",
       "      <td>0</td>\n",
       "      <td>3</td>\n",
       "      <td>24.0</td>\n",
       "      <td>0</td>\n",
       "      <td>0</td>\n",
       "      <td>6</td>\n",
       "      <td>6</td>\n",
       "      <td>0</td>\n",
       "      <td>1</td>\n",
       "      <td>2</td>\n",
       "      <td>4</td>\n",
       "      <td>0.0</td>\n",
       "      <td>0.0</td>\n",
       "      <td>0</td>\n",
       "      <td>0</td>\n",
       "    </tr>\n",
       "    <tr>\n",
       "      <th>3</th>\n",
       "      <td>2</td>\n",
       "      <td>1</td>\n",
       "      <td>0</td>\n",
       "      <td>0</td>\n",
       "      <td>3</td>\n",
       "      <td>23.0</td>\n",
       "      <td>0</td>\n",
       "      <td>0</td>\n",
       "      <td>8</td>\n",
       "      <td>6</td>\n",
       "      <td>0</td>\n",
       "      <td>1</td>\n",
       "      <td>2</td>\n",
       "      <td>4</td>\n",
       "      <td>0.0</td>\n",
       "      <td>0.0</td>\n",
       "      <td>0</td>\n",
       "      <td>0</td>\n",
       "    </tr>\n",
       "    <tr>\n",
       "      <th>4</th>\n",
       "      <td>1</td>\n",
       "      <td>1</td>\n",
       "      <td>0</td>\n",
       "      <td>0</td>\n",
       "      <td>0</td>\n",
       "      <td>27.0</td>\n",
       "      <td>0</td>\n",
       "      <td>0</td>\n",
       "      <td>8</td>\n",
       "      <td>8</td>\n",
       "      <td>0</td>\n",
       "      <td>1</td>\n",
       "      <td>2</td>\n",
       "      <td>4</td>\n",
       "      <td>0.0</td>\n",
       "      <td>0.0</td>\n",
       "      <td>0</td>\n",
       "      <td>0</td>\n",
       "    </tr>\n",
       "  </tbody>\n",
       "</table>\n",
       "</div>"
      ],
      "text/plain": [
       "   Age  Gender  Family_Diabetes  highBP  PhysicallyActive   BMI  Smoking  \\\n",
       "0    2       1                0       1                 3  39.0        0   \n",
       "1    2       1                0       1                 0  28.0        0   \n",
       "2    1       1                0       0                 3  24.0        0   \n",
       "3    2       1                0       0                 3  23.0        0   \n",
       "4    1       1                0       0                 0  27.0        0   \n",
       "\n",
       "   Alcohol  Sleep  SoundSleep  RegularMedicine  JunkFood  Stress  BPLevel  \\\n",
       "0        0      8           6                0         1       2        2   \n",
       "1        0      8           6                2         3       2        4   \n",
       "2        0      6           6                0         1       2        4   \n",
       "3        0      8           6                0         1       2        4   \n",
       "4        0      8           8                0         1       2        4   \n",
       "\n",
       "   Pregnancies  Pdiabetes  UrinationFreq  Diabetic  \n",
       "0          0.0        0.0              0         0  \n",
       "1          0.0        0.0              0         0  \n",
       "2          0.0        0.0              0         0  \n",
       "3          0.0        0.0              0         0  \n",
       "4          0.0        0.0              0         0  "
      ]
     },
     "execution_count": 21,
     "metadata": {},
     "output_type": "execute_result"
    }
   ],
   "source": [
    "dataset_2.head()"
   ]
  },
  {
   "cell_type": "code",
   "execution_count": 22,
   "id": "2201d701",
   "metadata": {},
   "outputs": [],
   "source": [
    "# finding correaltion among variables\n",
    "correaltion_matrix = dataset_2.corr()"
   ]
  },
  {
   "cell_type": "code",
   "execution_count": 23,
   "id": "a56f337c",
   "metadata": {},
   "outputs": [
    {
     "data": {
      "text/html": [
       "<div>\n",
       "<style scoped>\n",
       "    .dataframe tbody tr th:only-of-type {\n",
       "        vertical-align: middle;\n",
       "    }\n",
       "\n",
       "    .dataframe tbody tr th {\n",
       "        vertical-align: top;\n",
       "    }\n",
       "\n",
       "    .dataframe thead th {\n",
       "        text-align: right;\n",
       "    }\n",
       "</style>\n",
       "<table border=\"1\" class=\"dataframe\">\n",
       "  <thead>\n",
       "    <tr style=\"text-align: right;\">\n",
       "      <th></th>\n",
       "      <th>Age</th>\n",
       "      <th>Gender</th>\n",
       "      <th>Family_Diabetes</th>\n",
       "      <th>highBP</th>\n",
       "      <th>PhysicallyActive</th>\n",
       "      <th>BMI</th>\n",
       "      <th>Smoking</th>\n",
       "      <th>Alcohol</th>\n",
       "      <th>Sleep</th>\n",
       "      <th>SoundSleep</th>\n",
       "      <th>RegularMedicine</th>\n",
       "      <th>JunkFood</th>\n",
       "      <th>Stress</th>\n",
       "      <th>BPLevel</th>\n",
       "      <th>Pregnancies</th>\n",
       "      <th>Pdiabetes</th>\n",
       "      <th>UrinationFreq</th>\n",
       "      <th>Diabetic</th>\n",
       "    </tr>\n",
       "  </thead>\n",
       "  <tbody>\n",
       "    <tr>\n",
       "      <th>Age</th>\n",
       "      <td>1.000000</td>\n",
       "      <td>-0.000477</td>\n",
       "      <td>0.078078</td>\n",
       "      <td>0.414213</td>\n",
       "      <td>-0.052470</td>\n",
       "      <td>0.142842</td>\n",
       "      <td>-0.184565</td>\n",
       "      <td>0.014791</td>\n",
       "      <td>-0.156752</td>\n",
       "      <td>-0.032521</td>\n",
       "      <td>0.512592</td>\n",
       "      <td>-0.129006</td>\n",
       "      <td>-0.060538</td>\n",
       "      <td>-0.457172</td>\n",
       "      <td>0.204841</td>\n",
       "      <td>0.009477</td>\n",
       "      <td>0.136783</td>\n",
       "      <td>0.571855</td>\n",
       "    </tr>\n",
       "    <tr>\n",
       "      <th>Gender</th>\n",
       "      <td>-0.000477</td>\n",
       "      <td>1.000000</td>\n",
       "      <td>-0.097399</td>\n",
       "      <td>0.025689</td>\n",
       "      <td>0.011142</td>\n",
       "      <td>-0.119535</td>\n",
       "      <td>0.286483</td>\n",
       "      <td>0.316688</td>\n",
       "      <td>-0.065568</td>\n",
       "      <td>0.018978</td>\n",
       "      <td>-0.128469</td>\n",
       "      <td>-0.043500</td>\n",
       "      <td>0.005742</td>\n",
       "      <td>-0.023464</td>\n",
       "      <td>-0.478852</td>\n",
       "      <td>-0.134663</td>\n",
       "      <td>-0.184949</td>\n",
       "      <td>-0.038665</td>\n",
       "    </tr>\n",
       "    <tr>\n",
       "      <th>Family_Diabetes</th>\n",
       "      <td>0.078078</td>\n",
       "      <td>-0.097399</td>\n",
       "      <td>1.000000</td>\n",
       "      <td>0.065387</td>\n",
       "      <td>0.054883</td>\n",
       "      <td>0.114671</td>\n",
       "      <td>-0.023238</td>\n",
       "      <td>0.028497</td>\n",
       "      <td>0.049400</td>\n",
       "      <td>0.057418</td>\n",
       "      <td>0.182793</td>\n",
       "      <td>0.076016</td>\n",
       "      <td>-0.045072</td>\n",
       "      <td>-0.113251</td>\n",
       "      <td>0.104031</td>\n",
       "      <td>0.023124</td>\n",
       "      <td>0.030471</td>\n",
       "      <td>0.258472</td>\n",
       "    </tr>\n",
       "    <tr>\n",
       "      <th>highBP</th>\n",
       "      <td>0.414213</td>\n",
       "      <td>0.025689</td>\n",
       "      <td>0.065387</td>\n",
       "      <td>1.000000</td>\n",
       "      <td>-0.078333</td>\n",
       "      <td>0.147264</td>\n",
       "      <td>-0.014478</td>\n",
       "      <td>0.110515</td>\n",
       "      <td>-0.070606</td>\n",
       "      <td>-0.133374</td>\n",
       "      <td>0.450301</td>\n",
       "      <td>-0.041014</td>\n",
       "      <td>-0.098576</td>\n",
       "      <td>-0.656714</td>\n",
       "      <td>0.054338</td>\n",
       "      <td>0.033678</td>\n",
       "      <td>0.123374</td>\n",
       "      <td>0.374611</td>\n",
       "    </tr>\n",
       "    <tr>\n",
       "      <th>PhysicallyActive</th>\n",
       "      <td>-0.052470</td>\n",
       "      <td>0.011142</td>\n",
       "      <td>0.054883</td>\n",
       "      <td>-0.078333</td>\n",
       "      <td>1.000000</td>\n",
       "      <td>-0.180306</td>\n",
       "      <td>-0.025738</td>\n",
       "      <td>-0.019006</td>\n",
       "      <td>0.079548</td>\n",
       "      <td>0.153894</td>\n",
       "      <td>-0.072020</td>\n",
       "      <td>0.034353</td>\n",
       "      <td>-0.118600</td>\n",
       "      <td>0.094843</td>\n",
       "      <td>0.100753</td>\n",
       "      <td>-0.054769</td>\n",
       "      <td>-0.211367</td>\n",
       "      <td>0.078241</td>\n",
       "    </tr>\n",
       "    <tr>\n",
       "      <th>BMI</th>\n",
       "      <td>0.142842</td>\n",
       "      <td>-0.119535</td>\n",
       "      <td>0.114671</td>\n",
       "      <td>0.147264</td>\n",
       "      <td>-0.180306</td>\n",
       "      <td>1.000000</td>\n",
       "      <td>-0.008900</td>\n",
       "      <td>-0.009051</td>\n",
       "      <td>-0.067770</td>\n",
       "      <td>-0.297668</td>\n",
       "      <td>0.182091</td>\n",
       "      <td>-0.009518</td>\n",
       "      <td>0.018109</td>\n",
       "      <td>-0.149418</td>\n",
       "      <td>-0.061899</td>\n",
       "      <td>0.104146</td>\n",
       "      <td>0.256251</td>\n",
       "      <td>0.124520</td>\n",
       "    </tr>\n",
       "    <tr>\n",
       "      <th>Smoking</th>\n",
       "      <td>-0.184565</td>\n",
       "      <td>0.286483</td>\n",
       "      <td>-0.023238</td>\n",
       "      <td>-0.014478</td>\n",
       "      <td>-0.025738</td>\n",
       "      <td>-0.008900</td>\n",
       "      <td>1.000000</td>\n",
       "      <td>0.513589</td>\n",
       "      <td>-0.017061</td>\n",
       "      <td>-0.002747</td>\n",
       "      <td>-0.042805</td>\n",
       "      <td>0.022842</td>\n",
       "      <td>-0.013081</td>\n",
       "      <td>-0.015453</td>\n",
       "      <td>-0.133394</td>\n",
       "      <td>-0.016186</td>\n",
       "      <td>-0.033690</td>\n",
       "      <td>-0.008684</td>\n",
       "    </tr>\n",
       "    <tr>\n",
       "      <th>Alcohol</th>\n",
       "      <td>0.014791</td>\n",
       "      <td>0.316688</td>\n",
       "      <td>0.028497</td>\n",
       "      <td>0.110515</td>\n",
       "      <td>-0.019006</td>\n",
       "      <td>-0.009051</td>\n",
       "      <td>0.513589</td>\n",
       "      <td>1.000000</td>\n",
       "      <td>-0.004771</td>\n",
       "      <td>0.068522</td>\n",
       "      <td>0.066488</td>\n",
       "      <td>0.028379</td>\n",
       "      <td>-0.019811</td>\n",
       "      <td>-0.131245</td>\n",
       "      <td>-0.184821</td>\n",
       "      <td>-0.061405</td>\n",
       "      <td>-0.103061</td>\n",
       "      <td>0.066235</td>\n",
       "    </tr>\n",
       "    <tr>\n",
       "      <th>Sleep</th>\n",
       "      <td>-0.156752</td>\n",
       "      <td>-0.065568</td>\n",
       "      <td>0.049400</td>\n",
       "      <td>-0.070606</td>\n",
       "      <td>0.079548</td>\n",
       "      <td>-0.067770</td>\n",
       "      <td>-0.017061</td>\n",
       "      <td>-0.004771</td>\n",
       "      <td>1.000000</td>\n",
       "      <td>0.534686</td>\n",
       "      <td>-0.101131</td>\n",
       "      <td>0.016214</td>\n",
       "      <td>-0.019765</td>\n",
       "      <td>0.102101</td>\n",
       "      <td>0.042325</td>\n",
       "      <td>0.080274</td>\n",
       "      <td>-0.096103</td>\n",
       "      <td>-0.065470</td>\n",
       "    </tr>\n",
       "    <tr>\n",
       "      <th>SoundSleep</th>\n",
       "      <td>-0.032521</td>\n",
       "      <td>0.018978</td>\n",
       "      <td>0.057418</td>\n",
       "      <td>-0.133374</td>\n",
       "      <td>0.153894</td>\n",
       "      <td>-0.297668</td>\n",
       "      <td>-0.002747</td>\n",
       "      <td>0.068522</td>\n",
       "      <td>0.534686</td>\n",
       "      <td>1.000000</td>\n",
       "      <td>-0.114769</td>\n",
       "      <td>0.049491</td>\n",
       "      <td>-0.004589</td>\n",
       "      <td>0.120446</td>\n",
       "      <td>0.157518</td>\n",
       "      <td>0.033035</td>\n",
       "      <td>-0.283036</td>\n",
       "      <td>0.001403</td>\n",
       "    </tr>\n",
       "    <tr>\n",
       "      <th>RegularMedicine</th>\n",
       "      <td>0.512592</td>\n",
       "      <td>-0.128469</td>\n",
       "      <td>0.182793</td>\n",
       "      <td>0.450301</td>\n",
       "      <td>-0.072020</td>\n",
       "      <td>0.182091</td>\n",
       "      <td>-0.042805</td>\n",
       "      <td>0.066488</td>\n",
       "      <td>-0.101131</td>\n",
       "      <td>-0.114769</td>\n",
       "      <td>1.000000</td>\n",
       "      <td>-0.050006</td>\n",
       "      <td>-0.107346</td>\n",
       "      <td>-0.384289</td>\n",
       "      <td>0.196098</td>\n",
       "      <td>0.000940</td>\n",
       "      <td>0.163699</td>\n",
       "      <td>0.597666</td>\n",
       "    </tr>\n",
       "    <tr>\n",
       "      <th>JunkFood</th>\n",
       "      <td>-0.129006</td>\n",
       "      <td>-0.043500</td>\n",
       "      <td>0.076016</td>\n",
       "      <td>-0.041014</td>\n",
       "      <td>0.034353</td>\n",
       "      <td>-0.009518</td>\n",
       "      <td>0.022842</td>\n",
       "      <td>0.028379</td>\n",
       "      <td>0.016214</td>\n",
       "      <td>0.049491</td>\n",
       "      <td>-0.050006</td>\n",
       "      <td>1.000000</td>\n",
       "      <td>0.094771</td>\n",
       "      <td>0.083210</td>\n",
       "      <td>0.078536</td>\n",
       "      <td>0.158995</td>\n",
       "      <td>-0.108856</td>\n",
       "      <td>-0.015610</td>\n",
       "    </tr>\n",
       "    <tr>\n",
       "      <th>Stress</th>\n",
       "      <td>-0.060538</td>\n",
       "      <td>0.005742</td>\n",
       "      <td>-0.045072</td>\n",
       "      <td>-0.098576</td>\n",
       "      <td>-0.118600</td>\n",
       "      <td>0.018109</td>\n",
       "      <td>-0.013081</td>\n",
       "      <td>-0.019811</td>\n",
       "      <td>-0.019765</td>\n",
       "      <td>-0.004589</td>\n",
       "      <td>-0.107346</td>\n",
       "      <td>0.094771</td>\n",
       "      <td>1.000000</td>\n",
       "      <td>0.048598</td>\n",
       "      <td>-0.227799</td>\n",
       "      <td>0.001895</td>\n",
       "      <td>0.035935</td>\n",
       "      <td>-0.154504</td>\n",
       "    </tr>\n",
       "    <tr>\n",
       "      <th>BPLevel</th>\n",
       "      <td>-0.457172</td>\n",
       "      <td>-0.023464</td>\n",
       "      <td>-0.113251</td>\n",
       "      <td>-0.656714</td>\n",
       "      <td>0.094843</td>\n",
       "      <td>-0.149418</td>\n",
       "      <td>-0.015453</td>\n",
       "      <td>-0.131245</td>\n",
       "      <td>0.102101</td>\n",
       "      <td>0.120446</td>\n",
       "      <td>-0.384289</td>\n",
       "      <td>0.083210</td>\n",
       "      <td>0.048598</td>\n",
       "      <td>1.000000</td>\n",
       "      <td>-0.037883</td>\n",
       "      <td>-0.029839</td>\n",
       "      <td>-0.088971</td>\n",
       "      <td>-0.401680</td>\n",
       "    </tr>\n",
       "    <tr>\n",
       "      <th>Pregnancies</th>\n",
       "      <td>0.204841</td>\n",
       "      <td>-0.478852</td>\n",
       "      <td>0.104031</td>\n",
       "      <td>0.054338</td>\n",
       "      <td>0.100753</td>\n",
       "      <td>-0.061899</td>\n",
       "      <td>-0.133394</td>\n",
       "      <td>-0.184821</td>\n",
       "      <td>0.042325</td>\n",
       "      <td>0.157518</td>\n",
       "      <td>0.196098</td>\n",
       "      <td>0.078536</td>\n",
       "      <td>-0.227799</td>\n",
       "      <td>-0.037883</td>\n",
       "      <td>1.000000</td>\n",
       "      <td>0.223226</td>\n",
       "      <td>0.034633</td>\n",
       "      <td>0.237836</td>\n",
       "    </tr>\n",
       "    <tr>\n",
       "      <th>Pdiabetes</th>\n",
       "      <td>0.009477</td>\n",
       "      <td>-0.134663</td>\n",
       "      <td>0.023124</td>\n",
       "      <td>0.033678</td>\n",
       "      <td>-0.054769</td>\n",
       "      <td>0.104146</td>\n",
       "      <td>-0.016186</td>\n",
       "      <td>-0.061405</td>\n",
       "      <td>0.080274</td>\n",
       "      <td>0.033035</td>\n",
       "      <td>0.000940</td>\n",
       "      <td>0.158995</td>\n",
       "      <td>0.001895</td>\n",
       "      <td>-0.029839</td>\n",
       "      <td>0.223226</td>\n",
       "      <td>1.000000</td>\n",
       "      <td>-0.061462</td>\n",
       "      <td>0.157298</td>\n",
       "    </tr>\n",
       "    <tr>\n",
       "      <th>UrinationFreq</th>\n",
       "      <td>0.136783</td>\n",
       "      <td>-0.184949</td>\n",
       "      <td>0.030471</td>\n",
       "      <td>0.123374</td>\n",
       "      <td>-0.211367</td>\n",
       "      <td>0.256251</td>\n",
       "      <td>-0.033690</td>\n",
       "      <td>-0.103061</td>\n",
       "      <td>-0.096103</td>\n",
       "      <td>-0.283036</td>\n",
       "      <td>0.163699</td>\n",
       "      <td>-0.108856</td>\n",
       "      <td>0.035935</td>\n",
       "      <td>-0.088971</td>\n",
       "      <td>0.034633</td>\n",
       "      <td>-0.061462</td>\n",
       "      <td>1.000000</td>\n",
       "      <td>0.099527</td>\n",
       "    </tr>\n",
       "    <tr>\n",
       "      <th>Diabetic</th>\n",
       "      <td>0.571855</td>\n",
       "      <td>-0.038665</td>\n",
       "      <td>0.258472</td>\n",
       "      <td>0.374611</td>\n",
       "      <td>0.078241</td>\n",
       "      <td>0.124520</td>\n",
       "      <td>-0.008684</td>\n",
       "      <td>0.066235</td>\n",
       "      <td>-0.065470</td>\n",
       "      <td>0.001403</td>\n",
       "      <td>0.597666</td>\n",
       "      <td>-0.015610</td>\n",
       "      <td>-0.154504</td>\n",
       "      <td>-0.401680</td>\n",
       "      <td>0.237836</td>\n",
       "      <td>0.157298</td>\n",
       "      <td>0.099527</td>\n",
       "      <td>1.000000</td>\n",
       "    </tr>\n",
       "  </tbody>\n",
       "</table>\n",
       "</div>"
      ],
      "text/plain": [
       "                       Age    Gender  Family_Diabetes    highBP  \\\n",
       "Age               1.000000 -0.000477         0.078078  0.414213   \n",
       "Gender           -0.000477  1.000000        -0.097399  0.025689   \n",
       "Family_Diabetes   0.078078 -0.097399         1.000000  0.065387   \n",
       "highBP            0.414213  0.025689         0.065387  1.000000   \n",
       "PhysicallyActive -0.052470  0.011142         0.054883 -0.078333   \n",
       "BMI               0.142842 -0.119535         0.114671  0.147264   \n",
       "Smoking          -0.184565  0.286483        -0.023238 -0.014478   \n",
       "Alcohol           0.014791  0.316688         0.028497  0.110515   \n",
       "Sleep            -0.156752 -0.065568         0.049400 -0.070606   \n",
       "SoundSleep       -0.032521  0.018978         0.057418 -0.133374   \n",
       "RegularMedicine   0.512592 -0.128469         0.182793  0.450301   \n",
       "JunkFood         -0.129006 -0.043500         0.076016 -0.041014   \n",
       "Stress           -0.060538  0.005742        -0.045072 -0.098576   \n",
       "BPLevel          -0.457172 -0.023464        -0.113251 -0.656714   \n",
       "Pregnancies       0.204841 -0.478852         0.104031  0.054338   \n",
       "Pdiabetes         0.009477 -0.134663         0.023124  0.033678   \n",
       "UrinationFreq     0.136783 -0.184949         0.030471  0.123374   \n",
       "Diabetic          0.571855 -0.038665         0.258472  0.374611   \n",
       "\n",
       "                  PhysicallyActive       BMI   Smoking   Alcohol     Sleep  \\\n",
       "Age                      -0.052470  0.142842 -0.184565  0.014791 -0.156752   \n",
       "Gender                    0.011142 -0.119535  0.286483  0.316688 -0.065568   \n",
       "Family_Diabetes           0.054883  0.114671 -0.023238  0.028497  0.049400   \n",
       "highBP                   -0.078333  0.147264 -0.014478  0.110515 -0.070606   \n",
       "PhysicallyActive          1.000000 -0.180306 -0.025738 -0.019006  0.079548   \n",
       "BMI                      -0.180306  1.000000 -0.008900 -0.009051 -0.067770   \n",
       "Smoking                  -0.025738 -0.008900  1.000000  0.513589 -0.017061   \n",
       "Alcohol                  -0.019006 -0.009051  0.513589  1.000000 -0.004771   \n",
       "Sleep                     0.079548 -0.067770 -0.017061 -0.004771  1.000000   \n",
       "SoundSleep                0.153894 -0.297668 -0.002747  0.068522  0.534686   \n",
       "RegularMedicine          -0.072020  0.182091 -0.042805  0.066488 -0.101131   \n",
       "JunkFood                  0.034353 -0.009518  0.022842  0.028379  0.016214   \n",
       "Stress                   -0.118600  0.018109 -0.013081 -0.019811 -0.019765   \n",
       "BPLevel                   0.094843 -0.149418 -0.015453 -0.131245  0.102101   \n",
       "Pregnancies               0.100753 -0.061899 -0.133394 -0.184821  0.042325   \n",
       "Pdiabetes                -0.054769  0.104146 -0.016186 -0.061405  0.080274   \n",
       "UrinationFreq            -0.211367  0.256251 -0.033690 -0.103061 -0.096103   \n",
       "Diabetic                  0.078241  0.124520 -0.008684  0.066235 -0.065470   \n",
       "\n",
       "                  SoundSleep  RegularMedicine  JunkFood    Stress   BPLevel  \\\n",
       "Age                -0.032521         0.512592 -0.129006 -0.060538 -0.457172   \n",
       "Gender              0.018978        -0.128469 -0.043500  0.005742 -0.023464   \n",
       "Family_Diabetes     0.057418         0.182793  0.076016 -0.045072 -0.113251   \n",
       "highBP             -0.133374         0.450301 -0.041014 -0.098576 -0.656714   \n",
       "PhysicallyActive    0.153894        -0.072020  0.034353 -0.118600  0.094843   \n",
       "BMI                -0.297668         0.182091 -0.009518  0.018109 -0.149418   \n",
       "Smoking            -0.002747        -0.042805  0.022842 -0.013081 -0.015453   \n",
       "Alcohol             0.068522         0.066488  0.028379 -0.019811 -0.131245   \n",
       "Sleep               0.534686        -0.101131  0.016214 -0.019765  0.102101   \n",
       "SoundSleep          1.000000        -0.114769  0.049491 -0.004589  0.120446   \n",
       "RegularMedicine    -0.114769         1.000000 -0.050006 -0.107346 -0.384289   \n",
       "JunkFood            0.049491        -0.050006  1.000000  0.094771  0.083210   \n",
       "Stress             -0.004589        -0.107346  0.094771  1.000000  0.048598   \n",
       "BPLevel             0.120446        -0.384289  0.083210  0.048598  1.000000   \n",
       "Pregnancies         0.157518         0.196098  0.078536 -0.227799 -0.037883   \n",
       "Pdiabetes           0.033035         0.000940  0.158995  0.001895 -0.029839   \n",
       "UrinationFreq      -0.283036         0.163699 -0.108856  0.035935 -0.088971   \n",
       "Diabetic            0.001403         0.597666 -0.015610 -0.154504 -0.401680   \n",
       "\n",
       "                  Pregnancies  Pdiabetes  UrinationFreq  Diabetic  \n",
       "Age                  0.204841   0.009477       0.136783  0.571855  \n",
       "Gender              -0.478852  -0.134663      -0.184949 -0.038665  \n",
       "Family_Diabetes      0.104031   0.023124       0.030471  0.258472  \n",
       "highBP               0.054338   0.033678       0.123374  0.374611  \n",
       "PhysicallyActive     0.100753  -0.054769      -0.211367  0.078241  \n",
       "BMI                 -0.061899   0.104146       0.256251  0.124520  \n",
       "Smoking             -0.133394  -0.016186      -0.033690 -0.008684  \n",
       "Alcohol             -0.184821  -0.061405      -0.103061  0.066235  \n",
       "Sleep                0.042325   0.080274      -0.096103 -0.065470  \n",
       "SoundSleep           0.157518   0.033035      -0.283036  0.001403  \n",
       "RegularMedicine      0.196098   0.000940       0.163699  0.597666  \n",
       "JunkFood             0.078536   0.158995      -0.108856 -0.015610  \n",
       "Stress              -0.227799   0.001895       0.035935 -0.154504  \n",
       "BPLevel             -0.037883  -0.029839      -0.088971 -0.401680  \n",
       "Pregnancies          1.000000   0.223226       0.034633  0.237836  \n",
       "Pdiabetes            0.223226   1.000000      -0.061462  0.157298  \n",
       "UrinationFreq        0.034633  -0.061462       1.000000  0.099527  \n",
       "Diabetic             0.237836   0.157298       0.099527  1.000000  "
      ]
     },
     "execution_count": 23,
     "metadata": {},
     "output_type": "execute_result"
    }
   ],
   "source": [
    "correaltion_matrix"
   ]
  },
  {
   "cell_type": "code",
   "execution_count": 24,
   "id": "88b0a480",
   "metadata": {
    "scrolled": false
   },
   "outputs": [
    {
     "data": {
      "text/plain": [
       "<AxesSubplot:>"
      ]
     },
     "execution_count": 24,
     "metadata": {},
     "output_type": "execute_result"
    },
    {
     "data": {
      "image/png": "[encoded data removed]",
      "text/plain": [
       "<Figure size 1152x720 with 2 Axes>"
      ]
     },
     "metadata": {
      "needs_background": "light"
     },
     "output_type": "display_data"
    }
   ],
   "source": [
    "# plotting the correlation matrix as a heatmap\n",
    "import matplotlib.pyplot as plt\n",
    "import seaborn as sns\n",
    "plt.figure(figsize = (16,10))\n",
    "sns.heatmap(correaltion_matrix, cmap=\"RdYlGn\", annot=True)"
   ]
  },
  {
   "cell_type": "code",
   "execution_count": 25,
   "id": "b75bc11d",
   "metadata": {},
   "outputs": [],
   "source": [
    "# separating the target class from the dataset\n",
    "x = dataset_2.drop('Diabetic', axis = 1)\n",
    "y = dataset_2['Diabetic']"
   ]
  },
  {
   "cell_type": "code",
   "execution_count": 26,
   "id": "1f562012",
   "metadata": {},
   "outputs": [],
   "source": [
    "# splitting data into training and testing se\n",
    "from sklearn.model_selection import train_test_split\n",
    "x_train, x_test, y_train, y_test = train_test_split(x,y,test_size = 0.15, random_state=0)"
   ]
  },
  {
   "cell_type": "code",
   "execution_count": 27,
   "id": "6acd5c78",
   "metadata": {},
   "outputs": [],
   "source": [
    "# scaling x_train and x_test\n",
    "from sklearn.preprocessing import StandardScaler\n",
    "std_scaler = StandardScaler()\n",
    " \n",
    "x_train = std_scaler.fit_transform(x_train)\n",
    "x_test = std_scaler.transform(x_test)"
   ]
  },
  {
   "cell_type": "code",
   "execution_count": 28,
   "id": "118c3444",
   "metadata": {},
   "outputs": [],
   "source": [
    "# applying PCA\n",
    "from sklearn.decomposition import PCA\n",
    " \n",
    "pca = PCA(n_components = 7)\n",
    " \n",
    "x_train = pca.fit_transform(x_train)\n",
    "x_test = pca.transform(x_test)\n",
    " \n",
    "#explained_variance = pca.explained_variance_ratio_"
   ]
  },
  {
   "cell_type": "markdown",
   "id": "b06d509c",
   "metadata": {},
   "source": [
    "# Random Forest With PCA"
   ]
  },
  {
   "cell_type": "code",
   "execution_count": 33,
   "id": "5c49b5b3",
   "metadata": {},
   "outputs": [
    {
     "data": {
      "text/plain": [
       "RandomForestClassifier(max_depth=15, n_estimators=14)"
      ]
     },
     "execution_count": 33,
     "metadata": {},
     "output_type": "execute_result"
    }
   ],
   "source": [
    "from sklearn.model_selection import cross_val_score\n",
    "from sklearn.ensemble import RandomForestClassifier\n",
    "rf = RandomForestClassifier(n_estimators = 14, max_depth = 15, criterion = 'gini') # , min_samples_split = 5 n_estimators = 15, , max_depth = 12\n",
    "rf.fit(x_train, y_train)"
   ]
  },
  {
   "cell_type": "code",
   "execution_count": 34,
   "id": "0d4c3843",
   "metadata": {},
   "outputs": [
    {
     "data": {
      "text/plain": [
       "0.972027972027972"
      ]
     },
     "execution_count": 34,
     "metadata": {},
     "output_type": "execute_result"
    }
   ],
   "source": [
    "# accuracy for random forest \n",
    "accuracy_rf = rf.score(x_test, y_test)\n",
    "accuracy_rf"
   ]
  },
  {
   "cell_type": "code",
   "execution_count": 35,
   "id": "44604e1a",
   "metadata": {},
   "outputs": [],
   "source": [
    "# makking predictions using random forest\n",
    "y_pred_rf = rf.predict(x_test)"
   ]
  },
  {
   "cell_type": "code",
   "execution_count": 36,
   "id": "5038cfe2",
   "metadata": {},
   "outputs": [
    {
     "data": {
      "text/plain": [
       "([<matplotlib.axis.YTick at 0x2c13080d68>,\n",
       "  <matplotlib.axis.YTick at 0x2c13080748>],\n",
       " [Text(0, 0.5, 'Negative'), Text(0, 1.5, 'Positive')])"
      ]
     },
     "execution_count": 36,
     "metadata": {},
     "output_type": "execute_result"
    },
    {
     "data": {
      "image/png": "[encoded data removed]",
      "text/plain": [
       "<Figure size 432x288 with 2 Axes>"
      ]
     },
     "metadata": {
      "needs_background": "light"
     },
     "output_type": "display_data"
    }
   ],
   "source": [
    "# generating confusion matrix\n",
    "from sklearn.metrics import confusion_matrix\n",
    "conf_matrix = confusion_matrix(y_test, y_pred_rf)\n",
    "sns.heatmap(conf_matrix, annot = True)\n",
    "plt.xlabel(\"Predicted\", fontsize=18)\n",
    "plt.ylabel(\"Actual\", fontsize=18)\n",
    "plt.xticks([0.5,1.5], ['Negative', 'Positive'], fontsize = 14)\n",
    "plt.yticks([0.5,1.5], ['Negative', 'Positive'], fontsize = 14)"
   ]
  },
  {
   "cell_type": "code",
   "execution_count": 37,
   "id": "b862cb0e",
   "metadata": {},
   "outputs": [],
   "source": [
    "# calculating other performance evaluation parameters\n",
    "from sklearn.metrics import precision_score, recall_score, f1_score, roc_curve, auc\n",
    "precision_rf = precision_score(y_test, y_pred_rf)\n",
    "y_pred_prob_rf = rf.predict_proba(x_test)[:,1]\n",
    "fpr_rf, tpr_rf, thresholds_rf = roc_curve(y_test, y_pred_prob_rf)\n",
    "auc_rf = auc(fpr_rf, tpr_rf)\n",
    "recall_rf = recall_score(y_test, y_pred_rf)\n",
    "f1_score_rf = f1_score(y_test, y_pred_rf)"
   ]
  },
  {
   "cell_type": "code",
   "execution_count": 38,
   "id": "22748387",
   "metadata": {},
   "outputs": [
    {
     "name": "stdout",
     "output_type": "stream",
     "text": [
      "Random Forest performance evalation measures: \n",
      "Accuracy:  0.972\n",
      "F1 score:  0.9412\n",
      "Precision:  0.9412\n",
      "Recall:  0.9412\n",
      "AUC:  0.9769\n"
     ]
    }
   ],
   "source": [
    "print('Random Forest performance evalation measures: ')\n",
    "print('Accuracy: ', round(accuracy_rf, 4))\n",
    "print('F1 score: ', round(f1_score_rf, 4))\n",
    "print('Precision: ', round(precision_rf, 4))\n",
    "print('Recall: ', round(recall_rf, 4))\n",
    "print('AUC: ', round(auc_rf, 4))"
   ]
  },
  {
   "cell_type": "code",
   "execution_count": 39,
   "id": "dd3a1ede",
   "metadata": {},
   "outputs": [],
   "source": [
    "true_positive_rf = conf_matrix[1,1]\n",
    "true_negative_rf = conf_matrix[0,0]\n",
    "false_positive_rf = conf_matrix[0,1]\n",
    "false_negative_rf = conf_matrix[1,0]\n",
    "#print(true_positive_rf)\n",
    "#print(true_negative_rf)\n",
    "#print(false_positive_rf)\n",
    "#print(false_negative_rf)"
   ]
  },
  {
   "cell_type": "code",
   "execution_count": 40,
   "id": "d24c06e7",
   "metadata": {},
   "outputs": [
    {
     "data": {
      "image/png": "[encoded data removed]",
      "text/plain": [
       "<Figure size 576x576 with 1 Axes>"
      ]
     },
     "metadata": {
      "needs_background": "light"
     },
     "output_type": "display_data"
    }
   ],
   "source": [
    "plot_groups = [[false_negative_rf, true_positive_rf], [true_negative_rf, false_positive_rf]]\n",
    "plot_group_labels = [\"Positive\", \"Negative\"]\n",
    "plot_df = pd.DataFrame(plot_groups, index = plot_group_labels)\n",
    "ax = plot_df.plot(kind='bar', legend=False, width=0.5, figsize=(8,8))\n",
    "ax.legend(['Negative', 'Positive'], fontsize = 14)\n",
    "ax.set_ylabel('Frequency', fontsize = 14)\n",
    "ax.set_xlabel('Random Forest', fontsize = 14)\n",
    "ax.set_xticklabels(['Positive', 'Negative'], rotation = 0, fontsize = 14)\n",
    "for bars in ax.containers:\n",
    "    ax.bar_label(bars)\n",
    "plt.show()"
   ]
  },
  {
   "cell_type": "markdown",
   "id": "e7c1fc16",
   "metadata": {},
   "source": [
    "# Decision Tree with PCA"
   ]
  },
  {
   "cell_type": "code",
   "execution_count": 41,
   "id": "090caea0",
   "metadata": {},
   "outputs": [
    {
     "data": {
      "text/plain": [
       "DecisionTreeClassifier()"
      ]
     },
     "execution_count": 41,
     "metadata": {},
     "output_type": "execute_result"
    }
   ],
   "source": [
    "from sklearn.tree import DecisionTreeClassifier\n",
    "dt = DecisionTreeClassifier() # max_depth = 5 \n",
    "dt.fit(x_train, y_train)"
   ]
  },
  {
   "cell_type": "code",
   "execution_count": 42,
   "id": "ca6c728d",
   "metadata": {},
   "outputs": [
    {
     "data": {
      "text/plain": [
       "0.972027972027972"
      ]
     },
     "execution_count": 42,
     "metadata": {},
     "output_type": "execute_result"
    }
   ],
   "source": [
    "# accuracy for decision tree \n",
    "accuracy_dt = dt.score(x_test, y_test)\n",
    "accuracy_dt"
   ]
  },
  {
   "cell_type": "code",
   "execution_count": 43,
   "id": "1ad17efe",
   "metadata": {},
   "outputs": [],
   "source": [
    "# making predictions using decision tree\n",
    "y_pred_dt = dt.predict(x_test)"
   ]
  },
  {
   "cell_type": "code",
   "execution_count": 44,
   "id": "53c575fe",
   "metadata": {},
   "outputs": [
    {
     "data": {
      "text/plain": [
       "([<matplotlib.axis.YTick at 0x2c13237a20>,\n",
       "  <matplotlib.axis.YTick at 0x2c132373c8>],\n",
       " [Text(0, 0.5, 'Negative'), Text(0, 1.5, 'Positive')])"
      ]
     },
     "execution_count": 44,
     "metadata": {},
     "output_type": "execute_result"
    },
    {
     "data": {
      "image/png": "[encoded data removed]",
      "text/plain": [
       "<Figure size 432x288 with 2 Axes>"
      ]
     },
     "metadata": {
      "needs_background": "light"
     },
     "output_type": "display_data"
    }
   ],
   "source": [
    "# generating confusion matrix\n",
    "from sklearn.metrics import confusion_matrix\n",
    "conf_matrix = confusion_matrix(y_test, y_pred_dt)\n",
    "sns.heatmap(conf_matrix, annot = True, fmt='g')\n",
    "plt.xlabel(\"Predicted\", fontsize=18)\n",
    "plt.ylabel(\"Actual\", fontsize=18)\n",
    "plt.xticks([0.5,1.5], ['Negative', 'Positive'], fontsize = 14)\n",
    "plt.yticks([0.5,1.5], ['Negative', 'Positive'], fontsize = 14)"
   ]
  },
  {
   "cell_type": "code",
   "execution_count": 45,
   "id": "b6bd4acb",
   "metadata": {},
   "outputs": [],
   "source": [
    "# calculating other performance evaluation parameters\n",
    "from sklearn.metrics import precision_score, recall_score, f1_score, roc_curve, auc\n",
    "precision_dt = precision_score(y_test, y_pred_dt)\n",
    "y_pred_prob_dt = rf.predict_proba(x_test)[:,1]\n",
    "fpr_dt, tpr_dt, thresholds_dt = roc_curve(y_test, y_pred_prob_dt)\n",
    "auc_dt = auc(fpr_dt, tpr_dt)\n",
    "recall_dt = recall_score(y_test, y_pred_dt)\n",
    "f1_score_dt = f1_score(y_test, y_pred_dt)"
   ]
  },
  {
   "cell_type": "code",
   "execution_count": 46,
   "id": "3217f29d",
   "metadata": {},
   "outputs": [
    {
     "name": "stdout",
     "output_type": "stream",
     "text": [
      "Decision Tree performance evalation measures: \n",
      "Accuracy:  0.972\n",
      "F1 score:  0.9412\n",
      "Precision:  0.9412\n",
      "Recall:  0.9412\n",
      "AUC:  0.9769\n"
     ]
    }
   ],
   "source": [
    "print('Decision Tree performance evalation measures: ')\n",
    "print('Accuracy: ', round(accuracy_dt, 4))\n",
    "print('F1 score: ', round(f1_score_dt, 4))\n",
    "print('Precision: ', round(precision_dt, 4))\n",
    "print('Recall: ', round(recall_dt, 4))\n",
    "print('AUC: ', round(auc_dt, 4))"
   ]
  },
  {
   "cell_type": "code",
   "execution_count": 47,
   "id": "217ceaa5",
   "metadata": {},
   "outputs": [],
   "source": [
    "true_positive_dt = conf_matrix[1,1]\n",
    "true_negative_dt = conf_matrix[0,0]\n",
    "false_positive_dt = conf_matrix[0,1]\n",
    "false_negative_dt = conf_matrix[1,0]"
   ]
  },
  {
   "cell_type": "code",
   "execution_count": 48,
   "id": "4ed4e129",
   "metadata": {},
   "outputs": [
    {
     "data": {
      "image/png": "[encoded data removed]",
      "text/plain": [
       "<Figure size 576x576 with 1 Axes>"
      ]
     },
     "metadata": {
      "needs_background": "light"
     },
     "output_type": "display_data"
    }
   ],
   "source": [
    "plot_groups = [[false_negative_dt, true_positive_dt], [true_negative_dt, false_positive_dt]]\n",
    "plot_group_labels = [\"Positive\", \"Negative\"]\n",
    "plot_df = pd.DataFrame(plot_groups, index = plot_group_labels)\n",
    "ax = plot_df.plot(kind='bar', legend=False, width=0.5, figsize=(8,8))\n",
    "ax.legend(['Negative', 'Positive'], fontsize = 14)\n",
    "ax.set_ylabel('Frequency', fontsize = 14)\n",
    "ax.set_xlabel('Decision Tree', fontsize = 14)\n",
    "ax.set_xticklabels(['Positive', 'Negative'], rotation = 0, fontsize = 14)\n",
    "for bars in ax.containers:\n",
    "    ax.bar_label(bars)\n",
    "plt.show()"
   ]
  },
  {
   "cell_type": "markdown",
   "id": "6c6f901e",
   "metadata": {},
   "source": [
    "# Naive Bayes with PCA"
   ]
  },
  {
   "cell_type": "code",
   "execution_count": 46,
   "id": "3db79cd1",
   "metadata": {},
   "outputs": [
    {
     "ename": "ValueError",
     "evalue": "Negative values in data passed to MultinomialNB (input X)",
     "output_type": "error",
     "traceback": [
      "\u001b[1;31m---------------------------------------------------------------------------\u001b[0m",
      "\u001b[1;31mValueError\u001b[0m                                Traceback (most recent call last)",
      "\u001b[1;32m~\\AppData\\Local\\Temp\\ipykernel_6400\\974132554.py\u001b[0m in \u001b[0;36m<module>\u001b[1;34m\u001b[0m\n\u001b[0;32m      1\u001b[0m \u001b[1;32mfrom\u001b[0m \u001b[0msklearn\u001b[0m\u001b[1;33m.\u001b[0m\u001b[0mnaive_bayes\u001b[0m \u001b[1;32mimport\u001b[0m \u001b[0mMultinomialNB\u001b[0m\u001b[1;33m\u001b[0m\u001b[0m\n\u001b[0;32m      2\u001b[0m \u001b[0mnb\u001b[0m \u001b[1;33m=\u001b[0m \u001b[0mMultinomialNB\u001b[0m\u001b[1;33m(\u001b[0m\u001b[1;33m)\u001b[0m\u001b[1;33m\u001b[0m\u001b[0m\n\u001b[1;32m----> 3\u001b[1;33m \u001b[0mnb\u001b[0m\u001b[1;33m.\u001b[0m\u001b[0mfit\u001b[0m\u001b[1;33m(\u001b[0m\u001b[0mx_train\u001b[0m\u001b[1;33m,\u001b[0m \u001b[0my_train\u001b[0m\u001b[1;33m)\u001b[0m\u001b[1;33m\u001b[0m\u001b[0m\n\u001b[0m",
      "\u001b[1;32m~\\AppData\\Local\\Programs\\Python\\Python37\\lib\\site-packages\\sklearn\\naive_bayes.py\u001b[0m in \u001b[0;36mfit\u001b[1;34m(self, X, y, sample_weight)\u001b[0m\n\u001b[0;32m    688\u001b[0m         \u001b[0mn_classes\u001b[0m \u001b[1;33m=\u001b[0m \u001b[0mY\u001b[0m\u001b[1;33m.\u001b[0m\u001b[0mshape\u001b[0m\u001b[1;33m[\u001b[0m\u001b[1;36m1\u001b[0m\u001b[1;33m]\u001b[0m\u001b[1;33m\u001b[0m\u001b[0m\n\u001b[0;32m    689\u001b[0m         \u001b[0mself\u001b[0m\u001b[1;33m.\u001b[0m\u001b[0m_init_counters\u001b[0m\u001b[1;33m(\u001b[0m\u001b[0mn_classes\u001b[0m\u001b[1;33m,\u001b[0m \u001b[0mn_features\u001b[0m\u001b[1;33m)\u001b[0m\u001b[1;33m\u001b[0m\u001b[0m\n\u001b[1;32m--> 690\u001b[1;33m         \u001b[0mself\u001b[0m\u001b[1;33m.\u001b[0m\u001b[0m_count\u001b[0m\u001b[1;33m(\u001b[0m\u001b[0mX\u001b[0m\u001b[1;33m,\u001b[0m \u001b[0mY\u001b[0m\u001b[1;33m)\u001b[0m\u001b[1;33m\u001b[0m\u001b[0m\n\u001b[0m\u001b[0;32m    691\u001b[0m         \u001b[0malpha\u001b[0m \u001b[1;33m=\u001b[0m \u001b[0mself\u001b[0m\u001b[1;33m.\u001b[0m\u001b[0m_check_alpha\u001b[0m\u001b[1;33m(\u001b[0m\u001b[1;33m)\u001b[0m\u001b[1;33m\u001b[0m\u001b[0m\n\u001b[0;32m    692\u001b[0m         \u001b[0mself\u001b[0m\u001b[1;33m.\u001b[0m\u001b[0m_update_feature_log_prob\u001b[0m\u001b[1;33m(\u001b[0m\u001b[0malpha\u001b[0m\u001b[1;33m)\u001b[0m\u001b[1;33m\u001b[0m\u001b[0m\n",
      "\u001b[1;32m~\\AppData\\Local\\Programs\\Python\\Python37\\lib\\site-packages\\sklearn\\naive_bayes.py\u001b[0m in \u001b[0;36m_count\u001b[1;34m(self, X, Y)\u001b[0m\n\u001b[0;32m    861\u001b[0m     \u001b[1;32mdef\u001b[0m \u001b[0m_count\u001b[0m\u001b[1;33m(\u001b[0m\u001b[0mself\u001b[0m\u001b[1;33m,\u001b[0m \u001b[0mX\u001b[0m\u001b[1;33m,\u001b[0m \u001b[0mY\u001b[0m\u001b[1;33m)\u001b[0m\u001b[1;33m:\u001b[0m\u001b[1;33m\u001b[0m\u001b[0m\n\u001b[0;32m    862\u001b[0m         \u001b[1;34m\"\"\"Count and smooth feature occurrences.\"\"\"\u001b[0m\u001b[1;33m\u001b[0m\u001b[0m\n\u001b[1;32m--> 863\u001b[1;33m         \u001b[0mcheck_non_negative\u001b[0m\u001b[1;33m(\u001b[0m\u001b[0mX\u001b[0m\u001b[1;33m,\u001b[0m \u001b[1;34m\"MultinomialNB (input X)\"\u001b[0m\u001b[1;33m)\u001b[0m\u001b[1;33m\u001b[0m\u001b[0m\n\u001b[0m\u001b[0;32m    864\u001b[0m         \u001b[0mself\u001b[0m\u001b[1;33m.\u001b[0m\u001b[0mfeature_count_\u001b[0m \u001b[1;33m+=\u001b[0m \u001b[0msafe_sparse_dot\u001b[0m\u001b[1;33m(\u001b[0m\u001b[0mY\u001b[0m\u001b[1;33m.\u001b[0m\u001b[0mT\u001b[0m\u001b[1;33m,\u001b[0m \u001b[0mX\u001b[0m\u001b[1;33m)\u001b[0m\u001b[1;33m\u001b[0m\u001b[0m\n\u001b[0;32m    865\u001b[0m         \u001b[0mself\u001b[0m\u001b[1;33m.\u001b[0m\u001b[0mclass_count_\u001b[0m \u001b[1;33m+=\u001b[0m \u001b[0mY\u001b[0m\u001b[1;33m.\u001b[0m\u001b[0msum\u001b[0m\u001b[1;33m(\u001b[0m\u001b[0maxis\u001b[0m\u001b[1;33m=\u001b[0m\u001b[1;36m0\u001b[0m\u001b[1;33m)\u001b[0m\u001b[1;33m\u001b[0m\u001b[0m\n",
      "\u001b[1;32m~\\AppData\\Local\\Programs\\Python\\Python37\\lib\\site-packages\\sklearn\\utils\\validation.py\u001b[0m in \u001b[0;36mcheck_non_negative\u001b[1;34m(X, whom)\u001b[0m\n\u001b[0;32m   1247\u001b[0m \u001b[1;33m\u001b[0m\u001b[0m\n\u001b[0;32m   1248\u001b[0m     \u001b[1;32mif\u001b[0m \u001b[0mX_min\u001b[0m \u001b[1;33m<\u001b[0m \u001b[1;36m0\u001b[0m\u001b[1;33m:\u001b[0m\u001b[1;33m\u001b[0m\u001b[0m\n\u001b[1;32m-> 1249\u001b[1;33m         \u001b[1;32mraise\u001b[0m \u001b[0mValueError\u001b[0m\u001b[1;33m(\u001b[0m\u001b[1;34m\"Negative values in data passed to %s\"\u001b[0m \u001b[1;33m%\u001b[0m \u001b[0mwhom\u001b[0m\u001b[1;33m)\u001b[0m\u001b[1;33m\u001b[0m\u001b[0m\n\u001b[0m\u001b[0;32m   1250\u001b[0m \u001b[1;33m\u001b[0m\u001b[0m\n\u001b[0;32m   1251\u001b[0m \u001b[1;33m\u001b[0m\u001b[0m\n",
      "\u001b[1;31mValueError\u001b[0m: Negative values in data passed to MultinomialNB (input X)"
     ]
    }
   ],
   "source": [
    "from sklearn.naive_bayes import MultinomialNB\n",
    "nb = MultinomialNB()\n",
    "nb.fit(x_train, y_train)"
   ]
  },
  {
   "cell_type": "code",
   "execution_count": 246,
   "id": "5f34fe15",
   "metadata": {},
   "outputs": [
    {
     "data": {
      "text/plain": [
       "0.8881118881118881"
      ]
     },
     "execution_count": 246,
     "metadata": {},
     "output_type": "execute_result"
    }
   ],
   "source": [
    "accuracy_nb = nb.score(x_test, y_test)\n",
    "accuracy_nb"
   ]
  },
  {
   "cell_type": "code",
   "execution_count": 247,
   "id": "2e71a82e",
   "metadata": {},
   "outputs": [],
   "source": [
    "# making predictions using naive bayes\n",
    "y_pred_nb = nb.predict(x_test)"
   ]
  },
  {
   "cell_type": "code",
   "execution_count": 249,
   "id": "1e087d73",
   "metadata": {},
   "outputs": [
    {
     "data": {
      "text/plain": [
       "([<matplotlib.axis.YTick at 0xa5764c5dd8>,\n",
       "  <matplotlib.axis.YTick at 0xa5764c5da0>],\n",
       " [Text(0, 0.5, 'Negative'), Text(0, 1.5, 'Positive')])"
      ]
     },
     "execution_count": 249,
     "metadata": {},
     "output_type": "execute_result"
    },
    {
     "data": {
      "image/png": "[encoded data removed]",
      "text/plain": [
       "<Figure size 432x288 with 2 Axes>"
      ]
     },
     "metadata": {
      "needs_background": "light"
     },
     "output_type": "display_data"
    }
   ],
   "source": [
    "# generating confusion matrix\n",
    "from sklearn.metrics import confusion_matrix\n",
    "conf_matrix = confusion_matrix(y_test, y_pred_nb)\n",
    "sns.heatmap(conf_matrix, annot = True, fmt='g')\n",
    "plt.xlabel(\"Predicted\", fontsize=18)\n",
    "plt.ylabel(\"Actual\", fontsize=18)\n",
    "plt.xticks([0.5,1.5], ['Negative', 'Positive'], fontsize = 14)\n",
    "plt.yticks([0.5,1.5], ['Negative', 'Positive'], fontsize = 14)"
   ]
  },
  {
   "cell_type": "code",
   "execution_count": 250,
   "id": "56eab407",
   "metadata": {},
   "outputs": [],
   "source": [
    "# calculating other performance evaluation parameters\n",
    "from sklearn.metrics import precision_score, recall_score, f1_score, roc_curve, auc\n",
    "precision_nb = precision_score(y_test, y_pred_nb)\n",
    "y_pred_prob_nb = nb.predict_proba(x_test)[:,1]\n",
    "fpr_nb, tpr_nb, thresholds_nb = roc_curve(y_test, y_pred_prob_nb)\n",
    "auc_nb = auc(fpr_nb, tpr_nb)\n",
    "recall_nb = recall_score(y_test, y_pred_nb)\n",
    "f1_score_nb = f1_score(y_test, y_pred_nb)"
   ]
  },
  {
   "cell_type": "code",
   "execution_count": 251,
   "id": "e5a087ca",
   "metadata": {},
   "outputs": [
    {
     "name": "stdout",
     "output_type": "stream",
     "text": [
      "Naive Bayes performance evalation measures: \n",
      "Accuracy:  0.8881\n",
      "F1 score:  0.7895\n",
      "Precision:  0.7143\n",
      "Recall:  0.8824\n",
      "AUC:  0.9458\n"
     ]
    }
   ],
   "source": [
    "print('Naive Bayes performance evalation measures: ')\n",
    "print('Accuracy: ', round(accuracy_nb, 4))\n",
    "print('F1 score: ', round(f1_score_nb, 4))\n",
    "print('Precision: ', round(precision_nb, 4))\n",
    "print('Recall: ', round(recall_nb, 4))\n",
    "print('AUC: ', round(auc_nb, 4))"
   ]
  },
  {
   "cell_type": "code",
   "execution_count": 252,
   "id": "168f74b4",
   "metadata": {},
   "outputs": [],
   "source": [
    "true_positive_nb = conf_matrix[1,1]\n",
    "true_negative_nb = conf_matrix[0,0]\n",
    "false_positive_nb = conf_matrix[0,1]\n",
    "false_negative_nb = conf_matrix[1,0]"
   ]
  },
  {
   "cell_type": "code",
   "execution_count": 253,
   "id": "aa8d7c30",
   "metadata": {},
   "outputs": [
    {
     "data": {
      "image/png": "[encoded data removed]",
      "text/plain": [
       "<Figure size 576x576 with 1 Axes>"
      ]
     },
     "metadata": {
      "needs_background": "light"
     },
     "output_type": "display_data"
    }
   ],
   "source": [
    "plot_groups = [[false_negative_nb, true_positive_nb], [true_negative_nb, false_positive_nb]]\n",
    "plot_group_labels = [\"Positive\", \"Negative\"]\n",
    "plot_df = pd.DataFrame(plot_groups, index = plot_group_labels)\n",
    "ax = plot_df.plot(kind='bar', legend=False, width=0.5, figsize=(8,8))\n",
    "ax.legend(['Negative', 'Positive'], fontsize = 14)\n",
    "ax.set_ylabel('Frequency', fontsize = 14)\n",
    "ax.set_xlabel('Naive Bayes', fontsize = 14)\n",
    "ax.set_xticklabels(['Positive', 'Negative'], rotation = 0, fontsize = 14)\n",
    "for bars in ax.containers:\n",
    "    ax.bar_label(bars)\n",
    "plt.show()"
   ]
  },
  {
   "cell_type": "markdown",
   "id": "79fcdf53",
   "metadata": {},
   "source": [
    "# KNN with PCA"
   ]
  },
  {
   "cell_type": "code",
   "execution_count": 49,
   "id": "fd38b971",
   "metadata": {},
   "outputs": [
    {
     "data": {
      "text/plain": [
       "KNeighborsClassifier(metric='euclidean', n_neighbors=1, weights='distance')"
      ]
     },
     "execution_count": 49,
     "metadata": {},
     "output_type": "execute_result"
    }
   ],
   "source": [
    "from sklearn.neighbors import KNeighborsClassifier\n",
    "knn = KNeighborsClassifier(n_neighbors=1, weights='distance', metric='euclidean')\n",
    "knn.fit(x_train, y_train)"
   ]
  },
  {
   "cell_type": "code",
   "execution_count": 50,
   "id": "a0fd3de6",
   "metadata": {},
   "outputs": [
    {
     "data": {
      "text/plain": [
       "0.965034965034965"
      ]
     },
     "execution_count": 50,
     "metadata": {},
     "output_type": "execute_result"
    }
   ],
   "source": [
    "accuracy_knn = knn.score(x_test, y_test)\n",
    "accuracy_knn"
   ]
  },
  {
   "cell_type": "code",
   "execution_count": 51,
   "id": "cbb4dd59",
   "metadata": {},
   "outputs": [],
   "source": [
    "# making predictions using knn\n",
    "y_pred_knn = knn.predict(x_test)"
   ]
  },
  {
   "cell_type": "code",
   "execution_count": 52,
   "id": "d00a746f",
   "metadata": {},
   "outputs": [
    {
     "data": {
      "text/plain": [
       "([<matplotlib.axis.YTick at 0x2c1335ef98>,\n",
       "  <matplotlib.axis.YTick at 0x2c1335e940>],\n",
       " [Text(0, 0.5, 'Negative'), Text(0, 1.5, 'Positive')])"
      ]
     },
     "execution_count": 52,
     "metadata": {},
     "output_type": "execute_result"
    },
    {
     "data": {
      "image/png": "[encoded data removed]",
      "text/plain": [
       "<Figure size 432x288 with 2 Axes>"
      ]
     },
     "metadata": {
      "needs_background": "light"
     },
     "output_type": "display_data"
    }
   ],
   "source": [
    "# generating confusion matrix\n",
    "from sklearn.metrics import confusion_matrix\n",
    "conf_matrix = confusion_matrix(y_test, y_pred_knn)\n",
    "sns.heatmap(conf_matrix, annot = True, fmt='g')\n",
    "plt.xlabel(\"Predicted\", fontsize=18)\n",
    "plt.ylabel(\"Actual\", fontsize=18)\n",
    "plt.xticks([0.5,1.5], ['Negative', 'Positive'], fontsize = 14)\n",
    "plt.yticks([0.5,1.5], ['Negative', 'Positive'], fontsize = 14)"
   ]
  },
  {
   "cell_type": "code",
   "execution_count": 53,
   "id": "697f060a",
   "metadata": {},
   "outputs": [],
   "source": [
    "# calculating other performance evaluation parameters\n",
    "from sklearn.metrics import precision_score, recall_score, f1_score, roc_curve, auc\n",
    "precision_knn = precision_score(y_test, y_pred_knn)\n",
    "y_pred_prob_knn = knn.predict_proba(x_test)[:,1]\n",
    "fpr_knn, tpr_knn, thresholds_knn = roc_curve(y_test, y_pred_prob_knn)\n",
    "auc_knn = auc(fpr_knn, tpr_knn)\n",
    "recall_knn = recall_score(y_test, y_pred_knn)\n",
    "f1_score_knn = f1_score(y_test, y_pred_knn)"
   ]
  },
  {
   "cell_type": "code",
   "execution_count": 54,
   "id": "2a95b4e5",
   "metadata": {},
   "outputs": [
    {
     "name": "stdout",
     "output_type": "stream",
     "text": [
      "KNN performance evalation measures: \n",
      "Accuracy:  0.965\n",
      "F1 score:  0.9275\n",
      "Precision:  0.9143\n",
      "Recall:  0.9412\n",
      "AUC:  0.9568\n"
     ]
    }
   ],
   "source": [
    "print('KNN performance evalation measures: ')\n",
    "print('Accuracy: ', round(accuracy_knn, 4))\n",
    "print('F1 score: ', round(f1_score_knn, 4))\n",
    "print('Precision: ', round(precision_knn, 4))\n",
    "print('Recall: ', round(recall_knn, 4))\n",
    "print('AUC: ', round(auc_knn, 4))"
   ]
  },
  {
   "cell_type": "code",
   "execution_count": 55,
   "id": "745e0638",
   "metadata": {},
   "outputs": [],
   "source": [
    "true_positive_knn = conf_matrix[1,1]\n",
    "true_negative_knn = conf_matrix[0,0]\n",
    "false_positive_knn = conf_matrix[0,1]\n",
    "false_negative_knn = conf_matrix[1,0]"
   ]
  },
  {
   "cell_type": "code",
   "execution_count": 56,
   "id": "38ab0fc2",
   "metadata": {},
   "outputs": [
    {
     "data": {
      "image/png": "[encoded data removed]",
      "text/plain": [
       "<Figure size 576x576 with 1 Axes>"
      ]
     },
     "metadata": {
      "needs_background": "light"
     },
     "output_type": "display_data"
    }
   ],
   "source": [
    "plot_groups = [[false_negative_knn, true_positive_knn], [true_negative_knn, false_positive_knn]]\n",
    "plot_group_labels = [\"Positive\", \"Negative\"]\n",
    "plot_df = pd.DataFrame(plot_groups, index = plot_group_labels)\n",
    "ax = plot_df.plot(kind='bar', legend=False, width=0.5, figsize=(8,8))\n",
    "ax.legend(['Negative', 'Positive'], fontsize = 14)\n",
    "ax.set_ylabel('Frequency', fontsize = 14)\n",
    "ax.set_xlabel('KNN', fontsize = 14)\n",
    "ax.set_xticklabels(['Positive', 'Negative'], rotation = 0, fontsize = 14)\n",
    "for bars in ax.containers:\n",
    "    ax.bar_label(bars)\n",
    "plt.show()"
   ]
  },
  {
   "cell_type": "markdown",
   "id": "34fe777a",
   "metadata": {},
   "source": [
    "# Logistic Regression with PCA"
   ]
  },
  {
   "cell_type": "code",
   "execution_count": 57,
   "id": "4dee7ae3",
   "metadata": {},
   "outputs": [
    {
     "data": {
      "text/plain": [
       "LogisticRegression(max_iter=243)"
      ]
     },
     "execution_count": 57,
     "metadata": {},
     "output_type": "execute_result"
    }
   ],
   "source": [
    "from sklearn.linear_model import LogisticRegression\n",
    "log_reg = LogisticRegression(max_iter=243)\n",
    "log_reg.fit(x_train, y_train)\n",
    "# max_iter"
   ]
  },
  {
   "cell_type": "code",
   "execution_count": 58,
   "id": "235d4122",
   "metadata": {},
   "outputs": [
    {
     "data": {
      "text/plain": [
       "0.8741258741258742"
      ]
     },
     "execution_count": 58,
     "metadata": {},
     "output_type": "execute_result"
    }
   ],
   "source": [
    "accuracy_log_reg = log_reg.score(x_test, y_test)\n",
    "accuracy_log_reg"
   ]
  },
  {
   "cell_type": "code",
   "execution_count": 59,
   "id": "434fb3c0",
   "metadata": {},
   "outputs": [],
   "source": [
    "# making predictions using logistic regression\n",
    "y_pred_log_reg = log_reg.predict(x_test)"
   ]
  },
  {
   "cell_type": "code",
   "execution_count": 60,
   "id": "23da79f2",
   "metadata": {},
   "outputs": [
    {
     "data": {
      "text/plain": [
       "([<matplotlib.axis.YTick at 0x2c145b26d8>,\n",
       "  <matplotlib.axis.YTick at 0x2c145b2080>],\n",
       " [Text(0, 0.5, 'Negative'), Text(0, 1.5, 'Positive')])"
      ]
     },
     "execution_count": 60,
     "metadata": {},
     "output_type": "execute_result"
    },
    {
     "data": {
      "image/png": "[encoded data removed]",
      "text/plain": [
       "<Figure size 432x288 with 2 Axes>"
      ]
     },
     "metadata": {
      "needs_background": "light"
     },
     "output_type": "display_data"
    }
   ],
   "source": [
    "# generating confusion matrix\n",
    "from sklearn.metrics import confusion_matrix\n",
    "conf_matrix = confusion_matrix(y_test, y_pred_log_reg)\n",
    "sns.heatmap(conf_matrix, annot = True, fmt='g')\n",
    "plt.xlabel(\"Predicted\", fontsize=18)\n",
    "plt.ylabel(\"Actual\", fontsize=18)\n",
    "plt.xticks([0.5,1.5], ['Negative', 'Positive'], fontsize = 14)\n",
    "plt.yticks([0.5,1.5], ['Negative', 'Positive'], fontsize = 14)"
   ]
  },
  {
   "cell_type": "code",
   "execution_count": 61,
   "id": "068a72fa",
   "metadata": {},
   "outputs": [],
   "source": [
    "# calculating other performance evaluation parameters\n",
    "from sklearn.metrics import precision_score, recall_score, f1_score, roc_curve, auc\n",
    "precision_log_reg = precision_score(y_test, y_pred_log_reg)\n",
    "y_pred_prob_log_reg = log_reg.predict_proba(x_test)[:,1]\n",
    "fpr_log_reg, tpr_log_reg, thresholds_log_reg = roc_curve(y_test, y_pred_prob_log_reg)\n",
    "auc_log_reg = auc(fpr_log_reg, tpr_log_reg)\n",
    "recall_log_reg = recall_score(y_test, y_pred_log_reg)\n",
    "f1_score_log_reg = f1_score(y_test, y_pred_log_reg)"
   ]
  },
  {
   "cell_type": "code",
   "execution_count": 62,
   "id": "40b188ac",
   "metadata": {},
   "outputs": [
    {
     "name": "stdout",
     "output_type": "stream",
     "text": [
      "Logistic Regression performance evalation measures: \n",
      "Accuracy:  0.8741\n",
      "F1 score:  0.7188\n",
      "Precision:  0.7667\n",
      "Recall:  0.6765\n",
      "AUC:  0.9242\n"
     ]
    }
   ],
   "source": [
    "print('Logistic Regression performance evalation measures: ')\n",
    "print('Accuracy: ', round(accuracy_log_reg, 4))\n",
    "print('F1 score: ', round(f1_score_log_reg, 4))\n",
    "print('Precision: ', round(precision_log_reg, 4))\n",
    "print('Recall: ', round(recall_log_reg, 4))\n",
    "print('AUC: ', round(auc_log_reg, 4))"
   ]
  },
  {
   "cell_type": "code",
   "execution_count": 63,
   "id": "560041f7",
   "metadata": {},
   "outputs": [],
   "source": [
    "true_positive_log_reg = conf_matrix[1,1]\n",
    "true_negative_log_reg = conf_matrix[0,0]\n",
    "false_positive_log_reg = conf_matrix[0,1]\n",
    "false_negative_log_reg = conf_matrix[1,0]"
   ]
  },
  {
   "cell_type": "code",
   "execution_count": 64,
   "id": "e50e626c",
   "metadata": {},
   "outputs": [
    {
     "data": {
      "image/png": "[encoded data removed]",
      "text/plain": [
       "<Figure size 576x576 with 1 Axes>"
      ]
     },
     "metadata": {
      "needs_background": "light"
     },
     "output_type": "display_data"
    }
   ],
   "source": [
    "plot_groups = [[false_negative_log_reg, true_positive_log_reg], [true_negative_log_reg, false_positive_log_reg]]\n",
    "plot_group_labels = [\"Positive\", \"Negative\"]\n",
    "plot_df = pd.DataFrame(plot_groups, index = plot_group_labels)\n",
    "ax = plot_df.plot(kind='bar', legend=False, width=0.5, figsize=(8,8))\n",
    "ax.legend(['Negative', 'Positive'], fontsize = 14)\n",
    "ax.set_ylabel('Frequency', fontsize = 14)\n",
    "ax.set_xlabel('Logistic Regression', fontsize = 14)\n",
    "ax.set_xticklabels(['Positive', 'Negative'], rotation = 0, fontsize = 14)\n",
    "for bars in ax.containers:\n",
    "    ax.bar_label(bars)\n",
    "plt.show()"
   ]
  },
  {
   "cell_type": "markdown",
   "id": "27c73f43",
   "metadata": {},
   "source": [
    "# Gradient Boosting with PCA"
   ]
  },
  {
   "cell_type": "code",
   "execution_count": 65,
   "id": "90c7c6a6",
   "metadata": {},
   "outputs": [
    {
     "data": {
      "text/plain": [
       "GradientBoostingClassifier()"
      ]
     },
     "execution_count": 65,
     "metadata": {},
     "output_type": "execute_result"
    }
   ],
   "source": [
    "from sklearn.ensemble import GradientBoostingClassifier\n",
    "gbc = GradientBoostingClassifier()\n",
    "gbc.fit(x_train, y_train)"
   ]
  },
  {
   "cell_type": "code",
   "execution_count": 66,
   "id": "6fa477de",
   "metadata": {},
   "outputs": [
    {
     "data": {
      "text/plain": [
       "0.972027972027972"
      ]
     },
     "execution_count": 66,
     "metadata": {},
     "output_type": "execute_result"
    }
   ],
   "source": [
    "accuracy_gbc = gbc.score(x_test, y_test)\n",
    "accuracy_gbc"
   ]
  },
  {
   "cell_type": "code",
   "execution_count": 67,
   "id": "a0b9448d",
   "metadata": {},
   "outputs": [],
   "source": [
    "# making predictions using gradient boosting\n",
    "y_pred_gbc = gbc.predict(x_test)"
   ]
  },
  {
   "cell_type": "code",
   "execution_count": 68,
   "id": "e201d5b0",
   "metadata": {},
   "outputs": [
    {
     "data": {
      "text/plain": [
       "([<matplotlib.axis.YTick at 0x2c1455fd68>,\n",
       "  <matplotlib.axis.YTick at 0x2c1455fd30>],\n",
       " [Text(0, 0.5, 'Negative'), Text(0, 1.5, 'Positive')])"
      ]
     },
     "execution_count": 68,
     "metadata": {},
     "output_type": "execute_result"
    },
    {
     "data": {
      "image/png": "[encoded data removed]",
      "text/plain": [
       "<Figure size 432x288 with 2 Axes>"
      ]
     },
     "metadata": {
      "needs_background": "light"
     },
     "output_type": "display_data"
    }
   ],
   "source": [
    "# generating confusion matrix\n",
    "from sklearn.metrics import confusion_matrix\n",
    "conf_matrix = confusion_matrix(y_test, y_pred_gbc)\n",
    "sns.heatmap(conf_matrix, annot = True, fmt='g')\n",
    "plt.xlabel(\"Predicted\", fontsize=18)\n",
    "plt.ylabel(\"Actual\", fontsize=18)\n",
    "plt.xticks([0.5,1.5], ['Negative', 'Positive'], fontsize = 14)\n",
    "plt.yticks([0.5,1.5], ['Negative', 'Positive'], fontsize = 14)"
   ]
  },
  {
   "cell_type": "code",
   "execution_count": 69,
   "id": "c9a3c5b3",
   "metadata": {},
   "outputs": [],
   "source": [
    "# calculating other performance evaluation parameters\n",
    "from sklearn.metrics import precision_score, recall_score, f1_score, roc_curve, auc\n",
    "precision_gbc = precision_score(y_test, y_pred_gbc)\n",
    "y_pred_prob_gbc = gbc.predict_proba(x_test)[:,1]\n",
    "fpr_gbc, tpr_gbc, thresholds_gbc = roc_curve(y_test, y_pred_prob_gbc)\n",
    "auc_gbc = auc(fpr_gbc, tpr_gbc)\n",
    "recall_gbc = recall_score(y_test, y_pred_gbc)\n",
    "f1_score_gbc = f1_score(y_test, y_pred_gbc)"
   ]
  },
  {
   "cell_type": "code",
   "execution_count": 70,
   "id": "0be4eab7",
   "metadata": {},
   "outputs": [
    {
     "name": "stdout",
     "output_type": "stream",
     "text": [
      "Gradient Boosting performance evalation measures: \n",
      "Accuracy:  0.972\n",
      "F1 score:  0.9412\n",
      "Precision:  0.9412\n",
      "Recall:  0.9412\n",
      "AUC:  0.9927\n"
     ]
    }
   ],
   "source": [
    "print('Gradient Boosting performance evalation measures: ')\n",
    "print('Accuracy: ', round(accuracy_gbc, 4))\n",
    "print('F1 score: ', round(f1_score_gbc, 4))\n",
    "print('Precision: ', round(precision_gbc, 4))\n",
    "print('Recall: ', round(recall_gbc, 4))\n",
    "print('AUC: ', round(auc_gbc, 4))"
   ]
  },
  {
   "cell_type": "code",
   "execution_count": 71,
   "id": "d680d294",
   "metadata": {},
   "outputs": [],
   "source": [
    "true_positive_gbc = conf_matrix[1,1]\n",
    "true_negative_gbc = conf_matrix[0,0]\n",
    "false_positive_gbc = conf_matrix[0,1]\n",
    "false_negative_gbc = conf_matrix[1,0]"
   ]
  },
  {
   "cell_type": "code",
   "execution_count": 72,
   "id": "3456cd02",
   "metadata": {},
   "outputs": [
    {
     "data": {
      "image/png": "[encoded data removed]",
      "text/plain": [
       "<Figure size 576x576 with 1 Axes>"
      ]
     },
     "metadata": {
      "needs_background": "light"
     },
     "output_type": "display_data"
    }
   ],
   "source": [
    "plot_groups = [[false_negative_gbc, true_positive_gbc], [true_negative_gbc, false_positive_gbc]]\n",
    "plot_group_labels = [\"Positive\", \"Negative\"]\n",
    "plot_df = pd.DataFrame(plot_groups, index = plot_group_labels)\n",
    "ax = plot_df.plot(kind='bar', legend=False, width=0.5, figsize=(8,8))\n",
    "ax.legend(['Negative', 'Positive'], fontsize = 14)\n",
    "ax.set_ylabel('Frequency', fontsize = 14)\n",
    "ax.set_xlabel('Gradient Boosting', fontsize = 14)\n",
    "ax.set_xticklabels(['Positive', 'Negative'], rotation = 0, fontsize = 14)\n",
    "for bars in ax.containers:\n",
    "    ax.bar_label(bars)\n",
    "plt.show()"
   ]
  },
  {
   "cell_type": "markdown",
   "id": "48fa5a8f",
   "metadata": {},
   "source": [
    "# SVM with PCA"
   ]
  },
  {
   "cell_type": "code",
   "execution_count": 73,
   "id": "9241625c",
   "metadata": {},
   "outputs": [
    {
     "data": {
      "text/plain": [
       "SVC(coef0=1.1, gamma=0.05, kernel='poly')"
      ]
     },
     "execution_count": 73,
     "metadata": {},
     "output_type": "execute_result"
    }
   ],
   "source": [
    "from sklearn.svm import SVC\n",
    "svm = SVC(kernel='poly', coef0=1.1, tol=0.001, gamma=0.05)\n",
    "svm.fit(x_train, y_train)"
   ]
  },
  {
   "cell_type": "code",
   "execution_count": 74,
   "id": "b4e5ba3d",
   "metadata": {},
   "outputs": [
    {
     "data": {
      "text/plain": [
       "0.9300699300699301"
      ]
     },
     "execution_count": 74,
     "metadata": {},
     "output_type": "execute_result"
    }
   ],
   "source": [
    "accuracy_svm = svm.score(x_test, y_test)\n",
    "accuracy_svm"
   ]
  },
  {
   "cell_type": "code",
   "execution_count": 75,
   "id": "5e1f45ff",
   "metadata": {},
   "outputs": [],
   "source": [
    "# making predictions using SVM\n",
    "y_pred_svm = svm.predict(x_test)"
   ]
  },
  {
   "cell_type": "code",
   "execution_count": 76,
   "id": "1627a07f",
   "metadata": {},
   "outputs": [
    {
     "data": {
      "text/plain": [
       "([<matplotlib.axis.YTick at 0x2c05d24c18>,\n",
       "  <matplotlib.axis.YTick at 0x2c05d245c0>],\n",
       " [Text(0, 0.5, 'Negative'), Text(0, 1.5, 'Positive')])"
      ]
     },
     "execution_count": 76,
     "metadata": {},
     "output_type": "execute_result"
    },
    {
     "data": {
      "image/png": "[encoded data removed]",
      "text/plain": [
       "<Figure size 432x288 with 2 Axes>"
      ]
     },
     "metadata": {
      "needs_background": "light"
     },
     "output_type": "display_data"
    }
   ],
   "source": [
    "# generating confusion matrix\n",
    "from sklearn.metrics import confusion_matrix\n",
    "conf_matrix = confusion_matrix(y_test, y_pred_svm)\n",
    "sns.heatmap(conf_matrix, annot = True, fmt='g')\n",
    "plt.xlabel(\"Predicted\", fontsize=18)\n",
    "plt.ylabel(\"Actual\", fontsize=18)\n",
    "plt.xticks([0.5,1.5], ['Negative', 'Positive'], fontsize = 14)\n",
    "plt.yticks([0.5,1.5], ['Negative', 'Positive'], fontsize = 14)"
   ]
  },
  {
   "cell_type": "code",
   "execution_count": 77,
   "id": "f0ef5a94",
   "metadata": {},
   "outputs": [],
   "source": [
    "# calculating other performance evaluation parameters\n",
    "from sklearn.metrics import precision_score, recall_score, f1_score, roc_curve, auc\n",
    "precision_svm = precision_score(y_test, y_pred_svm)\n",
    "y_pred_prob_svm = gbc.predict_proba(x_test)[:,1]\n",
    "fpr_svm, tpr_svm, thresholds_gbc = roc_curve(y_test, y_pred_prob_svm)\n",
    "auc_svm = auc(fpr_svm, tpr_svm)\n",
    "recall_svm = recall_score(y_test, y_pred_svm)\n",
    "f1_score_svm = f1_score(y_test, y_pred_svm)"
   ]
  },
  {
   "cell_type": "code",
   "execution_count": 78,
   "id": "bed12e33",
   "metadata": {},
   "outputs": [
    {
     "name": "stdout",
     "output_type": "stream",
     "text": [
      "SVM performance evalation measures: \n",
      "Accuracy:  0.9301\n",
      "F1 score:  0.8438\n",
      "Precision:  0.9\n",
      "Recall:  0.7941\n",
      "AUC:  0.9927\n"
     ]
    }
   ],
   "source": [
    "print('SVM performance evalation measures: ')\n",
    "print('Accuracy: ', round(accuracy_svm, 4))\n",
    "print('F1 score: ', round(f1_score_svm, 4))\n",
    "print('Precision: ', round(precision_svm, 4))\n",
    "print('Recall: ', round(recall_svm, 4))\n",
    "print('AUC: ', round(auc_svm, 4))"
   ]
  },
  {
   "cell_type": "code",
   "execution_count": 79,
   "id": "93d23024",
   "metadata": {},
   "outputs": [],
   "source": [
    "true_positive_svm = conf_matrix[1,1]\n",
    "true_negative_svm = conf_matrix[0,0]\n",
    "false_positive_svm = conf_matrix[0,1]\n",
    "false_negative_svm = conf_matrix[1,0]"
   ]
  },
  {
   "cell_type": "code",
   "execution_count": 80,
   "id": "1110fc26",
   "metadata": {},
   "outputs": [
    {
     "data": {
      "image/png": "[encoded data removed]",
      "text/plain": [
       "<Figure size 576x576 with 1 Axes>"
      ]
     },
     "metadata": {
      "needs_background": "light"
     },
     "output_type": "display_data"
    }
   ],
   "source": [
    "plot_groups = [[false_negative_svm, true_positive_svm], [true_negative_svm, false_positive_svm]]\n",
    "plot_group_labels = [\"Positive\", \"Negative\"]\n",
    "plot_df = pd.DataFrame(plot_groups, index = plot_group_labels)\n",
    "ax = plot_df.plot(kind='bar', legend=False, width=0.5, figsize=(8,8))\n",
    "ax.legend(['Negative', 'Positive'], fontsize = 14)\n",
    "ax.set_ylabel('Frequency', fontsize = 14)\n",
    "ax.set_xlabel('SVM', fontsize = 14)\n",
    "ax.set_xticklabels(['Positive', 'Negative'], rotation = 0, fontsize = 14)\n",
    "for bars in ax.containers:\n",
    "    ax.bar_label(bars)\n",
    "plt.show()"
   ]
  },
  {
   "cell_type": "code",
   "execution_count": 98,
   "id": "8fceb67c",
   "metadata": {},
   "outputs": [
    {
     "data": {
      "text/plain": [
       "<matplotlib.legend.Legend at 0xd4bc7dbe80>"
      ]
     },
     "execution_count": 98,
     "metadata": {},
     "output_type": "execute_result"
    },
    {
     "data": {
      "image/png": "[encoded data removed]",
      "text/plain": [
       "<Figure size 864x576 with 1 Axes>"
      ]
     },
     "metadata": {
      "needs_background": "light"
     },
     "output_type": "display_data"
    }
   ],
   "source": [
    "# Plotting ROC curve\n",
    "plt.figure(figsize = (12,8))\n",
    "plt.plot(fpr_rf,tpr_rf,label=\"Random Forest\")\n",
    "plt.plot(fpr_log_reg,tpr_log_reg,label=\"Logistic Regression\")\n",
    "plt.plot(fpr_dt,tpr_dt,label=\"Decision Tree\")\n",
    "plt.plot(fpr_knn,tpr_knn,label=\"KNN\")\n",
    "plt.plot(fpr_svm,tpr_svm,label=\"SVM\")\n",
    "plt.plot(fpr_gbc,tpr_gbc,label=\"Gradient Boosting\")\n",
    "#plt.plot(fpr_nb,tpr_nb,label=\"Naive Bayes\")\n",
    "plt.xlabel('FP Rate (1-Specificity)', fontsize=16)\n",
    "plt.ylabel('TP Rate (Sensitivity)', fontsize=16)\n",
    "plt.title('ROC Curve', fontsize=16)\n",
    "plt.legend()"
   ]
  },
  {
   "cell_type": "code",
   "execution_count": 83,
   "id": "f1a1cb81",
   "metadata": {},
   "outputs": [
    {
     "data": {
      "text/plain": [
       "[Text(0, 0, '0.972'),\n",
       " Text(0, 0, '0.972'),\n",
       " Text(0, 0, '0.965'),\n",
       " Text(0, 0, '0.874'),\n",
       " Text(0, 0, '0.972'),\n",
       " Text(0, 0, '0.93')]"
      ]
     },
     "execution_count": 83,
     "metadata": {},
     "output_type": "execute_result"
    },
    {
     "data": {
      "image/png": "[encoded data removed]",
      "text/plain": [
       "<Figure size 432x288 with 1 Axes>"
      ]
     },
     "metadata": {
      "needs_background": "light"
     },
     "output_type": "display_data"
    }
   ],
   "source": [
    "# plotting all the accuracy of algorithm in a bar plot \n",
    "import numpy as np\n",
    "x_index = np.arange(6)\n",
    "y = [round(accuracy_rf,3), round(accuracy_dt,3), round(accuracy_knn,3), round(accuracy_log_reg,3), \n",
    "     round(accuracy_gbc,3), round(accuracy_svm,3)]\n",
    "algo = ['Random forest', 'Decision tree', 'KNN', 'Logistic regression', 'Gradient boosting', 'SVM']\n",
    "fig, ax = plt.subplots()\n",
    "ax.set_xticks(x_index, labels = algo, rotation = 90)\n",
    "bars = ax.bar(x_index, y, color=['red', 'blue', 'yellow', 'brown', 'orange', 'green', 'pink'])\n",
    "ax.set_ylabel('Accuracy')\n",
    "ax.set_xlabel('ML Algorthims')\n",
    "ax.bar_label(bars)"
   ]
  }
 ],
 "metadata": {
  "kernelspec": {
   "display_name": "Python 3 (ipykernel)",
   "language": "python",
   "name": "python3"
  },
  "language_info": {
   "codemirror_mode": {
    "name": "ipython",
    "version": 3
   },
   "file_extension": ".py",
   "mimetype": "text/x-python",
   "name": "python",
   "nbconvert_exporter": "python",
   "pygments_lexer": "ipython3",
   "version": "3.7.0"
  }
 },
 "nbformat": 4,
 "nbformat_minor": 5
}
